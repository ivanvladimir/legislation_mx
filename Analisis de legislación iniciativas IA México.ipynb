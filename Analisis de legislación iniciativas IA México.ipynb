{
 "cells": [
  {
   "cell_type": "markdown",
   "id": "8aef6f83-1477-4111-b827-2a505d4fb5d8",
   "metadata": {},
   "source": [
    "# Analysis of legislation_mx DB"
   ]
  },
  {
   "cell_type": "code",
   "execution_count": 2,
   "id": "b4dcf8de-cd2d-41a3-aa1d-8423d8d685de",
   "metadata": {},
   "outputs": [],
   "source": [
    "from rich import print\n",
    "from rich.console import Console\n",
    "from rich.progress import track\n",
    "from tinydb import TinyDB, Query\n",
    "from ipyfilechooser import FileChooser\n",
    "import ipywidgets as widgets\n",
    "import pandas as pd\n",
    "import getpass\n",
    "import time\n",
    "from collections import Counter\n",
    "import itertools"
   ]
  },
  {
   "cell_type": "code",
   "execution_count": 3,
   "id": "4ce42349-021a-48cb-9264-03eca3e07fa4",
   "metadata": {},
   "outputs": [],
   "source": [
    "from pyecharts.globals import CurrentConfig, NotebookType\n",
    "CurrentConfig.NOTEBOOK_TYPE = NotebookType.JUPYTER_LAB\n",
    "\n",
    "from pyecharts.charts import Bar, Grid\n",
    "from pyecharts import options as opts\n",
    "from pyecharts.globals import ThemeType\n",
    "from pyecharts.globals import ThemeType"
   ]
  },
  {
   "cell_type": "code",
   "execution_count": 4,
   "id": "850940ab-fd50-40ac-b136-5e411bf64aa0",
   "metadata": {},
   "outputs": [
    {
     "data": {
      "application/vnd.jupyter.widget-view+json": {
       "model_id": "1ebff7e597ae4b879a92cdc1d0327f65",
       "version_major": 2,
       "version_minor": 0
      },
      "text/plain": [
       "FileChooser(path='/home/ivanvladimir/projects/legislation_mx', filename='', title='', show_hidden=False, selec…"
      ]
     },
     "metadata": {},
     "output_type": "display_data"
    }
   ],
   "source": [
    "fc = FileChooser('.')\n",
    "display(fc)"
   ]
  },
  {
   "cell_type": "code",
   "execution_count": 5,
   "id": "c9064b49-7bd2-4808-88a6-95398d142d52",
   "metadata": {},
   "outputs": [],
   "source": [
    "db = TinyDB(fc.selected, encoding=\"utf-8\")"
   ]
  },
  {
   "cell_type": "code",
   "execution_count": 6,
   "id": "103049ce-0c96-482f-a072-132ddd5af84a",
   "metadata": {},
   "outputs": [],
   "source": [
    "def flatten_dict(dd, separator ='_', prefix =''):\n",
    "    return { prefix + separator + k if prefix else k : v\n",
    "             for kk, vv in dd.items()\n",
    "             for k, v in flatten_dict(vv, separator, kk).items()\n",
    "             } if isinstance(dd, dict) else { prefix : dd }\n",
    "\n",
    "data=[]\n",
    "for i, result in enumerate(db):\n",
    "    result_=flatten_dict(result)\n",
    "    data.append(flatten_dict(result))\n",
    "\n",
    "df = pd.DataFrame(data=data,columns=result_.keys())\n",
    "df['presented_date']=pd.to_datetime(df['presented_date'])\n",
    "df=df.set_index('presented_date')\n",
    "df.sort_index()\n",
    "pass"
   ]
  },
  {
   "cell_type": "code",
   "execution_count": 7,
   "id": "add6e980-6125-4ab7-9e3a-d2b2d0b6fd91",
   "metadata": {},
   "outputs": [],
   "source": [
    "def toolbox_fun(t_=['bar','line']):\n",
    "    return opts.ToolboxOpts(\n",
    "        feature=opts.ToolBoxFeatureOpts(\n",
    "                            save_as_image=opts.ToolBoxFeatureSaveAsImageOpts(title=\"Bajar imagen\"),\n",
    "                            restore=opts.ToolBoxFeatureRestoreOpts(title=\"Restaurar\"),\n",
    "                            data_view=opts.ToolBoxFeatureDataViewOpts(title=\"Ver datos\", lang=[\"Ver datos\", \"Cerrar\", \"Actualizar\"]),\n",
    "                            data_zoom=opts.ToolBoxFeatureDataZoomOpts(zoom_title=\"Acercarse\",back_title=\"Alejarse\"),\n",
    "                            magic_type=opts.ToolBoxFeatureMagicTypeOpts(line_title=\"Linea\",bar_title=\"barra\", type_=t_) \n",
    "                          ))"
   ]
  },
  {
   "cell_type": "code",
   "execution_count": 8,
   "id": "c409bc6d-370a-4f09-a5ce-5831e83982fc",
   "metadata": {},
   "outputs": [],
   "source": [
    "df_yearly=df.groupby(pd.Grouper(freq=\"YE\")).agg('count')\n",
    "\n",
    "bar = (\n",
    "    Bar(init_opts=opts.InitOpts(theme=ThemeType.WESTEROS))\n",
    "    .add_xaxis(df_yearly.index.year.to_list())\n",
    "    .add_yaxis(\"Iniciativas\", df_yearly['num'].to_list())\n",
    "    .set_global_opts(title_opts=opts.TitleOpts(title=\"Iniciativas que mencionan Inteligencia Artificial\", subtitle=\"Por año\"),\n",
    "                     toolbox_opts=toolbox_fun(),\n",
    "                     legend_opts=opts.LegendOpts(is_show=False))\n",
    ")\n"
   ]
  },
  {
   "cell_type": "code",
   "execution_count": 9,
   "id": "ef0ca82d-6648-4b47-8ece-12353334ea43",
   "metadata": {},
   "outputs": [
    {
     "data": {
      "application/javascript": [
       "new Promise(function(resolve, reject) {\n",
       "    var script = document.createElement(\"script\");\n",
       "    script.onload = resolve;\n",
       "    script.onerror = reject;\n",
       "    script.src = \"https://assets.pyecharts.org/assets/v5/echarts.min.js\";\n",
       "    document.head.appendChild(script);\n",
       "}).then(() => {\n",
       "\n",
       "});"
      ],
      "text/plain": [
       "<pyecharts.render.display.Javascript at 0x7f7bed20e590>"
      ]
     },
     "execution_count": 9,
     "metadata": {},
     "output_type": "execute_result"
    }
   ],
   "source": [
    "bar.load_javascript()"
   ]
  },
  {
   "cell_type": "code",
   "execution_count": 10,
   "id": "8d86e635-7047-4b52-82e6-fce7b52e564c",
   "metadata": {},
   "outputs": [
    {
     "data": {
      "text/html": [
       "<!DOCTYPE html>\n",
       "<html>\n",
       "<head>\n",
       "    <meta charset=\"UTF-8\">\n",
       "</head>\n",
       "<body>\n",
       "        <div id=\"c13894a289534c9e81d789ee1df2c3e3\" class=\"chart-container\" style=\"width:900px; height:500px; \"></div>\n",
       "    <script>\n",
       "        var chart_c13894a289534c9e81d789ee1df2c3e3 = echarts.init(\n",
       "            document.getElementById('c13894a289534c9e81d789ee1df2c3e3'), 'westeros', {renderer: 'canvas'});\n",
       "        var option_c13894a289534c9e81d789ee1df2c3e3 = {\n",
       "    \"animation\": true,\n",
       "    \"animationThreshold\": 2000,\n",
       "    \"animationDuration\": 1000,\n",
       "    \"animationEasing\": \"cubicOut\",\n",
       "    \"animationDelay\": 0,\n",
       "    \"animationDurationUpdate\": 300,\n",
       "    \"animationEasingUpdate\": \"cubicOut\",\n",
       "    \"animationDelayUpdate\": 0,\n",
       "    \"aria\": {\n",
       "        \"enabled\": false\n",
       "    },\n",
       "    \"series\": [\n",
       "        {\n",
       "            \"type\": \"bar\",\n",
       "            \"name\": \"Iniciativas\",\n",
       "            \"legendHoverLink\": true,\n",
       "            \"data\": [\n",
       "                2,\n",
       "                4,\n",
       "                0,\n",
       "                31,\n",
       "                21\n",
       "            ],\n",
       "            \"realtimeSort\": false,\n",
       "            \"showBackground\": false,\n",
       "            \"stackStrategy\": \"samesign\",\n",
       "            \"cursor\": \"pointer\",\n",
       "            \"barMinHeight\": 0,\n",
       "            \"barCategoryGap\": \"20%\",\n",
       "            \"barGap\": \"30%\",\n",
       "            \"large\": false,\n",
       "            \"largeThreshold\": 400,\n",
       "            \"seriesLayoutBy\": \"column\",\n",
       "            \"datasetIndex\": 0,\n",
       "            \"clip\": true,\n",
       "            \"zlevel\": 0,\n",
       "            \"z\": 2,\n",
       "            \"label\": {\n",
       "                \"show\": true,\n",
       "                \"margin\": 8\n",
       "            }\n",
       "        }\n",
       "    ],\n",
       "    \"legend\": [\n",
       "        {\n",
       "            \"data\": [\n",
       "                \"Iniciativas\"\n",
       "            ],\n",
       "            \"selected\": {},\n",
       "            \"show\": false,\n",
       "            \"padding\": 5,\n",
       "            \"itemGap\": 10,\n",
       "            \"itemWidth\": 25,\n",
       "            \"itemHeight\": 14,\n",
       "            \"backgroundColor\": \"transparent\",\n",
       "            \"borderColor\": \"#ccc\",\n",
       "            \"borderRadius\": 0,\n",
       "            \"pageButtonItemGap\": 5,\n",
       "            \"pageButtonPosition\": \"end\",\n",
       "            \"pageFormatter\": \"{current}/{total}\",\n",
       "            \"pageIconColor\": \"#2f4554\",\n",
       "            \"pageIconInactiveColor\": \"#aaa\",\n",
       "            \"pageIconSize\": 15,\n",
       "            \"animationDurationUpdate\": 800,\n",
       "            \"selector\": false,\n",
       "            \"selectorPosition\": \"auto\",\n",
       "            \"selectorItemGap\": 7,\n",
       "            \"selectorButtonGap\": 10\n",
       "        }\n",
       "    ],\n",
       "    \"tooltip\": {\n",
       "        \"show\": true,\n",
       "        \"trigger\": \"item\",\n",
       "        \"triggerOn\": \"mousemove|click\",\n",
       "        \"axisPointer\": {\n",
       "            \"type\": \"line\"\n",
       "        },\n",
       "        \"showContent\": true,\n",
       "        \"alwaysShowContent\": false,\n",
       "        \"showDelay\": 0,\n",
       "        \"hideDelay\": 100,\n",
       "        \"enterable\": false,\n",
       "        \"confine\": false,\n",
       "        \"appendToBody\": false,\n",
       "        \"transitionDuration\": 0.4,\n",
       "        \"textStyle\": {\n",
       "            \"fontSize\": 14\n",
       "        },\n",
       "        \"borderWidth\": 0,\n",
       "        \"padding\": 5,\n",
       "        \"order\": \"seriesAsc\"\n",
       "    },\n",
       "    \"xAxis\": [\n",
       "        {\n",
       "            \"show\": true,\n",
       "            \"scale\": false,\n",
       "            \"nameLocation\": \"end\",\n",
       "            \"nameGap\": 15,\n",
       "            \"gridIndex\": 0,\n",
       "            \"inverse\": false,\n",
       "            \"offset\": 0,\n",
       "            \"splitNumber\": 5,\n",
       "            \"minInterval\": 0,\n",
       "            \"splitLine\": {\n",
       "                \"show\": true,\n",
       "                \"lineStyle\": {\n",
       "                    \"show\": true,\n",
       "                    \"width\": 1,\n",
       "                    \"opacity\": 1,\n",
       "                    \"curveness\": 0,\n",
       "                    \"type\": \"solid\"\n",
       "                }\n",
       "            },\n",
       "            \"data\": [\n",
       "                2020,\n",
       "                2021,\n",
       "                2022,\n",
       "                2023,\n",
       "                2024\n",
       "            ]\n",
       "        }\n",
       "    ],\n",
       "    \"yAxis\": [\n",
       "        {\n",
       "            \"show\": true,\n",
       "            \"scale\": false,\n",
       "            \"nameLocation\": \"end\",\n",
       "            \"nameGap\": 15,\n",
       "            \"gridIndex\": 0,\n",
       "            \"inverse\": false,\n",
       "            \"offset\": 0,\n",
       "            \"splitNumber\": 5,\n",
       "            \"minInterval\": 0,\n",
       "            \"splitLine\": {\n",
       "                \"show\": true,\n",
       "                \"lineStyle\": {\n",
       "                    \"show\": true,\n",
       "                    \"width\": 1,\n",
       "                    \"opacity\": 1,\n",
       "                    \"curveness\": 0,\n",
       "                    \"type\": \"solid\"\n",
       "                }\n",
       "            }\n",
       "        }\n",
       "    ],\n",
       "    \"title\": [\n",
       "        {\n",
       "            \"show\": true,\n",
       "            \"text\": \"Iniciativas que mencionan Inteligencia Artificial\",\n",
       "            \"target\": \"blank\",\n",
       "            \"subtext\": \"Por a\\u00f1o\",\n",
       "            \"subtarget\": \"blank\",\n",
       "            \"padding\": 5,\n",
       "            \"itemGap\": 10,\n",
       "            \"textAlign\": \"auto\",\n",
       "            \"textVerticalAlign\": \"auto\",\n",
       "            \"triggerEvent\": false\n",
       "        }\n",
       "    ],\n",
       "    \"toolbox\": {\n",
       "        \"show\": true,\n",
       "        \"orient\": \"horizontal\",\n",
       "        \"itemSize\": 15,\n",
       "        \"itemGap\": 10,\n",
       "        \"left\": \"80%\",\n",
       "        \"feature\": {\n",
       "            \"saveAsImage\": {\n",
       "                \"type\": \"png\",\n",
       "                \"backgroundColor\": \"auto\",\n",
       "                \"connectedBackgroundColor\": \"#fff\",\n",
       "                \"show\": true,\n",
       "                \"title\": \"Bajar imagen\",\n",
       "                \"pixelRatio\": 1\n",
       "            },\n",
       "            \"restore\": {\n",
       "                \"show\": true,\n",
       "                \"title\": \"Restaurar\"\n",
       "            },\n",
       "            \"dataView\": {\n",
       "                \"show\": true,\n",
       "                \"title\": \"Ver datos\",\n",
       "                \"readOnly\": false,\n",
       "                \"lang\": [\n",
       "                    \"Ver datos\",\n",
       "                    \"Cerrar\",\n",
       "                    \"Actualizar\"\n",
       "                ],\n",
       "                \"backgroundColor\": \"#fff\",\n",
       "                \"textareaColor\": \"#fff\",\n",
       "                \"textareaBorderColor\": \"#333\",\n",
       "                \"textColor\": \"#000\",\n",
       "                \"buttonColor\": \"#c23531\",\n",
       "                \"buttonTextColor\": \"#fff\"\n",
       "            },\n",
       "            \"dataZoom\": {\n",
       "                \"show\": true,\n",
       "                \"title\": {\n",
       "                    \"zoom\": \"Acercarse\",\n",
       "                    \"back\": \"Alejarse\"\n",
       "                },\n",
       "                \"icon\": {},\n",
       "                \"filterMode\": \"filter\"\n",
       "            },\n",
       "            \"magicType\": {\n",
       "                \"show\": true,\n",
       "                \"type\": [\n",
       "                    \"bar\",\n",
       "                    \"line\"\n",
       "                ],\n",
       "                \"title\": {\n",
       "                    \"line\": \"Linea\",\n",
       "                    \"bar\": \"barra\",\n",
       "                    \"stack\": \"\\u5207\\u6362\\u4e3a\\u5806\\u53e0\",\n",
       "                    \"tiled\": \"\\u5207\\u6362\\u4e3a\\u5e73\\u94fa\"\n",
       "                },\n",
       "                \"icon\": {}\n",
       "            }\n",
       "        }\n",
       "    }\n",
       "};\n",
       "        chart_c13894a289534c9e81d789ee1df2c3e3.setOption(option_c13894a289534c9e81d789ee1df2c3e3);\n",
       "    </script>\n",
       "</body>\n",
       "</html>\n"
      ],
      "text/plain": [
       "<pyecharts.render.display.HTML at 0x7f7bedc007d0>"
      ]
     },
     "execution_count": 10,
     "metadata": {},
     "output_type": "execute_result"
    }
   ],
   "source": [
    "bar.render_notebook()"
   ]
  },
  {
   "cell_type": "code",
   "execution_count": 33,
   "id": "be598902-044e-4ba4-9b74-24e1eb4340f8",
   "metadata": {},
   "outputs": [
    {
     "data": {
      "text/plain": [
       "'/home/ivanvladimir/projects/legislation_mx/yearly.html'"
      ]
     },
     "execution_count": 33,
     "metadata": {},
     "output_type": "execute_result"
    }
   ],
   "source": [
    "bar.render(\"yearly.html\")"
   ]
  },
  {
   "cell_type": "code",
   "execution_count": 88,
   "id": "16241d8b-43fa-47a7-b80b-13b36105e750",
   "metadata": {},
   "outputs": [
    {
     "data": {
      "text/html": [
       "<pre style=\"white-space:pre;overflow-x:auto;line-height:normal;font-family:Menlo,'DejaVu Sans Mono',consolas,'Courier New',monospace\"><span style=\"color: #008080; text-decoration-color: #008080; font-weight: bold\">1</span>. <span style=\"font-weight: bold\">[</span>Que reforma y adiciona diversas disposiciones de la Ley de Ciencia y Tecnología y de la Ley General de Salud.<span style=\"font-weight: bold\">](</span><span style=\"color: #0000ff; text-decoration-color: #0000ff; text-decoration: underline\">http://sil.gobernacion.gob.mx/Librerias/pp_ContenidoAsuntos.php?SID=9e87752c7b3a9c94018e2abdc92e7c5b&amp;Clave=4035539)</span><span style=\"font-weight: bold\">&lt;</span><span style=\"color: #800080; text-decoration-color: #800080\">/</span><span style=\"color: #ff00ff; text-decoration-color: #ff00ff\">br</span><span style=\"font-weight: bold\">&gt;</span>\n",
       "   PAN Dip. Carlos Humberto Castaños Valenzuela, Cámara de Diputados , PAN, <span style=\"color: #008080; text-decoration-color: #008080; font-weight: bold\">4</span>/<span style=\"color: #008080; text-decoration-color: #008080; font-weight: bold\">2020</span>\n",
       "</pre>\n"
      ],
      "text/plain": [
       "\u001b[1;36m1\u001b[0m. \u001b[1m[\u001b[0mQue reforma y adiciona diversas disposiciones de la Ley de Ciencia y Tecnología y de la Ley General de Salud.\u001b[1m]\u001b[0m\u001b[1m(\u001b[0m\u001b[4;94mhttp://sil.gobernacion.gob.mx/Librerias/pp_ContenidoAsuntos.php?\u001b[0m\u001b[4;94mSID\u001b[0m\u001b[4;94m=\u001b[0m\u001b[4;94m9e87752c7b3a9c94018e2abdc92e7c5b\u001b[0m\u001b[4;94m&\u001b[0m\u001b[4;94mClave\u001b[0m\u001b[4;94m=\u001b[0m\u001b[4;94m4035539\u001b[0m\u001b[4;94m)\u001b[0m\u001b[1m<\u001b[0m\u001b[35m/\u001b[0m\u001b[95mbr\u001b[0m\u001b[1m>\u001b[0m\n",
       "   PAN Dip. Carlos Humberto Castaños Valenzuela, Cámara de Diputados , PAN, \u001b[1;36m4\u001b[0m/\u001b[1;36m2020\u001b[0m\n"
      ]
     },
     "metadata": {},
     "output_type": "display_data"
    },
    {
     "data": {
      "text/html": [
       "<pre style=\"white-space:pre;overflow-x:auto;line-height:normal;font-family:Menlo,'DejaVu Sans Mono',consolas,'Courier New',monospace\"><span style=\"color: #008080; text-decoration-color: #008080; font-weight: bold\">1</span>. <span style=\"font-weight: bold\">[</span>Que expide la Ley que crea la Universidad de Tecnologías de la Información, Comunicaciones e Innovación.<span style=\"font-weight: bold\">](</span><span style=\"color: #0000ff; text-decoration-color: #0000ff; text-decoration: underline\">http://sil.gobernacion.gob.mx/Librerias/pp_ContenidoAsuntos.php?SID=9e87752c7b3a9c94018e2abdc92e7c5b&amp;Clave=4059591)</span><span style=\"font-weight: bold\">&lt;</span><span style=\"color: #800080; text-decoration-color: #800080\">/</span><span style=\"color: #ff00ff; text-decoration-color: #ff00ff\">br</span><span style=\"font-weight: bold\">&gt;</span>\n",
       "   Dip. Carlos Iván Ayala Bobadilla, Comisión Permanente , Morena, <span style=\"color: #008080; text-decoration-color: #008080; font-weight: bold\">8</span>/<span style=\"color: #008080; text-decoration-color: #008080; font-weight: bold\">2020</span>\n",
       "</pre>\n"
      ],
      "text/plain": [
       "\u001b[1;36m1\u001b[0m. \u001b[1m[\u001b[0mQue expide la Ley que crea la Universidad de Tecnologías de la Información, Comunicaciones e Innovación.\u001b[1m]\u001b[0m\u001b[1m(\u001b[0m\u001b[4;94mhttp://sil.gobernacion.gob.mx/Librerias/pp_ContenidoAsuntos.php?\u001b[0m\u001b[4;94mSID\u001b[0m\u001b[4;94m=\u001b[0m\u001b[4;94m9e87752c7b3a9c94018e2abdc92e7c5b\u001b[0m\u001b[4;94m&\u001b[0m\u001b[4;94mClave\u001b[0m\u001b[4;94m=\u001b[0m\u001b[4;94m4059591\u001b[0m\u001b[4;94m)\u001b[0m\u001b[1m<\u001b[0m\u001b[35m/\u001b[0m\u001b[95mbr\u001b[0m\u001b[1m>\u001b[0m\n",
       "   Dip. Carlos Iván Ayala Bobadilla, Comisión Permanente , Morena, \u001b[1;36m8\u001b[0m/\u001b[1;36m2020\u001b[0m\n"
      ]
     },
     "metadata": {},
     "output_type": "display_data"
    },
    {
     "data": {
      "text/html": [
       "<pre style=\"white-space:pre;overflow-x:auto;line-height:normal;font-family:Menlo,'DejaVu Sans Mono',consolas,'Courier New',monospace\"><span style=\"color: #008080; text-decoration-color: #008080; font-weight: bold\">1</span>. <span style=\"font-weight: bold\">[</span>Que reforma y adiciona diversas disposiciones de la Ley de Ciencia y Tecnología.<span style=\"font-weight: bold\">](</span><span style=\"color: #0000ff; text-decoration-color: #0000ff; text-decoration: underline\">http://sil.gobernacion.gob.mx/Librerias/pp_ContenidoAsuntos.php?SID=9e87752c7b3a9c94018e2abdc92e7c5b&amp;Clave=4128934)</span><span style=\"font-weight: bold\">&lt;</span><span style=\"color: #800080; text-decoration-color: #800080\">/</span><span style=\"color: #ff00ff; text-decoration-color: #ff00ff\">br</span><span style=\"font-weight: bold\">&gt;</span>\n",
       "   Dip. Mario Alberto Rodríguez Carrillo, Comisión Permanente , MC, <span style=\"color: #008080; text-decoration-color: #008080; font-weight: bold\">1</span>/<span style=\"color: #008080; text-decoration-color: #008080; font-weight: bold\">2021</span>\n",
       "</pre>\n"
      ],
      "text/plain": [
       "\u001b[1;36m1\u001b[0m. \u001b[1m[\u001b[0mQue reforma y adiciona diversas disposiciones de la Ley de Ciencia y Tecnología.\u001b[1m]\u001b[0m\u001b[1m(\u001b[0m\u001b[4;94mhttp://sil.gobernacion.gob.mx/Librerias/pp_ContenidoAsuntos.php?\u001b[0m\u001b[4;94mSID\u001b[0m\u001b[4;94m=\u001b[0m\u001b[4;94m9e87752c7b3a9c94018e2abdc92e7c5b\u001b[0m\u001b[4;94m&\u001b[0m\u001b[4;94mClave\u001b[0m\u001b[4;94m=\u001b[0m\u001b[4;94m4128934\u001b[0m\u001b[4;94m)\u001b[0m\u001b[1m<\u001b[0m\u001b[35m/\u001b[0m\u001b[95mbr\u001b[0m\u001b[1m>\u001b[0m\n",
       "   Dip. Mario Alberto Rodríguez Carrillo, Comisión Permanente , MC, \u001b[1;36m1\u001b[0m/\u001b[1;36m2021\u001b[0m\n"
      ]
     },
     "metadata": {},
     "output_type": "display_data"
    },
    {
     "data": {
      "text/html": [
       "<pre style=\"white-space:pre;overflow-x:auto;line-height:normal;font-family:Menlo,'DejaVu Sans Mono',consolas,'Courier New',monospace\"><span style=\"color: #008080; text-decoration-color: #008080; font-weight: bold\">1</span>. <span style=\"font-weight: bold\">[</span>Que adiciona el artículo <span style=\"color: #008080; text-decoration-color: #008080; font-weight: bold\">77</span> Bis a la Ley General de Salud.<span style=\"font-weight: bold\">](</span><span style=\"color: #0000ff; text-decoration-color: #0000ff; text-decoration: underline\">http://sil.gobernacion.gob.mx/Librerias/pp_ContenidoAsuntos.php?SID=9e87752c7b3a9c94018e2abdc92e7c5b&amp;Clave=4129756)</span><span style=\"font-weight: bold\">&lt;</span><span style=\"color: #800080; text-decoration-color: #800080\">/</span><span style=\"color: #ff00ff; text-decoration-color: #ff00ff\">br</span><span style=\"font-weight: bold\">&gt;</span>\n",
       "   Sen. Nuvia Magdalena Mayorga Delgado, Comisión Permanente , PRI, <span style=\"color: #008080; text-decoration-color: #008080; font-weight: bold\">1</span>/<span style=\"color: #008080; text-decoration-color: #008080; font-weight: bold\">2021</span>\n",
       "</pre>\n"
      ],
      "text/plain": [
       "\u001b[1;36m1\u001b[0m. \u001b[1m[\u001b[0mQue adiciona el artículo \u001b[1;36m77\u001b[0m Bis a la Ley General de Salud.\u001b[1m]\u001b[0m\u001b[1m(\u001b[0m\u001b[4;94mhttp://sil.gobernacion.gob.mx/Librerias/pp_ContenidoAsuntos.php?\u001b[0m\u001b[4;94mSID\u001b[0m\u001b[4;94m=\u001b[0m\u001b[4;94m9e87752c7b3a9c94018e2abdc92e7c5b\u001b[0m\u001b[4;94m&\u001b[0m\u001b[4;94mClave\u001b[0m\u001b[4;94m=\u001b[0m\u001b[4;94m4129756\u001b[0m\u001b[4;94m)\u001b[0m\u001b[1m<\u001b[0m\u001b[35m/\u001b[0m\u001b[95mbr\u001b[0m\u001b[1m>\u001b[0m\n",
       "   Sen. Nuvia Magdalena Mayorga Delgado, Comisión Permanente , PRI, \u001b[1;36m1\u001b[0m/\u001b[1;36m2021\u001b[0m\n"
      ]
     },
     "metadata": {},
     "output_type": "display_data"
    },
    {
     "data": {
      "text/html": [
       "<pre style=\"white-space:pre;overflow-x:auto;line-height:normal;font-family:Menlo,'DejaVu Sans Mono',consolas,'Courier New',monospace\"><span style=\"color: #008080; text-decoration-color: #008080; font-weight: bold\">1</span>. <span style=\"font-weight: bold\">[</span>Que adiciona diversas disposiciones de la Ley Federal del Trabajo, en materia de trabajadores de plataformas digitales.<span style=\"font-weight: bold\">](</span><span style=\"color: #0000ff; text-decoration-color: #0000ff; text-decoration: underline\">http://sil.gobernacion.gob.mx/Librerias/pp_ContenidoAsuntos.php?SID=9e87752c7b3a9c94018e2abdc92e7c5b&amp;Clave=4153688)</span><span style=\"font-weight: bold\">&lt;</span><span style=\"color: #800080; text-decoration-color: #800080\">/</span><span style=\"color: #ff00ff; text-decoration-color: #ff00ff\">br</span><span style=\"font-weight: bold\">&gt;</span>\n",
       "   Dip. Isaías González Cuevas, Cámara de Diputados , PRI, <span style=\"color: #008080; text-decoration-color: #008080; font-weight: bold\">3</span>/<span style=\"color: #008080; text-decoration-color: #008080; font-weight: bold\">2021</span>\n",
       "</pre>\n"
      ],
      "text/plain": [
       "\u001b[1;36m1\u001b[0m. \u001b[1m[\u001b[0mQue adiciona diversas disposiciones de la Ley Federal del Trabajo, en materia de trabajadores de plataformas digitales.\u001b[1m]\u001b[0m\u001b[1m(\u001b[0m\u001b[4;94mhttp://sil.gobernacion.gob.mx/Librerias/pp_ContenidoAsuntos.php?\u001b[0m\u001b[4;94mSID\u001b[0m\u001b[4;94m=\u001b[0m\u001b[4;94m9e87752c7b3a9c94018e2abdc92e7c5b\u001b[0m\u001b[4;94m&\u001b[0m\u001b[4;94mClave\u001b[0m\u001b[4;94m=\u001b[0m\u001b[4;94m4153688\u001b[0m\u001b[4;94m)\u001b[0m\u001b[1m<\u001b[0m\u001b[35m/\u001b[0m\u001b[95mbr\u001b[0m\u001b[1m>\u001b[0m\n",
       "   Dip. Isaías González Cuevas, Cámara de Diputados , PRI, \u001b[1;36m3\u001b[0m/\u001b[1;36m2021\u001b[0m\n"
      ]
     },
     "metadata": {},
     "output_type": "display_data"
    },
    {
     "data": {
      "text/html": [
       "<pre style=\"white-space:pre;overflow-x:auto;line-height:normal;font-family:Menlo,'DejaVu Sans Mono',consolas,'Courier New',monospace\"><span style=\"color: #008080; text-decoration-color: #008080; font-weight: bold\">1</span>. <span style=\"font-weight: bold\">[</span>Que reforma y adiciona el artículo <span style=\"color: #008080; text-decoration-color: #008080; font-weight: bold\">30</span> de la Ley General de Educación.<span style=\"font-weight: bold\">](</span><span style=\"color: #0000ff; text-decoration-color: #0000ff; text-decoration: underline\">http://sil.gobernacion.gob.mx/Librerias/pp_ContenidoAsuntos.php?SID=fa6375211a6c67b4d0398125f973400b&amp;Clave=4155916)</span><span style=\"font-weight: bold\">&lt;</span><span style=\"color: #800080; text-decoration-color: #800080\">/</span><span style=\"color: #ff00ff; text-decoration-color: #ff00ff\">br</span><span style=\"font-weight: bold\">&gt;</span>\n",
       "   Congreso de Jalisco, Cámara de Diputados , -, <span style=\"color: #008080; text-decoration-color: #008080; font-weight: bold\">3</span>/<span style=\"color: #008080; text-decoration-color: #008080; font-weight: bold\">2021</span>\n",
       "</pre>\n"
      ],
      "text/plain": [
       "\u001b[1;36m1\u001b[0m. \u001b[1m[\u001b[0mQue reforma y adiciona el artículo \u001b[1;36m30\u001b[0m de la Ley General de Educación.\u001b[1m]\u001b[0m\u001b[1m(\u001b[0m\u001b[4;94mhttp://sil.gobernacion.gob.mx/Librerias/pp_ContenidoAsuntos.php?\u001b[0m\u001b[4;94mSID\u001b[0m\u001b[4;94m=\u001b[0m\u001b[4;94mfa6375211a6c67b4d0398125f973400b\u001b[0m\u001b[4;94m&\u001b[0m\u001b[4;94mClave\u001b[0m\u001b[4;94m=\u001b[0m\u001b[4;94m4155916\u001b[0m\u001b[4;94m)\u001b[0m\u001b[1m<\u001b[0m\u001b[35m/\u001b[0m\u001b[95mbr\u001b[0m\u001b[1m>\u001b[0m\n",
       "   Congreso de Jalisco, Cámara de Diputados , -, \u001b[1;36m3\u001b[0m/\u001b[1;36m2021\u001b[0m\n"
      ]
     },
     "metadata": {},
     "output_type": "display_data"
    },
    {
     "data": {
      "text/html": [
       "<pre style=\"white-space:pre;overflow-x:auto;line-height:normal;font-family:Menlo,'DejaVu Sans Mono',consolas,'Courier New',monospace\"><span style=\"color: #008080; text-decoration-color: #008080; font-weight: bold\">1</span>. <span style=\"font-weight: bold\">[</span>Que adiciona el artículo <span style=\"color: #008080; text-decoration-color: #008080; font-weight: bold\">39</span> de la Ley Orgánica del Congreso General de los Estados Unidos Mexicanos.<span style=\"font-weight: bold\">](</span><span style=\"color: #0000ff; text-decoration-color: #0000ff; text-decoration: underline\">http://sil.gobernacion.gob.mx/Librerias/pp_ContenidoAsuntos.php?SID=da50379055d2759108e785b11976eaf9&amp;Clave=4478222)</span><span style=\"font-weight: bold\">&lt;</span><span style=\"color: #800080; text-decoration-color: #800080\">/</span><span style=\"color: #ff00ff; text-decoration-color: #ff00ff\">br</span><span style=\"font-weight: bold\">&gt;</span>\n",
       "   Dip. Justino Eugenio Arriaga Rojas, Comisión Permanente , PAN, <span style=\"color: #008080; text-decoration-color: #008080; font-weight: bold\">1</span>/<span style=\"color: #008080; text-decoration-color: #008080; font-weight: bold\">2023</span>\n",
       "</pre>\n"
      ],
      "text/plain": [
       "\u001b[1;36m1\u001b[0m. \u001b[1m[\u001b[0mQue adiciona el artículo \u001b[1;36m39\u001b[0m de la Ley Orgánica del Congreso General de los Estados Unidos Mexicanos.\u001b[1m]\u001b[0m\u001b[1m(\u001b[0m\u001b[4;94mhttp://sil.gobernacion.gob.mx/Librerias/pp_ContenidoAsuntos.php?\u001b[0m\u001b[4;94mSID\u001b[0m\u001b[4;94m=\u001b[0m\u001b[4;94mda50379055d2759108e785b11976eaf9\u001b[0m\u001b[4;94m&\u001b[0m\u001b[4;94mClave\u001b[0m\u001b[4;94m=\u001b[0m\u001b[4;94m4478222\u001b[0m\u001b[4;94m)\u001b[0m\u001b[1m<\u001b[0m\u001b[35m/\u001b[0m\u001b[95mbr\u001b[0m\u001b[1m>\u001b[0m\n",
       "   Dip. Justino Eugenio Arriaga Rojas, Comisión Permanente , PAN, \u001b[1;36m1\u001b[0m/\u001b[1;36m2023\u001b[0m\n"
      ]
     },
     "metadata": {},
     "output_type": "display_data"
    },
    {
     "data": {
      "text/html": [
       "<pre style=\"white-space:pre;overflow-x:auto;line-height:normal;font-family:Menlo,'DejaVu Sans Mono',consolas,'Courier New',monospace\"><span style=\"color: #008080; text-decoration-color: #008080; font-weight: bold\">1</span>. <span style=\"font-weight: bold\">[</span>Que expide la Ley para la Regulación Ética de la Inteligencia Artificial y la Robótica.<span style=\"font-weight: bold\">](</span><span style=\"color: #0000ff; text-decoration-color: #0000ff; text-decoration: underline\">http://sil.gobernacion.gob.mx/Librerias/pp_ContenidoAsuntos.php?SID=da50379055d2759108e785b11976eaf9&amp;Clave=4572130)</span><span style=\"font-weight: bold\">&lt;</span><span style=\"color: #800080; text-decoration-color: #800080\">/</span><span style=\"color: #ff00ff; text-decoration-color: #ff00ff\">br</span><span style=\"font-weight: bold\">&gt;</span>\n",
       "   Dip. Ignacio Loyola Vera, Comisión Permanente , PAN, <span style=\"color: #008080; text-decoration-color: #008080; font-weight: bold\">5</span>/<span style=\"color: #008080; text-decoration-color: #008080; font-weight: bold\">2023</span>\n",
       "</pre>\n"
      ],
      "text/plain": [
       "\u001b[1;36m1\u001b[0m. \u001b[1m[\u001b[0mQue expide la Ley para la Regulación Ética de la Inteligencia Artificial y la Robótica.\u001b[1m]\u001b[0m\u001b[1m(\u001b[0m\u001b[4;94mhttp://sil.gobernacion.gob.mx/Librerias/pp_ContenidoAsuntos.php?\u001b[0m\u001b[4;94mSID\u001b[0m\u001b[4;94m=\u001b[0m\u001b[4;94mda50379055d2759108e785b11976eaf9\u001b[0m\u001b[4;94m&\u001b[0m\u001b[4;94mClave\u001b[0m\u001b[4;94m=\u001b[0m\u001b[4;94m4572130\u001b[0m\u001b[4;94m)\u001b[0m\u001b[1m<\u001b[0m\u001b[35m/\u001b[0m\u001b[95mbr\u001b[0m\u001b[1m>\u001b[0m\n",
       "   Dip. Ignacio Loyola Vera, Comisión Permanente , PAN, \u001b[1;36m5\u001b[0m/\u001b[1;36m2023\u001b[0m\n"
      ]
     },
     "metadata": {},
     "output_type": "display_data"
    },
    {
     "data": {
      "text/html": [
       "<pre style=\"white-space:pre;overflow-x:auto;line-height:normal;font-family:Menlo,'DejaVu Sans Mono',consolas,'Courier New',monospace\"><span style=\"color: #008080; text-decoration-color: #008080; font-weight: bold\">1</span>. <span style=\"font-weight: bold\">[</span>Que reforma y adiciona el artículo <span style=\"color: #008080; text-decoration-color: #008080; font-weight: bold\">5</span> y adiciona el artículo <span style=\"color: #008080; text-decoration-color: #008080; font-weight: bold\">20</span> Septies de la Ley General de Acceso de las Mujeres a una Vida Libre de Violencia.<span style=\"font-weight: bold\">](</span><span style=\"color: #0000ff; text-decoration-color: #0000ff; text-decoration: underline\">http://sil.gobernacion.gob.mx/Librerias/pp_ContenidoAsuntos.php?SID=da50379055d2759108e785b11976eaf9&amp;Clave=4582803)</span><span style=\"font-weight: bold\">&lt;</span><span style=\"color: #800080; text-decoration-color: #800080\">/</span><span style=\"color: #ff00ff; text-decoration-color: #ff00ff\">br</span><span style=\"font-weight: bold\">&gt;</span>\n",
       "   Dip. Annia Sarahí Gómez Cárdenas, Comisión Permanente , PAN, <span style=\"color: #008080; text-decoration-color: #008080; font-weight: bold\">7</span>/<span style=\"color: #008080; text-decoration-color: #008080; font-weight: bold\">2023</span>\n",
       "</pre>\n"
      ],
      "text/plain": [
       "\u001b[1;36m1\u001b[0m. \u001b[1m[\u001b[0mQue reforma y adiciona el artículo \u001b[1;36m5\u001b[0m y adiciona el artículo \u001b[1;36m20\u001b[0m Septies de la Ley General de Acceso de las Mujeres a una Vida Libre de Violencia.\u001b[1m]\u001b[0m\u001b[1m(\u001b[0m\u001b[4;94mhttp://sil.gobernacion.gob.mx/Librerias/pp_ContenidoAsuntos.php?\u001b[0m\u001b[4;94mSID\u001b[0m\u001b[4;94m=\u001b[0m\u001b[4;94mda50379055d2759108e785b11976eaf9\u001b[0m\u001b[4;94m&\u001b[0m\u001b[4;94mClave\u001b[0m\u001b[4;94m=\u001b[0m\u001b[4;94m4582803\u001b[0m\u001b[4;94m)\u001b[0m\u001b[1m<\u001b[0m\u001b[35m/\u001b[0m\u001b[95mbr\u001b[0m\u001b[1m>\u001b[0m\n",
       "   Dip. Annia Sarahí Gómez Cárdenas, Comisión Permanente , PAN, \u001b[1;36m7\u001b[0m/\u001b[1;36m2023\u001b[0m\n"
      ]
     },
     "metadata": {},
     "output_type": "display_data"
    },
    {
     "data": {
      "text/html": [
       "<pre style=\"white-space:pre;overflow-x:auto;line-height:normal;font-family:Menlo,'DejaVu Sans Mono',consolas,'Courier New',monospace\"><span style=\"color: #008080; text-decoration-color: #008080; font-weight: bold\">1</span>. <span style=\"font-weight: bold\">[</span>Que reforma y adiciona diversas disposiciones a la Ley General de Salud.<span style=\"font-weight: bold\">](</span><span style=\"color: #0000ff; text-decoration-color: #0000ff; text-decoration: underline\">http://sil.gobernacion.gob.mx/Librerias/pp_ContenidoAsuntos.php?SID=da50379055d2759108e785b11976eaf9&amp;Clave=4583887)</span><span style=\"font-weight: bold\">&lt;</span><span style=\"color: #800080; text-decoration-color: #800080\">/</span><span style=\"color: #ff00ff; text-decoration-color: #ff00ff\">br</span><span style=\"font-weight: bold\">&gt;</span>\n",
       "   MC PRI Morena Dip. Éctor Jaime Ramírez Barba, Comisión Permanente , PAN, <span style=\"color: #008080; text-decoration-color: #008080; font-weight: bold\">7</span>/<span style=\"color: #008080; text-decoration-color: #008080; font-weight: bold\">2023</span>\n",
       "</pre>\n"
      ],
      "text/plain": [
       "\u001b[1;36m1\u001b[0m. \u001b[1m[\u001b[0mQue reforma y adiciona diversas disposiciones a la Ley General de Salud.\u001b[1m]\u001b[0m\u001b[1m(\u001b[0m\u001b[4;94mhttp://sil.gobernacion.gob.mx/Librerias/pp_ContenidoAsuntos.php?\u001b[0m\u001b[4;94mSID\u001b[0m\u001b[4;94m=\u001b[0m\u001b[4;94mda50379055d2759108e785b11976eaf9\u001b[0m\u001b[4;94m&\u001b[0m\u001b[4;94mClave\u001b[0m\u001b[4;94m=\u001b[0m\u001b[4;94m4583887\u001b[0m\u001b[4;94m)\u001b[0m\u001b[1m<\u001b[0m\u001b[35m/\u001b[0m\u001b[95mbr\u001b[0m\u001b[1m>\u001b[0m\n",
       "   MC PRI Morena Dip. Éctor Jaime Ramírez Barba, Comisión Permanente , PAN, \u001b[1;36m7\u001b[0m/\u001b[1;36m2023\u001b[0m\n"
      ]
     },
     "metadata": {},
     "output_type": "display_data"
    },
    {
     "data": {
      "text/html": [
       "<pre style=\"white-space:pre;overflow-x:auto;line-height:normal;font-family:Menlo,'DejaVu Sans Mono',consolas,'Courier New',monospace\"><span style=\"color: #008080; text-decoration-color: #008080; font-weight: bold\">1</span>. <span style=\"font-weight: bold\">[</span>Que reforma el artículo <span style=\"color: #008080; text-decoration-color: #008080; font-weight: bold\">199</span> Octies del Código Penal Federal.<span style=\"font-weight: bold\">](</span><span style=\"color: #0000ff; text-decoration-color: #0000ff; text-decoration: underline\">http://sil.gobernacion.gob.mx/Librerias/pp_ContenidoAsuntos.php?SID=da50379055d2759108e785b11976eaf9&amp;Clave=4585245)</span><span style=\"font-weight: bold\">&lt;</span><span style=\"color: #800080; text-decoration-color: #800080\">/</span><span style=\"color: #ff00ff; text-decoration-color: #ff00ff\">br</span><span style=\"font-weight: bold\">&gt;</span>\n",
       "   Dip. Sayonara Vargas Rodríguez, Comisión Permanente , PRI, <span style=\"color: #008080; text-decoration-color: #008080; font-weight: bold\">7</span>/<span style=\"color: #008080; text-decoration-color: #008080; font-weight: bold\">2023</span>\n",
       "</pre>\n"
      ],
      "text/plain": [
       "\u001b[1;36m1\u001b[0m. \u001b[1m[\u001b[0mQue reforma el artículo \u001b[1;36m199\u001b[0m Octies del Código Penal Federal.\u001b[1m]\u001b[0m\u001b[1m(\u001b[0m\u001b[4;94mhttp://sil.gobernacion.gob.mx/Librerias/pp_ContenidoAsuntos.php?\u001b[0m\u001b[4;94mSID\u001b[0m\u001b[4;94m=\u001b[0m\u001b[4;94mda50379055d2759108e785b11976eaf9\u001b[0m\u001b[4;94m&\u001b[0m\u001b[4;94mClave\u001b[0m\u001b[4;94m=\u001b[0m\u001b[4;94m4585245\u001b[0m\u001b[4;94m)\u001b[0m\u001b[1m<\u001b[0m\u001b[35m/\u001b[0m\u001b[95mbr\u001b[0m\u001b[1m>\u001b[0m\n",
       "   Dip. Sayonara Vargas Rodríguez, Comisión Permanente , PRI, \u001b[1;36m7\u001b[0m/\u001b[1;36m2023\u001b[0m\n"
      ]
     },
     "metadata": {},
     "output_type": "display_data"
    },
    {
     "data": {
      "text/html": [
       "<pre style=\"white-space:pre;overflow-x:auto;line-height:normal;font-family:Menlo,'DejaVu Sans Mono',consolas,'Courier New',monospace\"><span style=\"color: #008080; text-decoration-color: #008080; font-weight: bold\">1</span>. <span style=\"font-weight: bold\">[</span>Que reforma los artículos <span style=\"color: #008080; text-decoration-color: #008080; font-weight: bold\">20</span> Quáter párrafo primero, <span style=\"color: #008080; text-decoration-color: #008080; font-weight: bold\">20</span> Quáter párrafo tercero, <span style=\"color: #008080; text-decoration-color: #008080; font-weight: bold\">20</span> Sexies párrafo primero y <span style=\"color: #008080; text-decoration-color: #008080; font-weight: bold\">20</span> Sexies párrafo cuarto de la Ley General de Acceso de las Mujeres a una Vida Libre de Violencia y el artículo <span style=\"color: #008080; text-decoration-color: #008080; font-weight: bold\">199</span> Nonies del Código Penal Federal.<span style=\"font-weight: bold\">](</span><span style=\"color: #0000ff; text-decoration-color: #0000ff; text-decoration: underline\">http://sil.gobernacion.gob.mx/Librerias/pp_ContenidoAsuntos.php?SID=da50379055d2759108e785b11976eaf9&amp;Clave=4586645)</span><span style=\"font-weight: bold\">&lt;</span><span style=\"color: #800080; text-decoration-color: #800080\">/</span><span style=\"color: #ff00ff; text-decoration-color: #ff00ff\">br</span><span style=\"font-weight: bold\">&gt;</span>\n",
       "   Dip. Melissa Estefanía Vargas Camacho, Comisión Permanente , PRI, <span style=\"color: #008080; text-decoration-color: #008080; font-weight: bold\">7</span>/<span style=\"color: #008080; text-decoration-color: #008080; font-weight: bold\">2023</span>\n",
       "</pre>\n"
      ],
      "text/plain": [
       "\u001b[1;36m1\u001b[0m. \u001b[1m[\u001b[0mQue reforma los artículos \u001b[1;36m20\u001b[0m Quáter párrafo primero, \u001b[1;36m20\u001b[0m Quáter párrafo tercero, \u001b[1;36m20\u001b[0m Sexies párrafo primero y \u001b[1;36m20\u001b[0m Sexies párrafo cuarto de la Ley General de Acceso de las Mujeres a una Vida Libre de Violencia y el artículo \u001b[1;36m199\u001b[0m Nonies del Código Penal Federal.\u001b[1m]\u001b[0m\u001b[1m(\u001b[0m\u001b[4;94mhttp://sil.gobernacion.gob.mx/Librerias/pp_ContenidoAsuntos.php?\u001b[0m\u001b[4;94mSID\u001b[0m\u001b[4;94m=\u001b[0m\u001b[4;94mda50379055d2759108e785b11976eaf9\u001b[0m\u001b[4;94m&\u001b[0m\u001b[4;94mClave\u001b[0m\u001b[4;94m=\u001b[0m\u001b[4;94m4586645\u001b[0m\u001b[4;94m)\u001b[0m\u001b[1m<\u001b[0m\u001b[35m/\u001b[0m\u001b[95mbr\u001b[0m\u001b[1m>\u001b[0m\n",
       "   Dip. Melissa Estefanía Vargas Camacho, Comisión Permanente , PRI, \u001b[1;36m7\u001b[0m/\u001b[1;36m2023\u001b[0m\n"
      ]
     },
     "metadata": {},
     "output_type": "display_data"
    },
    {
     "data": {
      "text/html": [
       "<pre style=\"white-space:pre;overflow-x:auto;line-height:normal;font-family:Menlo,'DejaVu Sans Mono',consolas,'Courier New',monospace\"><span style=\"color: #008080; text-decoration-color: #008080; font-weight: bold\">1</span>. <span style=\"font-weight: bold\">[</span>Que reforma y adiciona diversas disposiciones a la Ley General de Salud.<span style=\"font-weight: bold\">](</span><span style=\"color: #0000ff; text-decoration-color: #0000ff; text-decoration: underline\">http://sil.gobernacion.gob.mx/Librerias/pp_ContenidoAsuntos.php?SID=da50379055d2759108e785b11976eaf9&amp;Clave=4586573)</span><span style=\"font-weight: bold\">&lt;</span><span style=\"color: #800080; text-decoration-color: #800080\">/</span><span style=\"color: #ff00ff; text-decoration-color: #ff00ff\">br</span><span style=\"font-weight: bold\">&gt;</span>\n",
       "   Dip. Favio Castellanos Polanco, Comisión Permanente , Morena, <span style=\"color: #008080; text-decoration-color: #008080; font-weight: bold\">7</span>/<span style=\"color: #008080; text-decoration-color: #008080; font-weight: bold\">2023</span>\n",
       "</pre>\n"
      ],
      "text/plain": [
       "\u001b[1;36m1\u001b[0m. \u001b[1m[\u001b[0mQue reforma y adiciona diversas disposiciones a la Ley General de Salud.\u001b[1m]\u001b[0m\u001b[1m(\u001b[0m\u001b[4;94mhttp://sil.gobernacion.gob.mx/Librerias/pp_ContenidoAsuntos.php?\u001b[0m\u001b[4;94mSID\u001b[0m\u001b[4;94m=\u001b[0m\u001b[4;94mda50379055d2759108e785b11976eaf9\u001b[0m\u001b[4;94m&\u001b[0m\u001b[4;94mClave\u001b[0m\u001b[4;94m=\u001b[0m\u001b[4;94m4586573\u001b[0m\u001b[4;94m)\u001b[0m\u001b[1m<\u001b[0m\u001b[35m/\u001b[0m\u001b[95mbr\u001b[0m\u001b[1m>\u001b[0m\n",
       "   Dip. Favio Castellanos Polanco, Comisión Permanente , Morena, \u001b[1;36m7\u001b[0m/\u001b[1;36m2023\u001b[0m\n"
      ]
     },
     "metadata": {},
     "output_type": "display_data"
    },
    {
     "data": {
      "text/html": [
       "<pre style=\"white-space:pre;overflow-x:auto;line-height:normal;font-family:Menlo,'DejaVu Sans Mono',consolas,'Courier New',monospace\"><span style=\"color: #008080; text-decoration-color: #008080; font-weight: bold\">1</span>. <span style=\"font-weight: bold\">[</span>Que adiciona una fracción V, recorriéndose las subsecuentes, del artículo <span style=\"color: #008080; text-decoration-color: #008080; font-weight: bold\">16</span> de la Ley General para la Atención y Protección a Personas con la Condición del Espectro Autista.<span style=\"font-weight: bold\">](</span><span style=\"color: #0000ff; text-decoration-color: #0000ff; text-decoration: underline\">http://sil.gobernacion.gob.mx/Librerias/pp_ContenidoAsuntos.php?SID=da50379055d2759108e785b11976eaf9&amp;Clave=4589413)</span><span style=\"font-weight: bold\">&lt;</span><span style=\"color: #800080; text-decoration-color: #800080\">/</span><span style=\"color: #ff00ff; text-decoration-color: #ff00ff\">br</span><span style=\"font-weight: bold\">&gt;</span>\n",
       "   Dip. Dionicia Vázquez García, Comisión Permanente , PT, <span style=\"color: #008080; text-decoration-color: #008080; font-weight: bold\">8</span>/<span style=\"color: #008080; text-decoration-color: #008080; font-weight: bold\">2023</span>\n",
       "</pre>\n"
      ],
      "text/plain": [
       "\u001b[1;36m1\u001b[0m. \u001b[1m[\u001b[0mQue adiciona una fracción V, recorriéndose las subsecuentes, del artículo \u001b[1;36m16\u001b[0m de la Ley General para la Atención y Protección a Personas con la Condición del Espectro Autista.\u001b[1m]\u001b[0m\u001b[1m(\u001b[0m\u001b[4;94mhttp://sil.gobernacion.gob.mx/Librerias/pp_ContenidoAsuntos.php?\u001b[0m\u001b[4;94mSID\u001b[0m\u001b[4;94m=\u001b[0m\u001b[4;94mda50379055d2759108e785b11976eaf9\u001b[0m\u001b[4;94m&\u001b[0m\u001b[4;94mClave\u001b[0m\u001b[4;94m=\u001b[0m\u001b[4;94m4589413\u001b[0m\u001b[4;94m)\u001b[0m\u001b[1m<\u001b[0m\u001b[35m/\u001b[0m\u001b[95mbr\u001b[0m\u001b[1m>\u001b[0m\n",
       "   Dip. Dionicia Vázquez García, Comisión Permanente , PT, \u001b[1;36m8\u001b[0m/\u001b[1;36m2023\u001b[0m\n"
      ]
     },
     "metadata": {},
     "output_type": "display_data"
    },
    {
     "data": {
      "text/html": [
       "<pre style=\"white-space:pre;overflow-x:auto;line-height:normal;font-family:Menlo,'DejaVu Sans Mono',consolas,'Courier New',monospace\"><span style=\"color: #008080; text-decoration-color: #008080; font-weight: bold\">1</span>. <span style=\"font-weight: bold\">[</span>Que reforma los artículos <span style=\"color: #008080; text-decoration-color: #008080; font-weight: bold\">199</span> Nonies del Código Penal Federal y <span style=\"color: #008080; text-decoration-color: #008080; font-weight: bold\">20</span> Quáter de la Ley General de Acceso de las Mujeres a una Vida Libre de Violencia.<span style=\"font-weight: bold\">](</span><span style=\"color: #0000ff; text-decoration-color: #0000ff; text-decoration: underline\">http://sil.gobernacion.gob.mx/Librerias/pp_ContenidoAsuntos.php?SID=da50379055d2759108e785b11976eaf9&amp;Clave=4593432)</span><span style=\"font-weight: bold\">&lt;</span><span style=\"color: #800080; text-decoration-color: #800080\">/</span><span style=\"color: #ff00ff; text-decoration-color: #ff00ff\">br</span><span style=\"font-weight: bold\">&gt;</span>\n",
       "   Dip. Paulina Rubio Fernández, Cámara de Diputados , PAN, <span style=\"color: #008080; text-decoration-color: #008080; font-weight: bold\">9</span>/<span style=\"color: #008080; text-decoration-color: #008080; font-weight: bold\">2023</span>\n",
       "</pre>\n"
      ],
      "text/plain": [
       "\u001b[1;36m1\u001b[0m. \u001b[1m[\u001b[0mQue reforma los artículos \u001b[1;36m199\u001b[0m Nonies del Código Penal Federal y \u001b[1;36m20\u001b[0m Quáter de la Ley General de Acceso de las Mujeres a una Vida Libre de Violencia.\u001b[1m]\u001b[0m\u001b[1m(\u001b[0m\u001b[4;94mhttp://sil.gobernacion.gob.mx/Librerias/pp_ContenidoAsuntos.php?\u001b[0m\u001b[4;94mSID\u001b[0m\u001b[4;94m=\u001b[0m\u001b[4;94mda50379055d2759108e785b11976eaf9\u001b[0m\u001b[4;94m&\u001b[0m\u001b[4;94mClave\u001b[0m\u001b[4;94m=\u001b[0m\u001b[4;94m4593432\u001b[0m\u001b[4;94m)\u001b[0m\u001b[1m<\u001b[0m\u001b[35m/\u001b[0m\u001b[95mbr\u001b[0m\u001b[1m>\u001b[0m\n",
       "   Dip. Paulina Rubio Fernández, Cámara de Diputados , PAN, \u001b[1;36m9\u001b[0m/\u001b[1;36m2023\u001b[0m\n"
      ]
     },
     "metadata": {},
     "output_type": "display_data"
    },
    {
     "data": {
      "text/html": [
       "<pre style=\"white-space:pre;overflow-x:auto;line-height:normal;font-family:Menlo,'DejaVu Sans Mono',consolas,'Courier New',monospace\"><span style=\"color: #008080; text-decoration-color: #008080; font-weight: bold\">1</span>. <span style=\"font-weight: bold\">[</span>Que reforma la fracción XVII al artículo <span style=\"color: #008080; text-decoration-color: #008080; font-weight: bold\">73</span> de la Constitución Política de los Estados Unidos Mexicanos.<span style=\"font-weight: bold\">](</span><span style=\"color: #0000ff; text-decoration-color: #0000ff; text-decoration: underline\">http://sil.gobernacion.gob.mx/Librerias/pp_ContenidoAsuntos.php?SID=da50379055d2759108e785b11976eaf9&amp;Clave=4595174)</span><span style=\"font-weight: bold\">&lt;</span><span style=\"color: #800080; text-decoration-color: #800080\">/</span><span style=\"color: #ff00ff; text-decoration-color: #ff00ff\">br</span><span style=\"font-weight: bold\">&gt;</span>\n",
       "   Sen. Martha Cecilia Márquez Alvarado, Cámara de Senadores , PT, <span style=\"color: #008080; text-decoration-color: #008080; font-weight: bold\">9</span>/<span style=\"color: #008080; text-decoration-color: #008080; font-weight: bold\">2023</span>\n",
       "</pre>\n"
      ],
      "text/plain": [
       "\u001b[1;36m1\u001b[0m. \u001b[1m[\u001b[0mQue reforma la fracción XVII al artículo \u001b[1;36m73\u001b[0m de la Constitución Política de los Estados Unidos Mexicanos.\u001b[1m]\u001b[0m\u001b[1m(\u001b[0m\u001b[4;94mhttp://sil.gobernacion.gob.mx/Librerias/pp_ContenidoAsuntos.php?\u001b[0m\u001b[4;94mSID\u001b[0m\u001b[4;94m=\u001b[0m\u001b[4;94mda50379055d2759108e785b11976eaf9\u001b[0m\u001b[4;94m&\u001b[0m\u001b[4;94mClave\u001b[0m\u001b[4;94m=\u001b[0m\u001b[4;94m4595174\u001b[0m\u001b[4;94m)\u001b[0m\u001b[1m<\u001b[0m\u001b[35m/\u001b[0m\u001b[95mbr\u001b[0m\u001b[1m>\u001b[0m\n",
       "   Sen. Martha Cecilia Márquez Alvarado, Cámara de Senadores , PT, \u001b[1;36m9\u001b[0m/\u001b[1;36m2023\u001b[0m\n"
      ]
     },
     "metadata": {},
     "output_type": "display_data"
    },
    {
     "data": {
      "text/html": [
       "<pre style=\"white-space:pre;overflow-x:auto;line-height:normal;font-family:Menlo,'DejaVu Sans Mono',consolas,'Courier New',monospace\"><span style=\"color: #008080; text-decoration-color: #008080; font-weight: bold\">1</span>. <span style=\"font-weight: bold\">[</span>Que reforma la fracción XVII al artículo <span style=\"color: #008080; text-decoration-color: #008080; font-weight: bold\">73</span> de la Constitución Política de los Estados Unidos Mexicanos.<span style=\"font-weight: bold\">](</span><span style=\"color: #0000ff; text-decoration-color: #0000ff; text-decoration: underline\">http://sil.gobernacion.gob.mx/Librerias/pp_ContenidoAsuntos.php?SID=da50379055d2759108e785b11976eaf9&amp;Clave=4608293)</span><span style=\"font-weight: bold\">&lt;</span><span style=\"color: #800080; text-decoration-color: #800080\">/</span><span style=\"color: #ff00ff; text-decoration-color: #ff00ff\">br</span><span style=\"font-weight: bold\">&gt;</span>\n",
       "   PRD PRI PAN Sen. Alejandra Lagunes Soto Ruíz, Cámara de Senadores , PVEM, <span style=\"color: #008080; text-decoration-color: #008080; font-weight: bold\">9</span>/<span style=\"color: #008080; text-decoration-color: #008080; font-weight: bold\">2023</span>\n",
       "</pre>\n"
      ],
      "text/plain": [
       "\u001b[1;36m1\u001b[0m. \u001b[1m[\u001b[0mQue reforma la fracción XVII al artículo \u001b[1;36m73\u001b[0m de la Constitución Política de los Estados Unidos Mexicanos.\u001b[1m]\u001b[0m\u001b[1m(\u001b[0m\u001b[4;94mhttp://sil.gobernacion.gob.mx/Librerias/pp_ContenidoAsuntos.php?\u001b[0m\u001b[4;94mSID\u001b[0m\u001b[4;94m=\u001b[0m\u001b[4;94mda50379055d2759108e785b11976eaf9\u001b[0m\u001b[4;94m&\u001b[0m\u001b[4;94mClave\u001b[0m\u001b[4;94m=\u001b[0m\u001b[4;94m4608293\u001b[0m\u001b[4;94m)\u001b[0m\u001b[1m<\u001b[0m\u001b[35m/\u001b[0m\u001b[95mbr\u001b[0m\u001b[1m>\u001b[0m\n",
       "   PRD PRI PAN Sen. Alejandra Lagunes Soto Ruíz, Cámara de Senadores , PVEM, \u001b[1;36m9\u001b[0m/\u001b[1;36m2023\u001b[0m\n"
      ]
     },
     "metadata": {},
     "output_type": "display_data"
    },
    {
     "data": {
      "text/html": [
       "<pre style=\"white-space:pre;overflow-x:auto;line-height:normal;font-family:Menlo,'DejaVu Sans Mono',consolas,'Courier New',monospace\"><span style=\"color: #008080; text-decoration-color: #008080; font-weight: bold\">1</span>. <span style=\"font-weight: bold\">[</span>Que reforma los artículos <span style=\"color: #008080; text-decoration-color: #008080; font-weight: bold\">30</span> y <span style=\"color: #008080; text-decoration-color: #008080; font-weight: bold\">70</span> de la Ley General de Educación y <span style=\"color: #008080; text-decoration-color: #008080; font-weight: bold\">7</span>° de la Ley General de Educación Superior.<span style=\"font-weight: bold\">](</span><span style=\"color: #0000ff; text-decoration-color: #0000ff; text-decoration: underline\">http://sil.gobernacion.gob.mx/Librerias/pp_ContenidoAsuntos.php?SID=da50379055d2759108e785b11976eaf9&amp;Clave=4619073)</span><span style=\"font-weight: bold\">&lt;</span><span style=\"color: #800080; text-decoration-color: #800080\">/</span><span style=\"color: #ff00ff; text-decoration-color: #ff00ff\">br</span><span style=\"font-weight: bold\">&gt;</span>\n",
       "   Dip. Carmen Patricia Armendáriz Guerra, Cámara de Diputados , Morena, <span style=\"color: #008080; text-decoration-color: #008080; font-weight: bold\">10</span>/<span style=\"color: #008080; text-decoration-color: #008080; font-weight: bold\">2023</span>\n",
       "</pre>\n"
      ],
      "text/plain": [
       "\u001b[1;36m1\u001b[0m. \u001b[1m[\u001b[0mQue reforma los artículos \u001b[1;36m30\u001b[0m y \u001b[1;36m70\u001b[0m de la Ley General de Educación y \u001b[1;36m7\u001b[0m° de la Ley General de Educación Superior.\u001b[1m]\u001b[0m\u001b[1m(\u001b[0m\u001b[4;94mhttp://sil.gobernacion.gob.mx/Librerias/pp_ContenidoAsuntos.php?\u001b[0m\u001b[4;94mSID\u001b[0m\u001b[4;94m=\u001b[0m\u001b[4;94mda50379055d2759108e785b11976eaf9\u001b[0m\u001b[4;94m&\u001b[0m\u001b[4;94mClave\u001b[0m\u001b[4;94m=\u001b[0m\u001b[4;94m4619073\u001b[0m\u001b[4;94m)\u001b[0m\u001b[1m<\u001b[0m\u001b[35m/\u001b[0m\u001b[95mbr\u001b[0m\u001b[1m>\u001b[0m\n",
       "   Dip. Carmen Patricia Armendáriz Guerra, Cámara de Diputados , Morena, \u001b[1;36m10\u001b[0m/\u001b[1;36m2023\u001b[0m\n"
      ]
     },
     "metadata": {},
     "output_type": "display_data"
    },
    {
     "data": {
      "text/html": [
       "<pre style=\"white-space:pre;overflow-x:auto;line-height:normal;font-family:Menlo,'DejaVu Sans Mono',consolas,'Courier New',monospace\"><span style=\"color: #008080; text-decoration-color: #008080; font-weight: bold\">1</span>. <span style=\"font-weight: bold\">[</span>Que reforma y adiciona el artículo <span style=\"color: #008080; text-decoration-color: #008080; font-weight: bold\">211</span> Bis del Código Penal Federal.<span style=\"font-weight: bold\">](</span><span style=\"color: #0000ff; text-decoration-color: #0000ff; text-decoration: underline\">http://sil.gobernacion.gob.mx/Librerias/pp_ContenidoAsuntos.php?SID=da50379055d2759108e785b11976eaf9&amp;Clave=4622568)</span><span style=\"font-weight: bold\">&lt;</span><span style=\"color: #800080; text-decoration-color: #800080\">/</span><span style=\"color: #ff00ff; text-decoration-color: #ff00ff\">br</span><span style=\"font-weight: bold\">&gt;</span>\n",
       "   Dip. Francisco Javier Huacus Esquivel, Cámara de Diputados , PRD, <span style=\"color: #008080; text-decoration-color: #008080; font-weight: bold\">10</span>/<span style=\"color: #008080; text-decoration-color: #008080; font-weight: bold\">2023</span>\n",
       "</pre>\n"
      ],
      "text/plain": [
       "\u001b[1;36m1\u001b[0m. \u001b[1m[\u001b[0mQue reforma y adiciona el artículo \u001b[1;36m211\u001b[0m Bis del Código Penal Federal.\u001b[1m]\u001b[0m\u001b[1m(\u001b[0m\u001b[4;94mhttp://sil.gobernacion.gob.mx/Librerias/pp_ContenidoAsuntos.php?\u001b[0m\u001b[4;94mSID\u001b[0m\u001b[4;94m=\u001b[0m\u001b[4;94mda50379055d2759108e785b11976eaf9\u001b[0m\u001b[4;94m&\u001b[0m\u001b[4;94mClave\u001b[0m\u001b[4;94m=\u001b[0m\u001b[4;94m4622568\u001b[0m\u001b[4;94m)\u001b[0m\u001b[1m<\u001b[0m\u001b[35m/\u001b[0m\u001b[95mbr\u001b[0m\u001b[1m>\u001b[0m\n",
       "   Dip. Francisco Javier Huacus Esquivel, Cámara de Diputados , PRD, \u001b[1;36m10\u001b[0m/\u001b[1;36m2023\u001b[0m\n"
      ]
     },
     "metadata": {},
     "output_type": "display_data"
    },
    {
     "data": {
      "text/html": [
       "<pre style=\"white-space:pre;overflow-x:auto;line-height:normal;font-family:Menlo,'DejaVu Sans Mono',consolas,'Courier New',monospace\"><span style=\"color: #008080; text-decoration-color: #008080; font-weight: bold\">1</span>. <span style=\"font-weight: bold\">[</span>Que modifica el Titulo Noveno, adiciona un Capítulo III y adiciona diversos artículos del Código Penal Federal.<span style=\"font-weight: bold\">](</span><span style=\"color: #0000ff; text-decoration-color: #0000ff; text-decoration: underline\">http://sil.gobernacion.gob.mx/Librerias/pp_ContenidoAsuntos.php?SID=da50379055d2759108e785b11976eaf9&amp;Clave=4633030)</span><span style=\"font-weight: bold\">&lt;</span><span style=\"color: #800080; text-decoration-color: #800080\">/</span><span style=\"color: #ff00ff; text-decoration-color: #ff00ff\">br</span><span style=\"font-weight: bold\">&gt;</span>\n",
       "   Sen. Arturo Bours Griffith, Cámara de Senadores , Morena, <span style=\"color: #008080; text-decoration-color: #008080; font-weight: bold\">10</span>/<span style=\"color: #008080; text-decoration-color: #008080; font-weight: bold\">2023</span>\n",
       "</pre>\n"
      ],
      "text/plain": [
       "\u001b[1;36m1\u001b[0m. \u001b[1m[\u001b[0mQue modifica el Titulo Noveno, adiciona un Capítulo III y adiciona diversos artículos del Código Penal Federal.\u001b[1m]\u001b[0m\u001b[1m(\u001b[0m\u001b[4;94mhttp://sil.gobernacion.gob.mx/Librerias/pp_ContenidoAsuntos.php?\u001b[0m\u001b[4;94mSID\u001b[0m\u001b[4;94m=\u001b[0m\u001b[4;94mda50379055d2759108e785b11976eaf9\u001b[0m\u001b[4;94m&\u001b[0m\u001b[4;94mClave\u001b[0m\u001b[4;94m=\u001b[0m\u001b[4;94m4633030\u001b[0m\u001b[4;94m)\u001b[0m\u001b[1m<\u001b[0m\u001b[35m/\u001b[0m\u001b[95mbr\u001b[0m\u001b[1m>\u001b[0m\n",
       "   Sen. Arturo Bours Griffith, Cámara de Senadores , Morena, \u001b[1;36m10\u001b[0m/\u001b[1;36m2023\u001b[0m\n"
      ]
     },
     "metadata": {},
     "output_type": "display_data"
    },
    {
     "data": {
      "text/html": [
       "<pre style=\"white-space:pre;overflow-x:auto;line-height:normal;font-family:Menlo,'DejaVu Sans Mono',consolas,'Courier New',monospace\"><span style=\"color: #008080; text-decoration-color: #008080; font-weight: bold\">1</span>. <span style=\"font-weight: bold\">[</span>Que adiciona el Capítulo III al Título Séptimo Bis denominado -Violación a la Intimidad Sexual mediante Inteligencia Artificial- del Código Penal Federal.<span style=\"font-weight: bold\">](</span><span style=\"color: #0000ff; text-decoration-color: #0000ff; text-decoration: underline\">http://sil.gobernacion.gob.mx/Librerias/pp_ContenidoAsuntos.php?SID=da50379055d2759108e785b11976eaf9&amp;Clave=4633041)</span><span style=\"font-weight: bold\">&lt;</span><span style=\"color: #800080; text-decoration-color: #800080\">/</span><span style=\"color: #ff00ff; text-decoration-color: #ff00ff\">br</span><span style=\"font-weight: bold\">&gt;</span>\n",
       "   Sen. Geovanna del Carmen Bañuelos de la Torre, Cámara de Senadores , PT, <span style=\"color: #008080; text-decoration-color: #008080; font-weight: bold\">10</span>/<span style=\"color: #008080; text-decoration-color: #008080; font-weight: bold\">2023</span>\n",
       "</pre>\n"
      ],
      "text/plain": [
       "\u001b[1;36m1\u001b[0m. \u001b[1m[\u001b[0mQue adiciona el Capítulo III al Título Séptimo Bis denominado -Violación a la Intimidad Sexual mediante Inteligencia Artificial- del Código Penal Federal.\u001b[1m]\u001b[0m\u001b[1m(\u001b[0m\u001b[4;94mhttp://sil.gobernacion.gob.mx/Librerias/pp_ContenidoAsuntos.php?\u001b[0m\u001b[4;94mSID\u001b[0m\u001b[4;94m=\u001b[0m\u001b[4;94mda50379055d2759108e785b11976eaf9\u001b[0m\u001b[4;94m&\u001b[0m\u001b[4;94mClave\u001b[0m\u001b[4;94m=\u001b[0m\u001b[4;94m4633041\u001b[0m\u001b[4;94m)\u001b[0m\u001b[1m<\u001b[0m\u001b[35m/\u001b[0m\u001b[95mbr\u001b[0m\u001b[1m>\u001b[0m\n",
       "   Sen. Geovanna del Carmen Bañuelos de la Torre, Cámara de Senadores , PT, \u001b[1;36m10\u001b[0m/\u001b[1;36m2023\u001b[0m\n"
      ]
     },
     "metadata": {},
     "output_type": "display_data"
    },
    {
     "data": {
      "text/html": [
       "<pre style=\"white-space:pre;overflow-x:auto;line-height:normal;font-family:Menlo,'DejaVu Sans Mono',consolas,'Courier New',monospace\"><span style=\"color: #008080; text-decoration-color: #008080; font-weight: bold\">1</span>. <span style=\"font-weight: bold\">[</span>Que reforma la fracción IV del artículo <span style=\"color: #008080; text-decoration-color: #008080; font-weight: bold\">30</span> de la Ley General de Educación.<span style=\"font-weight: bold\">](</span><span style=\"color: #0000ff; text-decoration-color: #0000ff; text-decoration: underline\">http://sil.gobernacion.gob.mx/Librerias/pp_ContenidoAsuntos.php?SID=da50379055d2759108e785b11976eaf9&amp;Clave=4632900)</span><span style=\"font-weight: bold\">&lt;</span><span style=\"color: #800080; text-decoration-color: #800080\">/</span><span style=\"color: #ff00ff; text-decoration-color: #ff00ff\">br</span><span style=\"font-weight: bold\">&gt;</span>\n",
       "   Sen. Nancy Guadalupe Sánchez Arredondo, Cámara de Senadores , Morena, <span style=\"color: #008080; text-decoration-color: #008080; font-weight: bold\">10</span>/<span style=\"color: #008080; text-decoration-color: #008080; font-weight: bold\">2023</span>\n",
       "</pre>\n"
      ],
      "text/plain": [
       "\u001b[1;36m1\u001b[0m. \u001b[1m[\u001b[0mQue reforma la fracción IV del artículo \u001b[1;36m30\u001b[0m de la Ley General de Educación.\u001b[1m]\u001b[0m\u001b[1m(\u001b[0m\u001b[4;94mhttp://sil.gobernacion.gob.mx/Librerias/pp_ContenidoAsuntos.php?\u001b[0m\u001b[4;94mSID\u001b[0m\u001b[4;94m=\u001b[0m\u001b[4;94mda50379055d2759108e785b11976eaf9\u001b[0m\u001b[4;94m&\u001b[0m\u001b[4;94mClave\u001b[0m\u001b[4;94m=\u001b[0m\u001b[4;94m4632900\u001b[0m\u001b[4;94m)\u001b[0m\u001b[1m<\u001b[0m\u001b[35m/\u001b[0m\u001b[95mbr\u001b[0m\u001b[1m>\u001b[0m\n",
       "   Sen. Nancy Guadalupe Sánchez Arredondo, Cámara de Senadores , Morena, \u001b[1;36m10\u001b[0m/\u001b[1;36m2023\u001b[0m\n"
      ]
     },
     "metadata": {},
     "output_type": "display_data"
    },
    {
     "data": {
      "text/html": [
       "<pre style=\"white-space:pre;overflow-x:auto;line-height:normal;font-family:Menlo,'DejaVu Sans Mono',consolas,'Courier New',monospace\"><span style=\"color: #008080; text-decoration-color: #008080; font-weight: bold\">1</span>. <span style=\"font-weight: bold\">[</span>Que reforma y adiciona los artículos <span style=\"color: #008080; text-decoration-color: #008080; font-weight: bold\">5</span>°, <span style=\"color: #008080; text-decoration-color: #008080; font-weight: bold\">6</span>° y <span style=\"color: #008080; text-decoration-color: #008080; font-weight: bold\">7</span>° de la Ley que Crea la Agencia de Noticias del Estado Mexicano.<span style=\"font-weight: bold\">](</span><span style=\"color: #0000ff; text-decoration-color: #0000ff; text-decoration: underline\">http://sil.gobernacion.gob.mx/Librerias/pp_ContenidoAsuntos.php?SID=da50379055d2759108e785b11976eaf9&amp;Clave=4641448)</span><span style=\"font-weight: bold\">&lt;</span><span style=\"color: #800080; text-decoration-color: #800080\">/</span><span style=\"color: #ff00ff; text-decoration-color: #ff00ff\">br</span><span style=\"font-weight: bold\">&gt;</span>\n",
       "   Dip. Sayonara Vargas Rodríguez, Cámara de Diputados , PRI, <span style=\"color: #008080; text-decoration-color: #008080; font-weight: bold\">10</span>/<span style=\"color: #008080; text-decoration-color: #008080; font-weight: bold\">2023</span>\n",
       "</pre>\n"
      ],
      "text/plain": [
       "\u001b[1;36m1\u001b[0m. \u001b[1m[\u001b[0mQue reforma y adiciona los artículos \u001b[1;36m5\u001b[0m°, \u001b[1;36m6\u001b[0m° y \u001b[1;36m7\u001b[0m° de la Ley que Crea la Agencia de Noticias del Estado Mexicano.\u001b[1m]\u001b[0m\u001b[1m(\u001b[0m\u001b[4;94mhttp://sil.gobernacion.gob.mx/Librerias/pp_ContenidoAsuntos.php?\u001b[0m\u001b[4;94mSID\u001b[0m\u001b[4;94m=\u001b[0m\u001b[4;94mda50379055d2759108e785b11976eaf9\u001b[0m\u001b[4;94m&\u001b[0m\u001b[4;94mClave\u001b[0m\u001b[4;94m=\u001b[0m\u001b[4;94m4641448\u001b[0m\u001b[4;94m)\u001b[0m\u001b[1m<\u001b[0m\u001b[35m/\u001b[0m\u001b[95mbr\u001b[0m\u001b[1m>\u001b[0m\n",
       "   Dip. Sayonara Vargas Rodríguez, Cámara de Diputados , PRI, \u001b[1;36m10\u001b[0m/\u001b[1;36m2023\u001b[0m\n"
      ]
     },
     "metadata": {},
     "output_type": "display_data"
    },
    {
     "data": {
      "text/html": [
       "<pre style=\"white-space:pre;overflow-x:auto;line-height:normal;font-family:Menlo,'DejaVu Sans Mono',consolas,'Courier New',monospace\"><span style=\"color: #008080; text-decoration-color: #008080; font-weight: bold\">1</span>. <span style=\"font-weight: bold\">[</span>Que adiciona y reforma diversas disposiciones de la Ley General de Acceso de las Mujeres a una Vida Libre de Violencia y del Código Penal Federal.<span style=\"font-weight: bold\">](</span><span style=\"color: #0000ff; text-decoration-color: #0000ff; text-decoration: underline\">http://sil.gobernacion.gob.mx/Librerias/pp_ContenidoAsuntos.php?SID=da50379055d2759108e785b11976eaf9&amp;Clave=4642016)</span><span style=\"font-weight: bold\">&lt;</span><span style=\"color: #800080; text-decoration-color: #800080\">/</span><span style=\"color: #ff00ff; text-decoration-color: #ff00ff\">br</span><span style=\"font-weight: bold\">&gt;</span>\n",
       "   Dip. Joanna Alejandra Felipe Torres, Cámara de Diputados , PAN, <span style=\"color: #008080; text-decoration-color: #008080; font-weight: bold\">10</span>/<span style=\"color: #008080; text-decoration-color: #008080; font-weight: bold\">2023</span>\n",
       "</pre>\n"
      ],
      "text/plain": [
       "\u001b[1;36m1\u001b[0m. \u001b[1m[\u001b[0mQue adiciona y reforma diversas disposiciones de la Ley General de Acceso de las Mujeres a una Vida Libre de Violencia y del Código Penal Federal.\u001b[1m]\u001b[0m\u001b[1m(\u001b[0m\u001b[4;94mhttp://sil.gobernacion.gob.mx/Librerias/pp_ContenidoAsuntos.php?\u001b[0m\u001b[4;94mSID\u001b[0m\u001b[4;94m=\u001b[0m\u001b[4;94mda50379055d2759108e785b11976eaf9\u001b[0m\u001b[4;94m&\u001b[0m\u001b[4;94mClave\u001b[0m\u001b[4;94m=\u001b[0m\u001b[4;94m4642016\u001b[0m\u001b[4;94m)\u001b[0m\u001b[1m<\u001b[0m\u001b[35m/\u001b[0m\u001b[95mbr\u001b[0m\u001b[1m>\u001b[0m\n",
       "   Dip. Joanna Alejandra Felipe Torres, Cámara de Diputados , PAN, \u001b[1;36m10\u001b[0m/\u001b[1;36m2023\u001b[0m\n"
      ]
     },
     "metadata": {},
     "output_type": "display_data"
    },
    {
     "data": {
      "text/html": [
       "<pre style=\"white-space:pre;overflow-x:auto;line-height:normal;font-family:Menlo,'DejaVu Sans Mono',consolas,'Courier New',monospace\"><span style=\"color: #008080; text-decoration-color: #008080; font-weight: bold\">1</span>. <span style=\"font-weight: bold\">[</span>Que reforma diversos artículos de la Ley Federal de Telecomunicaciones y Radiodifusión.<span style=\"font-weight: bold\">](</span><span style=\"color: #0000ff; text-decoration-color: #0000ff; text-decoration: underline\">http://sil.gobernacion.gob.mx/Librerias/pp_ContenidoAsuntos.php?SID=da50379055d2759108e785b11976eaf9&amp;Clave=4649961)</span><span style=\"font-weight: bold\">&lt;</span><span style=\"color: #800080; text-decoration-color: #800080\">/</span><span style=\"color: #ff00ff; text-decoration-color: #ff00ff\">br</span><span style=\"font-weight: bold\">&gt;</span>\n",
       "   Sen. Jesús Lucía Trasviña Waldenrath, Cámara de Senadores , Morena, <span style=\"color: #008080; text-decoration-color: #008080; font-weight: bold\">11</span>/<span style=\"color: #008080; text-decoration-color: #008080; font-weight: bold\">2023</span>\n",
       "</pre>\n"
      ],
      "text/plain": [
       "\u001b[1;36m1\u001b[0m. \u001b[1m[\u001b[0mQue reforma diversos artículos de la Ley Federal de Telecomunicaciones y Radiodifusión.\u001b[1m]\u001b[0m\u001b[1m(\u001b[0m\u001b[4;94mhttp://sil.gobernacion.gob.mx/Librerias/pp_ContenidoAsuntos.php?\u001b[0m\u001b[4;94mSID\u001b[0m\u001b[4;94m=\u001b[0m\u001b[4;94mda50379055d2759108e785b11976eaf9\u001b[0m\u001b[4;94m&\u001b[0m\u001b[4;94mClave\u001b[0m\u001b[4;94m=\u001b[0m\u001b[4;94m4649961\u001b[0m\u001b[4;94m)\u001b[0m\u001b[1m<\u001b[0m\u001b[35m/\u001b[0m\u001b[95mbr\u001b[0m\u001b[1m>\u001b[0m\n",
       "   Sen. Jesús Lucía Trasviña Waldenrath, Cámara de Senadores , Morena, \u001b[1;36m11\u001b[0m/\u001b[1;36m2023\u001b[0m\n"
      ]
     },
     "metadata": {},
     "output_type": "display_data"
    },
    {
     "data": {
      "text/html": [
       "<pre style=\"white-space:pre;overflow-x:auto;line-height:normal;font-family:Menlo,'DejaVu Sans Mono',consolas,'Courier New',monospace\"><span style=\"color: #008080; text-decoration-color: #008080; font-weight: bold\">1</span>. <span style=\"font-weight: bold\">[</span>Que reforma los artículos <span style=\"color: #008080; text-decoration-color: #008080; font-weight: bold\">199</span> Octies, <span style=\"color: #008080; text-decoration-color: #008080; font-weight: bold\">200</span> y <span style=\"color: #008080; text-decoration-color: #008080; font-weight: bold\">202</span> del Código Penal Federal.<span style=\"font-weight: bold\">](</span><span style=\"color: #0000ff; text-decoration-color: #0000ff; text-decoration: underline\">http://sil.gobernacion.gob.mx/Librerias/pp_ContenidoAsuntos.php?SID=da50379055d2759108e785b11976eaf9&amp;Clave=4649681)</span><span style=\"font-weight: bold\">&lt;</span><span style=\"color: #800080; text-decoration-color: #800080\">/</span><span style=\"color: #ff00ff; text-decoration-color: #ff00ff\">br</span><span style=\"font-weight: bold\">&gt;</span>\n",
       "   Sen. Gloria Elizabeth Núñez Sánchez, Cámara de Senadores , MC, <span style=\"color: #008080; text-decoration-color: #008080; font-weight: bold\">11</span>/<span style=\"color: #008080; text-decoration-color: #008080; font-weight: bold\">2023</span>\n",
       "</pre>\n"
      ],
      "text/plain": [
       "\u001b[1;36m1\u001b[0m. \u001b[1m[\u001b[0mQue reforma los artículos \u001b[1;36m199\u001b[0m Octies, \u001b[1;36m200\u001b[0m y \u001b[1;36m202\u001b[0m del Código Penal Federal.\u001b[1m]\u001b[0m\u001b[1m(\u001b[0m\u001b[4;94mhttp://sil.gobernacion.gob.mx/Librerias/pp_ContenidoAsuntos.php?\u001b[0m\u001b[4;94mSID\u001b[0m\u001b[4;94m=\u001b[0m\u001b[4;94mda50379055d2759108e785b11976eaf9\u001b[0m\u001b[4;94m&\u001b[0m\u001b[4;94mClave\u001b[0m\u001b[4;94m=\u001b[0m\u001b[4;94m4649681\u001b[0m\u001b[4;94m)\u001b[0m\u001b[1m<\u001b[0m\u001b[35m/\u001b[0m\u001b[95mbr\u001b[0m\u001b[1m>\u001b[0m\n",
       "   Sen. Gloria Elizabeth Núñez Sánchez, Cámara de Senadores , MC, \u001b[1;36m11\u001b[0m/\u001b[1;36m2023\u001b[0m\n"
      ]
     },
     "metadata": {},
     "output_type": "display_data"
    },
    {
     "data": {
      "text/html": [
       "<pre style=\"white-space:pre;overflow-x:auto;line-height:normal;font-family:Menlo,'DejaVu Sans Mono',consolas,'Courier New',monospace\"><span style=\"color: #008080; text-decoration-color: #008080; font-weight: bold\">1</span>. <span style=\"font-weight: bold\">[</span>Que reforma los artículos <span style=\"color: #008080; text-decoration-color: #008080; font-weight: bold\">199</span> Septies y <span style=\"color: #008080; text-decoration-color: #008080; font-weight: bold\">202</span> del Código Penal Federal.<span style=\"font-weight: bold\">](</span><span style=\"color: #0000ff; text-decoration-color: #0000ff; text-decoration: underline\">http://sil.gobernacion.gob.mx/Librerias/pp_ContenidoAsuntos.php?SID=da50379055d2759108e785b11976eaf9&amp;Clave=4660115)</span><span style=\"font-weight: bold\">&lt;</span><span style=\"color: #800080; text-decoration-color: #800080\">/</span><span style=\"color: #ff00ff; text-decoration-color: #ff00ff\">br</span><span style=\"font-weight: bold\">&gt;</span>\n",
       "   Dip. Ana Laura Valenzuela Sánchez, Cámara de Diputados , PAN, <span style=\"color: #008080; text-decoration-color: #008080; font-weight: bold\">11</span>/<span style=\"color: #008080; text-decoration-color: #008080; font-weight: bold\">2023</span>\n",
       "</pre>\n"
      ],
      "text/plain": [
       "\u001b[1;36m1\u001b[0m. \u001b[1m[\u001b[0mQue reforma los artículos \u001b[1;36m199\u001b[0m Septies y \u001b[1;36m202\u001b[0m del Código Penal Federal.\u001b[1m]\u001b[0m\u001b[1m(\u001b[0m\u001b[4;94mhttp://sil.gobernacion.gob.mx/Librerias/pp_ContenidoAsuntos.php?\u001b[0m\u001b[4;94mSID\u001b[0m\u001b[4;94m=\u001b[0m\u001b[4;94mda50379055d2759108e785b11976eaf9\u001b[0m\u001b[4;94m&\u001b[0m\u001b[4;94mClave\u001b[0m\u001b[4;94m=\u001b[0m\u001b[4;94m4660115\u001b[0m\u001b[4;94m)\u001b[0m\u001b[1m<\u001b[0m\u001b[35m/\u001b[0m\u001b[95mbr\u001b[0m\u001b[1m>\u001b[0m\n",
       "   Dip. Ana Laura Valenzuela Sánchez, Cámara de Diputados , PAN, \u001b[1;36m11\u001b[0m/\u001b[1;36m2023\u001b[0m\n"
      ]
     },
     "metadata": {},
     "output_type": "display_data"
    },
    {
     "data": {
      "text/html": [
       "<pre style=\"white-space:pre;overflow-x:auto;line-height:normal;font-family:Menlo,'DejaVu Sans Mono',consolas,'Courier New',monospace\"><span style=\"color: #008080; text-decoration-color: #008080; font-weight: bold\">1</span>. <span style=\"font-weight: bold\">[</span>Que adiciona los artículos <span style=\"color: #008080; text-decoration-color: #008080; font-weight: bold\">11</span> y <span style=\"color: #008080; text-decoration-color: #008080; font-weight: bold\">13</span> de la Ley de la Fiscalía General de la República.<span style=\"font-weight: bold\">](</span><span style=\"color: #0000ff; text-decoration-color: #0000ff; text-decoration: underline\">http://sil.gobernacion.gob.mx/Librerias/pp_ContenidoAsuntos.php?SID=da50379055d2759108e785b11976eaf9&amp;Clave=4660870)</span><span style=\"font-weight: bold\">&lt;</span><span style=\"color: #800080; text-decoration-color: #800080\">/</span><span style=\"color: #ff00ff; text-decoration-color: #ff00ff\">br</span><span style=\"font-weight: bold\">&gt;</span>\n",
       "   Dip. Gerardo Peña Flores, Cámara de Diputados , PAN, <span style=\"color: #008080; text-decoration-color: #008080; font-weight: bold\">11</span>/<span style=\"color: #008080; text-decoration-color: #008080; font-weight: bold\">2023</span>\n",
       "</pre>\n"
      ],
      "text/plain": [
       "\u001b[1;36m1\u001b[0m. \u001b[1m[\u001b[0mQue adiciona los artículos \u001b[1;36m11\u001b[0m y \u001b[1;36m13\u001b[0m de la Ley de la Fiscalía General de la República.\u001b[1m]\u001b[0m\u001b[1m(\u001b[0m\u001b[4;94mhttp://sil.gobernacion.gob.mx/Librerias/pp_ContenidoAsuntos.php?\u001b[0m\u001b[4;94mSID\u001b[0m\u001b[4;94m=\u001b[0m\u001b[4;94mda50379055d2759108e785b11976eaf9\u001b[0m\u001b[4;94m&\u001b[0m\u001b[4;94mClave\u001b[0m\u001b[4;94m=\u001b[0m\u001b[4;94m4660870\u001b[0m\u001b[4;94m)\u001b[0m\u001b[1m<\u001b[0m\u001b[35m/\u001b[0m\u001b[95mbr\u001b[0m\u001b[1m>\u001b[0m\n",
       "   Dip. Gerardo Peña Flores, Cámara de Diputados , PAN, \u001b[1;36m11\u001b[0m/\u001b[1;36m2023\u001b[0m\n"
      ]
     },
     "metadata": {},
     "output_type": "display_data"
    },
    {
     "data": {
      "text/html": [
       "<pre style=\"white-space:pre;overflow-x:auto;line-height:normal;font-family:Menlo,'DejaVu Sans Mono',consolas,'Courier New',monospace\"><span style=\"color: #008080; text-decoration-color: #008080; font-weight: bold\">1</span>. <span style=\"font-weight: bold\">[</span>Que reforma y adiciona diversas disposiciones del Código Penal Federal.<span style=\"font-weight: bold\">](</span><span style=\"color: #0000ff; text-decoration-color: #0000ff; text-decoration: underline\">http://sil.gobernacion.gob.mx/Librerias/pp_ContenidoAsuntos.php?SID=da50379055d2759108e785b11976eaf9&amp;Clave=4662347)</span><span style=\"font-weight: bold\">&lt;</span><span style=\"color: #800080; text-decoration-color: #800080\">/</span><span style=\"color: #ff00ff; text-decoration-color: #ff00ff\">br</span><span style=\"font-weight: bold\">&gt;</span>\n",
       "   Sen. César Arnulfo Cravioto Romero, Cámara de Senadores , Morena, <span style=\"color: #008080; text-decoration-color: #008080; font-weight: bold\">11</span>/<span style=\"color: #008080; text-decoration-color: #008080; font-weight: bold\">2023</span>\n",
       "</pre>\n"
      ],
      "text/plain": [
       "\u001b[1;36m1\u001b[0m. \u001b[1m[\u001b[0mQue reforma y adiciona diversas disposiciones del Código Penal Federal.\u001b[1m]\u001b[0m\u001b[1m(\u001b[0m\u001b[4;94mhttp://sil.gobernacion.gob.mx/Librerias/pp_ContenidoAsuntos.php?\u001b[0m\u001b[4;94mSID\u001b[0m\u001b[4;94m=\u001b[0m\u001b[4;94mda50379055d2759108e785b11976eaf9\u001b[0m\u001b[4;94m&\u001b[0m\u001b[4;94mClave\u001b[0m\u001b[4;94m=\u001b[0m\u001b[4;94m4662347\u001b[0m\u001b[4;94m)\u001b[0m\u001b[1m<\u001b[0m\u001b[35m/\u001b[0m\u001b[95mbr\u001b[0m\u001b[1m>\u001b[0m\n",
       "   Sen. César Arnulfo Cravioto Romero, Cámara de Senadores , Morena, \u001b[1;36m11\u001b[0m/\u001b[1;36m2023\u001b[0m\n"
      ]
     },
     "metadata": {},
     "output_type": "display_data"
    },
    {
     "data": {
      "text/html": [
       "<pre style=\"white-space:pre;overflow-x:auto;line-height:normal;font-family:Menlo,'DejaVu Sans Mono',consolas,'Courier New',monospace\"><span style=\"color: #008080; text-decoration-color: #008080; font-weight: bold\">1</span>. <span style=\"font-weight: bold\">[</span>Que expide la Ley que Regula el Uso de la Inteligencia Artificial.<span style=\"font-weight: bold\">](</span><span style=\"color: #0000ff; text-decoration-color: #0000ff; text-decoration: underline\">http://sil.gobernacion.gob.mx/Librerias/pp_ContenidoAsuntos.php?SID=da50379055d2759108e785b11976eaf9&amp;Clave=4665732)</span><span style=\"font-weight: bold\">&lt;</span><span style=\"color: #800080; text-decoration-color: #800080\">/</span><span style=\"color: #ff00ff; text-decoration-color: #ff00ff\">br</span><span style=\"font-weight: bold\">&gt;</span>\n",
       "   Sen. Gustavo Enrique Madero Muñoz, Cámara de Senadores , Sin Partido, <span style=\"color: #008080; text-decoration-color: #008080; font-weight: bold\">11</span>/<span style=\"color: #008080; text-decoration-color: #008080; font-weight: bold\">2023</span>\n",
       "</pre>\n"
      ],
      "text/plain": [
       "\u001b[1;36m1\u001b[0m. \u001b[1m[\u001b[0mQue expide la Ley que Regula el Uso de la Inteligencia Artificial.\u001b[1m]\u001b[0m\u001b[1m(\u001b[0m\u001b[4;94mhttp://sil.gobernacion.gob.mx/Librerias/pp_ContenidoAsuntos.php?\u001b[0m\u001b[4;94mSID\u001b[0m\u001b[4;94m=\u001b[0m\u001b[4;94mda50379055d2759108e785b11976eaf9\u001b[0m\u001b[4;94m&\u001b[0m\u001b[4;94mClave\u001b[0m\u001b[4;94m=\u001b[0m\u001b[4;94m4665732\u001b[0m\u001b[4;94m)\u001b[0m\u001b[1m<\u001b[0m\u001b[35m/\u001b[0m\u001b[95mbr\u001b[0m\u001b[1m>\u001b[0m\n",
       "   Sen. Gustavo Enrique Madero Muñoz, Cámara de Senadores , Sin Partido, \u001b[1;36m11\u001b[0m/\u001b[1;36m2023\u001b[0m\n"
      ]
     },
     "metadata": {},
     "output_type": "display_data"
    },
    {
     "data": {
      "text/html": [
       "<pre style=\"white-space:pre;overflow-x:auto;line-height:normal;font-family:Menlo,'DejaVu Sans Mono',consolas,'Courier New',monospace\"><span style=\"color: #008080; text-decoration-color: #008080; font-weight: bold\">1</span>. <span style=\"font-weight: bold\">[</span>Que expide la Ley que crea la Agencia Mexicana para el Desarrollo de la Inteligencia Artificial.<span style=\"font-weight: bold\">](</span><span style=\"color: #0000ff; text-decoration-color: #0000ff; text-decoration: underline\">http://sil.gobernacion.gob.mx/Librerias/pp_ContenidoAsuntos.php?SID=da50379055d2759108e785b11976eaf9&amp;Clave=4673074)</span><span style=\"font-weight: bold\">&lt;</span><span style=\"color: #800080; text-decoration-color: #800080\">/</span><span style=\"color: #ff00ff; text-decoration-color: #ff00ff\">br</span><span style=\"font-weight: bold\">&gt;</span>\n",
       "   Dip. Jaime Bueno Zertuche, Cámara de Diputados , PRI, <span style=\"color: #008080; text-decoration-color: #008080; font-weight: bold\">12</span>/<span style=\"color: #008080; text-decoration-color: #008080; font-weight: bold\">2023</span>\n",
       "</pre>\n"
      ],
      "text/plain": [
       "\u001b[1;36m1\u001b[0m. \u001b[1m[\u001b[0mQue expide la Ley que crea la Agencia Mexicana para el Desarrollo de la Inteligencia Artificial.\u001b[1m]\u001b[0m\u001b[1m(\u001b[0m\u001b[4;94mhttp://sil.gobernacion.gob.mx/Librerias/pp_ContenidoAsuntos.php?\u001b[0m\u001b[4;94mSID\u001b[0m\u001b[4;94m=\u001b[0m\u001b[4;94mda50379055d2759108e785b11976eaf9\u001b[0m\u001b[4;94m&\u001b[0m\u001b[4;94mClave\u001b[0m\u001b[4;94m=\u001b[0m\u001b[4;94m4673074\u001b[0m\u001b[4;94m)\u001b[0m\u001b[1m<\u001b[0m\u001b[35m/\u001b[0m\u001b[95mbr\u001b[0m\u001b[1m>\u001b[0m\n",
       "   Dip. Jaime Bueno Zertuche, Cámara de Diputados , PRI, \u001b[1;36m12\u001b[0m/\u001b[1;36m2023\u001b[0m\n"
      ]
     },
     "metadata": {},
     "output_type": "display_data"
    },
    {
     "data": {
      "text/html": [
       "<pre style=\"white-space:pre;overflow-x:auto;line-height:normal;font-family:Menlo,'DejaVu Sans Mono',consolas,'Courier New',monospace\"><span style=\"color: #008080; text-decoration-color: #008080; font-weight: bold\">1</span>. <span style=\"font-weight: bold\">[</span>Que reforma y adiciona diversas disposiciones del Código Penal Federal, en materia de mal uso de la tecnología señalada como inteligencia artificial.<span style=\"font-weight: bold\">](</span><span style=\"color: #0000ff; text-decoration-color: #0000ff; text-decoration: underline\">http://sil.gobernacion.gob.mx/Librerias/pp_ContenidoAsuntos.php?SID=da50379055d2759108e785b11976eaf9&amp;Clave=4685626)</span><span style=\"font-weight: bold\">&lt;</span><span style=\"color: #800080; text-decoration-color: #800080\">/</span><span style=\"color: #ff00ff; text-decoration-color: #ff00ff\">br</span><span style=\"font-weight: bold\">&gt;</span>\n",
       "   Dip. Miguel Torruco Garza, Cámara de Diputados , Morena, <span style=\"color: #008080; text-decoration-color: #008080; font-weight: bold\">12</span>/<span style=\"color: #008080; text-decoration-color: #008080; font-weight: bold\">2023</span>\n",
       "</pre>\n"
      ],
      "text/plain": [
       "\u001b[1;36m1\u001b[0m. \u001b[1m[\u001b[0mQue reforma y adiciona diversas disposiciones del Código Penal Federal, en materia de mal uso de la tecnología señalada como inteligencia artificial.\u001b[1m]\u001b[0m\u001b[1m(\u001b[0m\u001b[4;94mhttp://sil.gobernacion.gob.mx/Librerias/pp_ContenidoAsuntos.php?\u001b[0m\u001b[4;94mSID\u001b[0m\u001b[4;94m=\u001b[0m\u001b[4;94mda50379055d2759108e785b11976eaf9\u001b[0m\u001b[4;94m&\u001b[0m\u001b[4;94mClave\u001b[0m\u001b[4;94m=\u001b[0m\u001b[4;94m4685626\u001b[0m\u001b[4;94m)\u001b[0m\u001b[1m<\u001b[0m\u001b[35m/\u001b[0m\u001b[95mbr\u001b[0m\u001b[1m>\u001b[0m\n",
       "   Dip. Miguel Torruco Garza, Cámara de Diputados , Morena, \u001b[1;36m12\u001b[0m/\u001b[1;36m2023\u001b[0m\n"
      ]
     },
     "metadata": {},
     "output_type": "display_data"
    },
    {
     "data": {
      "text/html": [
       "<pre style=\"white-space:pre;overflow-x:auto;line-height:normal;font-family:Menlo,'DejaVu Sans Mono',consolas,'Courier New',monospace\"><span style=\"color: #008080; text-decoration-color: #008080; font-weight: bold\">1</span>. <span style=\"font-weight: bold\">[</span>Que reforma y adiciona diversas disposiciones de la Ley Federal del Derecho de Autor, en materia de regulación de la inteligencia artificial.<span style=\"font-weight: bold\">](</span><span style=\"color: #0000ff; text-decoration-color: #0000ff; text-decoration: underline\">http://sil.gobernacion.gob.mx/Librerias/pp_ContenidoAsuntos.php?SID=da50379055d2759108e785b11976eaf9&amp;Clave=4685885)</span><span style=\"font-weight: bold\">&lt;</span><span style=\"color: #800080; text-decoration-color: #800080\">/</span><span style=\"color: #ff00ff; text-decoration-color: #ff00ff\">br</span><span style=\"font-weight: bold\">&gt;</span>\n",
       "   Dip. Miguel Torruco Garza, Cámara de Diputados , Morena, <span style=\"color: #008080; text-decoration-color: #008080; font-weight: bold\">12</span>/<span style=\"color: #008080; text-decoration-color: #008080; font-weight: bold\">2023</span>\n",
       "</pre>\n"
      ],
      "text/plain": [
       "\u001b[1;36m1\u001b[0m. \u001b[1m[\u001b[0mQue reforma y adiciona diversas disposiciones de la Ley Federal del Derecho de Autor, en materia de regulación de la inteligencia artificial.\u001b[1m]\u001b[0m\u001b[1m(\u001b[0m\u001b[4;94mhttp://sil.gobernacion.gob.mx/Librerias/pp_ContenidoAsuntos.php?\u001b[0m\u001b[4;94mSID\u001b[0m\u001b[4;94m=\u001b[0m\u001b[4;94mda50379055d2759108e785b11976eaf9\u001b[0m\u001b[4;94m&\u001b[0m\u001b[4;94mClave\u001b[0m\u001b[4;94m=\u001b[0m\u001b[4;94m4685885\u001b[0m\u001b[4;94m)\u001b[0m\u001b[1m<\u001b[0m\u001b[35m/\u001b[0m\u001b[95mbr\u001b[0m\u001b[1m>\u001b[0m\n",
       "   Dip. Miguel Torruco Garza, Cámara de Diputados , Morena, \u001b[1;36m12\u001b[0m/\u001b[1;36m2023\u001b[0m\n"
      ]
     },
     "metadata": {},
     "output_type": "display_data"
    },
    {
     "data": {
      "text/html": [
       "<pre style=\"white-space:pre;overflow-x:auto;line-height:normal;font-family:Menlo,'DejaVu Sans Mono',consolas,'Courier New',monospace\"><span style=\"color: #008080; text-decoration-color: #008080; font-weight: bold\">1</span>. <span style=\"font-weight: bold\">[</span>Que adiciona diversas disposiciones de la Ley General de Instituciones y Procedimientos Electorales, para incorporar el concepto de Inteligencia Artificial como el conjunto de capacidades cognoscitivas e intelectuales expresadas por sistemas informáticos o combinaciones.<span style=\"font-weight: bold\">](</span><span style=\"color: #0000ff; text-decoration-color: #0000ff; text-decoration: underline\">http://sil.gobernacion.gob.mx/Librerias/pp_ContenidoAsuntos.php?SID=da50379055d2759108e785b11976eaf9&amp;Clave=4685725)</span><span style=\"font-weight: bold\">&lt;</span><span style=\"color: #800080; text-decoration-color: #800080\">/</span><span style=\"color: #ff00ff; text-decoration-color: #ff00ff\">br</span><span style=\"font-weight: bold\">&gt;</span>\n",
       "   Dip. Raymundo Atanacio Luna, Cámara de Diputados , Morena, <span style=\"color: #008080; text-decoration-color: #008080; font-weight: bold\">12</span>/<span style=\"color: #008080; text-decoration-color: #008080; font-weight: bold\">2023</span>\n",
       "</pre>\n"
      ],
      "text/plain": [
       "\u001b[1;36m1\u001b[0m. \u001b[1m[\u001b[0mQue adiciona diversas disposiciones de la Ley General de Instituciones y Procedimientos Electorales, para incorporar el concepto de Inteligencia Artificial como el conjunto de capacidades cognoscitivas e intelectuales expresadas por sistemas informáticos o combinaciones.\u001b[1m]\u001b[0m\u001b[1m(\u001b[0m\u001b[4;94mhttp://sil.gobernacion.gob.mx/Librerias/pp_ContenidoAsuntos.php?\u001b[0m\u001b[4;94mSID\u001b[0m\u001b[4;94m=\u001b[0m\u001b[4;94mda50379055d2759108e785b11976eaf9\u001b[0m\u001b[4;94m&\u001b[0m\u001b[4;94mClave\u001b[0m\u001b[4;94m=\u001b[0m\u001b[4;94m4685725\u001b[0m\u001b[4;94m)\u001b[0m\u001b[1m<\u001b[0m\u001b[35m/\u001b[0m\u001b[95mbr\u001b[0m\u001b[1m>\u001b[0m\n",
       "   Dip. Raymundo Atanacio Luna, Cámara de Diputados , Morena, \u001b[1;36m12\u001b[0m/\u001b[1;36m2023\u001b[0m\n"
      ]
     },
     "metadata": {},
     "output_type": "display_data"
    },
    {
     "data": {
      "text/html": [
       "<pre style=\"white-space:pre;overflow-x:auto;line-height:normal;font-family:Menlo,'DejaVu Sans Mono',consolas,'Courier New',monospace\"><span style=\"color: #008080; text-decoration-color: #008080; font-weight: bold\">1</span>. <span style=\"font-weight: bold\">[</span>Que reforma los artículos <span style=\"color: #008080; text-decoration-color: #008080; font-weight: bold\">202</span>, <span style=\"color: #008080; text-decoration-color: #008080; font-weight: bold\">199</span> Septies y <span style=\"color: #008080; text-decoration-color: #008080; font-weight: bold\">199</span> Octies del Código Penal Federal.<span style=\"font-weight: bold\">](</span><span style=\"color: #0000ff; text-decoration-color: #0000ff; text-decoration: underline\">http://sil.gobernacion.gob.mx/Librerias/pp_ContenidoAsuntos.php?SID=da50379055d2759108e785b11976eaf9&amp;Clave=4685362)</span><span style=\"font-weight: bold\">&lt;</span><span style=\"color: #800080; text-decoration-color: #800080\">/</span><span style=\"color: #ff00ff; text-decoration-color: #ff00ff\">br</span><span style=\"font-weight: bold\">&gt;</span>\n",
       "   Dip. Teresita de Jesús Vargas Meraz, Cámara de Diputados , Morena, <span style=\"color: #008080; text-decoration-color: #008080; font-weight: bold\">12</span>/<span style=\"color: #008080; text-decoration-color: #008080; font-weight: bold\">2023</span>\n",
       "</pre>\n"
      ],
      "text/plain": [
       "\u001b[1;36m1\u001b[0m. \u001b[1m[\u001b[0mQue reforma los artículos \u001b[1;36m202\u001b[0m, \u001b[1;36m199\u001b[0m Septies y \u001b[1;36m199\u001b[0m Octies del Código Penal Federal.\u001b[1m]\u001b[0m\u001b[1m(\u001b[0m\u001b[4;94mhttp://sil.gobernacion.gob.mx/Librerias/pp_ContenidoAsuntos.php?\u001b[0m\u001b[4;94mSID\u001b[0m\u001b[4;94m=\u001b[0m\u001b[4;94mda50379055d2759108e785b11976eaf9\u001b[0m\u001b[4;94m&\u001b[0m\u001b[4;94mClave\u001b[0m\u001b[4;94m=\u001b[0m\u001b[4;94m4685362\u001b[0m\u001b[4;94m)\u001b[0m\u001b[1m<\u001b[0m\u001b[35m/\u001b[0m\u001b[95mbr\u001b[0m\u001b[1m>\u001b[0m\n",
       "   Dip. Teresita de Jesús Vargas Meraz, Cámara de Diputados , Morena, \u001b[1;36m12\u001b[0m/\u001b[1;36m2023\u001b[0m\n"
      ]
     },
     "metadata": {},
     "output_type": "display_data"
    },
    {
     "data": {
      "text/html": [
       "<pre style=\"white-space:pre;overflow-x:auto;line-height:normal;font-family:Menlo,'DejaVu Sans Mono',consolas,'Courier New',monospace\"><span style=\"color: #008080; text-decoration-color: #008080; font-weight: bold\">1</span>. <span style=\"font-weight: bold\">[</span>Que reforma diversas disposiciones de la Ley General de Educación y de la Ley General de Educación Superior, en materia de inteligencia artificial.<span style=\"font-weight: bold\">](</span><span style=\"color: #0000ff; text-decoration-color: #0000ff; text-decoration: underline\">http://sil.gobernacion.gob.mx/Librerias/pp_ContenidoAsuntos.php?SID=da50379055d2759108e785b11976eaf9&amp;Clave=4685900)</span><span style=\"font-weight: bold\">&lt;</span><span style=\"color: #800080; text-decoration-color: #800080\">/</span><span style=\"color: #ff00ff; text-decoration-color: #ff00ff\">br</span><span style=\"font-weight: bold\">&gt;</span>\n",
       "   Dip. Favio Castellanos Polanco, Cámara de Diputados , Morena, <span style=\"color: #008080; text-decoration-color: #008080; font-weight: bold\">12</span>/<span style=\"color: #008080; text-decoration-color: #008080; font-weight: bold\">2023</span>\n",
       "</pre>\n"
      ],
      "text/plain": [
       "\u001b[1;36m1\u001b[0m. \u001b[1m[\u001b[0mQue reforma diversas disposiciones de la Ley General de Educación y de la Ley General de Educación Superior, en materia de inteligencia artificial.\u001b[1m]\u001b[0m\u001b[1m(\u001b[0m\u001b[4;94mhttp://sil.gobernacion.gob.mx/Librerias/pp_ContenidoAsuntos.php?\u001b[0m\u001b[4;94mSID\u001b[0m\u001b[4;94m=\u001b[0m\u001b[4;94mda50379055d2759108e785b11976eaf9\u001b[0m\u001b[4;94m&\u001b[0m\u001b[4;94mClave\u001b[0m\u001b[4;94m=\u001b[0m\u001b[4;94m4685900\u001b[0m\u001b[4;94m)\u001b[0m\u001b[1m<\u001b[0m\u001b[35m/\u001b[0m\u001b[95mbr\u001b[0m\u001b[1m>\u001b[0m\n",
       "   Dip. Favio Castellanos Polanco, Cámara de Diputados , Morena, \u001b[1;36m12\u001b[0m/\u001b[1;36m2023\u001b[0m\n"
      ]
     },
     "metadata": {},
     "output_type": "display_data"
    },
    {
     "data": {
      "text/html": [
       "<pre style=\"white-space:pre;overflow-x:auto;line-height:normal;font-family:Menlo,'DejaVu Sans Mono',consolas,'Courier New',monospace\"><span style=\"color: #008080; text-decoration-color: #008080; font-weight: bold\">1</span>. <span style=\"font-weight: bold\">[</span>Que adiciona los artículos <span style=\"color: #008080; text-decoration-color: #008080; font-weight: bold\">287</span> Bis, <span style=\"color: #008080; text-decoration-color: #008080; font-weight: bold\">287</span> Ter, <span style=\"color: #008080; text-decoration-color: #008080; font-weight: bold\">287</span> Quater y <span style=\"color: #008080; text-decoration-color: #008080; font-weight: bold\">287</span> Quintus al Código Penal Federal.<span style=\"font-weight: bold\">](</span><span style=\"color: #0000ff; text-decoration-color: #0000ff; text-decoration: underline\">http://sil.gobernacion.gob.mx/Librerias/pp_ContenidoAsuntos.php?SID=da50379055d2759108e785b11976eaf9&amp;Clave=4690641)</span><span style=\"font-weight: bold\">&lt;</span><span style=\"color: #800080; text-decoration-color: #800080\">/</span><span style=\"color: #ff00ff; text-decoration-color: #ff00ff\">br</span><span style=\"font-weight: bold\">&gt;</span>\n",
       "   Sen. María Guadalupe Covarrubias Cervantes, Cámara de Senadores , Morena, <span style=\"color: #008080; text-decoration-color: #008080; font-weight: bold\">12</span>/<span style=\"color: #008080; text-decoration-color: #008080; font-weight: bold\">2023</span>\n",
       "</pre>\n"
      ],
      "text/plain": [
       "\u001b[1;36m1\u001b[0m. \u001b[1m[\u001b[0mQue adiciona los artículos \u001b[1;36m287\u001b[0m Bis, \u001b[1;36m287\u001b[0m Ter, \u001b[1;36m287\u001b[0m Quater y \u001b[1;36m287\u001b[0m Quintus al Código Penal Federal.\u001b[1m]\u001b[0m\u001b[1m(\u001b[0m\u001b[4;94mhttp://sil.gobernacion.gob.mx/Librerias/pp_ContenidoAsuntos.php?\u001b[0m\u001b[4;94mSID\u001b[0m\u001b[4;94m=\u001b[0m\u001b[4;94mda50379055d2759108e785b11976eaf9\u001b[0m\u001b[4;94m&\u001b[0m\u001b[4;94mClave\u001b[0m\u001b[4;94m=\u001b[0m\u001b[4;94m4690641\u001b[0m\u001b[4;94m)\u001b[0m\u001b[1m<\u001b[0m\u001b[35m/\u001b[0m\u001b[95mbr\u001b[0m\u001b[1m>\u001b[0m\n",
       "   Sen. María Guadalupe Covarrubias Cervantes, Cámara de Senadores , Morena, \u001b[1;36m12\u001b[0m/\u001b[1;36m2023\u001b[0m\n"
      ]
     },
     "metadata": {},
     "output_type": "display_data"
    },
    {
     "data": {
      "text/html": [
       "<pre style=\"white-space:pre;overflow-x:auto;line-height:normal;font-family:Menlo,'DejaVu Sans Mono',consolas,'Courier New',monospace\"><span style=\"color: #008080; text-decoration-color: #008080; font-weight: bold\">1</span>. <span style=\"font-weight: bold\">[</span>Que adiciona diversas disposiciones de la Ley General en Materia de Humanidades, Ciencias, Tecnologías e Innovación, en materia de ética y derechos humanos.<span style=\"font-weight: bold\">](</span><span style=\"color: #0000ff; text-decoration-color: #0000ff; text-decoration: underline\">http://sil.gobernacion.gob.mx/Librerias/pp_ContenidoAsuntos.php?SID=da50379055d2759108e785b11976eaf9&amp;Clave=4695054)</span><span style=\"font-weight: bold\">&lt;</span><span style=\"color: #800080; text-decoration-color: #800080\">/</span><span style=\"color: #ff00ff; text-decoration-color: #ff00ff\">br</span><span style=\"font-weight: bold\">&gt;</span>\n",
       "   Dip. Mario Alberto Rodríguez Carrillo, Comisión Permanente , MC, <span style=\"color: #008080; text-decoration-color: #008080; font-weight: bold\">1</span>/<span style=\"color: #008080; text-decoration-color: #008080; font-weight: bold\">2024</span>\n",
       "</pre>\n"
      ],
      "text/plain": [
       "\u001b[1;36m1\u001b[0m. \u001b[1m[\u001b[0mQue adiciona diversas disposiciones de la Ley General en Materia de Humanidades, Ciencias, Tecnologías e Innovación, en materia de ética y derechos humanos.\u001b[1m]\u001b[0m\u001b[1m(\u001b[0m\u001b[4;94mhttp://sil.gobernacion.gob.mx/Librerias/pp_ContenidoAsuntos.php?\u001b[0m\u001b[4;94mSID\u001b[0m\u001b[4;94m=\u001b[0m\u001b[4;94mda50379055d2759108e785b11976eaf9\u001b[0m\u001b[4;94m&\u001b[0m\u001b[4;94mClave\u001b[0m\u001b[4;94m=\u001b[0m\u001b[4;94m4695054\u001b[0m\u001b[4;94m)\u001b[0m\u001b[1m<\u001b[0m\u001b[35m/\u001b[0m\u001b[95mbr\u001b[0m\u001b[1m>\u001b[0m\n",
       "   Dip. Mario Alberto Rodríguez Carrillo, Comisión Permanente , MC, \u001b[1;36m1\u001b[0m/\u001b[1;36m2024\u001b[0m\n"
      ]
     },
     "metadata": {},
     "output_type": "display_data"
    },
    {
     "data": {
      "text/html": [
       "<pre style=\"white-space:pre;overflow-x:auto;line-height:normal;font-family:Menlo,'DejaVu Sans Mono',consolas,'Courier New',monospace\"><span style=\"color: #008080; text-decoration-color: #008080; font-weight: bold\">1</span>. <span style=\"font-weight: bold\">[</span>Que adiciona un artículo <span style=\"color: #008080; text-decoration-color: #008080; font-weight: bold\">430</span> al Código Penal Federal.<span style=\"font-weight: bold\">](</span><span style=\"color: #0000ff; text-decoration-color: #0000ff; text-decoration: underline\">http://sil.gobernacion.gob.mx/Librerias/pp_ContenidoAsuntos.php?SID=da50379055d2759108e785b11976eaf9&amp;Clave=4701214)</span><span style=\"font-weight: bold\">&lt;</span><span style=\"color: #800080; text-decoration-color: #800080\">/</span><span style=\"color: #ff00ff; text-decoration-color: #ff00ff\">br</span><span style=\"font-weight: bold\">&gt;</span>\n",
       "   Dip. Miguel Ángel Pérez Navarrete, Cámara de Diputados , Morena, <span style=\"color: #008080; text-decoration-color: #008080; font-weight: bold\">2</span>/<span style=\"color: #008080; text-decoration-color: #008080; font-weight: bold\">2024</span>\n",
       "</pre>\n"
      ],
      "text/plain": [
       "\u001b[1;36m1\u001b[0m. \u001b[1m[\u001b[0mQue adiciona un artículo \u001b[1;36m430\u001b[0m al Código Penal Federal.\u001b[1m]\u001b[0m\u001b[1m(\u001b[0m\u001b[4;94mhttp://sil.gobernacion.gob.mx/Librerias/pp_ContenidoAsuntos.php?\u001b[0m\u001b[4;94mSID\u001b[0m\u001b[4;94m=\u001b[0m\u001b[4;94mda50379055d2759108e785b11976eaf9\u001b[0m\u001b[4;94m&\u001b[0m\u001b[4;94mClave\u001b[0m\u001b[4;94m=\u001b[0m\u001b[4;94m4701214\u001b[0m\u001b[4;94m)\u001b[0m\u001b[1m<\u001b[0m\u001b[35m/\u001b[0m\u001b[95mbr\u001b[0m\u001b[1m>\u001b[0m\n",
       "   Dip. Miguel Ángel Pérez Navarrete, Cámara de Diputados , Morena, \u001b[1;36m2\u001b[0m/\u001b[1;36m2024\u001b[0m\n"
      ]
     },
     "metadata": {},
     "output_type": "display_data"
    },
    {
     "data": {
      "text/html": [
       "<pre style=\"white-space:pre;overflow-x:auto;line-height:normal;font-family:Menlo,'DejaVu Sans Mono',consolas,'Courier New',monospace\"><span style=\"color: #008080; text-decoration-color: #008080; font-weight: bold\">1</span>. <span style=\"font-weight: bold\">[</span>Que reforma y adiciona diversas disposiciones de la Ley General de Acceso de las Mujeres a una Vida Libre de Violencia y del Código Penal Federal.<span style=\"font-weight: bold\">](</span><span style=\"color: #0000ff; text-decoration-color: #0000ff; text-decoration: underline\">http://sil.gobernacion.gob.mx/Librerias/pp_ContenidoAsuntos.php?SID=da50379055d2759108e785b11976eaf9&amp;Clave=4702788)</span><span style=\"font-weight: bold\">&lt;</span><span style=\"color: #800080; text-decoration-color: #800080\">/</span><span style=\"color: #ff00ff; text-decoration-color: #ff00ff\">br</span><span style=\"font-weight: bold\">&gt;</span>\n",
       "   Sen. Ruth Alejandra López Hernández, Cámara de Senadores , MC, <span style=\"color: #008080; text-decoration-color: #008080; font-weight: bold\">2</span>/<span style=\"color: #008080; text-decoration-color: #008080; font-weight: bold\">2024</span>\n",
       "</pre>\n"
      ],
      "text/plain": [
       "\u001b[1;36m1\u001b[0m. \u001b[1m[\u001b[0mQue reforma y adiciona diversas disposiciones de la Ley General de Acceso de las Mujeres a una Vida Libre de Violencia y del Código Penal Federal.\u001b[1m]\u001b[0m\u001b[1m(\u001b[0m\u001b[4;94mhttp://sil.gobernacion.gob.mx/Librerias/pp_ContenidoAsuntos.php?\u001b[0m\u001b[4;94mSID\u001b[0m\u001b[4;94m=\u001b[0m\u001b[4;94mda50379055d2759108e785b11976eaf9\u001b[0m\u001b[4;94m&\u001b[0m\u001b[4;94mClave\u001b[0m\u001b[4;94m=\u001b[0m\u001b[4;94m4702788\u001b[0m\u001b[4;94m)\u001b[0m\u001b[1m<\u001b[0m\u001b[35m/\u001b[0m\u001b[95mbr\u001b[0m\u001b[1m>\u001b[0m\n",
       "   Sen. Ruth Alejandra López Hernández, Cámara de Senadores , MC, \u001b[1;36m2\u001b[0m/\u001b[1;36m2024\u001b[0m\n"
      ]
     },
     "metadata": {},
     "output_type": "display_data"
    },
    {
     "data": {
      "text/html": [
       "<pre style=\"white-space:pre;overflow-x:auto;line-height:normal;font-family:Menlo,'DejaVu Sans Mono',consolas,'Courier New',monospace\"><span style=\"color: #008080; text-decoration-color: #008080; font-weight: bold\">1</span>. <span style=\"font-weight: bold\">[</span>Que reforma y adiciona diversas disposiciones de la Ley General de Acceso de las Mujeres a una Vida Libre de Violencia; y del Código Penal Federal.<span style=\"font-weight: bold\">](</span><span style=\"color: #0000ff; text-decoration-color: #0000ff; text-decoration: underline\">http://sil.gobernacion.gob.mx/Librerias/pp_ContenidoAsuntos.php?SID=da50379055d2759108e785b11976eaf9&amp;Clave=4702803)</span><span style=\"font-weight: bold\">&lt;</span><span style=\"color: #800080; text-decoration-color: #800080\">/</span><span style=\"color: #ff00ff; text-decoration-color: #ff00ff\">br</span><span style=\"font-weight: bold\">&gt;</span>\n",
       "   Sen. Alejandro Armenta Mier, Cámara de Senadores , Morena, <span style=\"color: #008080; text-decoration-color: #008080; font-weight: bold\">2</span>/<span style=\"color: #008080; text-decoration-color: #008080; font-weight: bold\">2024</span>\n",
       "</pre>\n"
      ],
      "text/plain": [
       "\u001b[1;36m1\u001b[0m. \u001b[1m[\u001b[0mQue reforma y adiciona diversas disposiciones de la Ley General de Acceso de las Mujeres a una Vida Libre de Violencia; y del Código Penal Federal.\u001b[1m]\u001b[0m\u001b[1m(\u001b[0m\u001b[4;94mhttp://sil.gobernacion.gob.mx/Librerias/pp_ContenidoAsuntos.php?\u001b[0m\u001b[4;94mSID\u001b[0m\u001b[4;94m=\u001b[0m\u001b[4;94mda50379055d2759108e785b11976eaf9\u001b[0m\u001b[4;94m&\u001b[0m\u001b[4;94mClave\u001b[0m\u001b[4;94m=\u001b[0m\u001b[4;94m4702803\u001b[0m\u001b[4;94m)\u001b[0m\u001b[1m<\u001b[0m\u001b[35m/\u001b[0m\u001b[95mbr\u001b[0m\u001b[1m>\u001b[0m\n",
       "   Sen. Alejandro Armenta Mier, Cámara de Senadores , Morena, \u001b[1;36m2\u001b[0m/\u001b[1;36m2024\u001b[0m\n"
      ]
     },
     "metadata": {},
     "output_type": "display_data"
    },
    {
     "data": {
      "text/html": [
       "<pre style=\"white-space:pre;overflow-x:auto;line-height:normal;font-family:Menlo,'DejaVu Sans Mono',consolas,'Courier New',monospace\"><span style=\"color: #008080; text-decoration-color: #008080; font-weight: bold\">1</span>. <span style=\"font-weight: bold\">[</span>Que reforma y adiciona diversas disposiciones de la Ley General en materia de Humanidades, Ciencias, Tecnologías e Innovación.<span style=\"font-weight: bold\">](</span><span style=\"color: #0000ff; text-decoration-color: #0000ff; text-decoration: underline\">http://sil.gobernacion.gob.mx/Librerias/pp_ContenidoAsuntos.php?SID=da50379055d2759108e785b11976eaf9&amp;Clave=4702669)</span><span style=\"font-weight: bold\">&lt;</span><span style=\"color: #800080; text-decoration-color: #800080\">/</span><span style=\"color: #ff00ff; text-decoration-color: #ff00ff\">br</span><span style=\"font-weight: bold\">&gt;</span>\n",
       "   Dip. Ana Karina Rojo Pimentel, Cámara de Diputados , PT, <span style=\"color: #008080; text-decoration-color: #008080; font-weight: bold\">2</span>/<span style=\"color: #008080; text-decoration-color: #008080; font-weight: bold\">2024</span>\n",
       "</pre>\n"
      ],
      "text/plain": [
       "\u001b[1;36m1\u001b[0m. \u001b[1m[\u001b[0mQue reforma y adiciona diversas disposiciones de la Ley General en materia de Humanidades, Ciencias, Tecnologías e Innovación.\u001b[1m]\u001b[0m\u001b[1m(\u001b[0m\u001b[4;94mhttp://sil.gobernacion.gob.mx/Librerias/pp_ContenidoAsuntos.php?\u001b[0m\u001b[4;94mSID\u001b[0m\u001b[4;94m=\u001b[0m\u001b[4;94mda50379055d2759108e785b11976eaf9\u001b[0m\u001b[4;94m&\u001b[0m\u001b[4;94mClave\u001b[0m\u001b[4;94m=\u001b[0m\u001b[4;94m4702669\u001b[0m\u001b[4;94m)\u001b[0m\u001b[1m<\u001b[0m\u001b[35m/\u001b[0m\u001b[95mbr\u001b[0m\u001b[1m>\u001b[0m\n",
       "   Dip. Ana Karina Rojo Pimentel, Cámara de Diputados , PT, \u001b[1;36m2\u001b[0m/\u001b[1;36m2024\u001b[0m\n"
      ]
     },
     "metadata": {},
     "output_type": "display_data"
    },
    {
     "data": {
      "text/html": [
       "<pre style=\"white-space:pre;overflow-x:auto;line-height:normal;font-family:Menlo,'DejaVu Sans Mono',consolas,'Courier New',monospace\"><span style=\"color: #008080; text-decoration-color: #008080; font-weight: bold\">1</span>. <span style=\"font-weight: bold\">[</span>Que reforma los artículos <span style=\"color: #008080; text-decoration-color: #008080; font-weight: bold\">13</span>, <span style=\"color: #008080; text-decoration-color: #008080; font-weight: bold\">57</span> y <span style=\"color: #008080; text-decoration-color: #008080; font-weight: bold\">101</span> Bis <span style=\"color: #008080; text-decoration-color: #008080; font-weight: bold\">2</span> de la Ley General de los Derechos de Niñas, Niños y Adolescentes, en materia de salud mental en la aplicación de los avances tecnológicos de la inteligencia artificial.<span style=\"font-weight: bold\">](</span><span style=\"color: #0000ff; text-decoration-color: #0000ff; text-decoration: underline\">http://sil.gobernacion.gob.mx/Librerias/pp_ContenidoAsuntos.php?SID=da50379055d2759108e785b11976eaf9&amp;Clave=4711431)</span><span style=\"font-weight: bold\">&lt;</span><span style=\"color: #800080; text-decoration-color: #800080\">/</span><span style=\"color: #ff00ff; text-decoration-color: #ff00ff\">br</span><span style=\"font-weight: bold\">&gt;</span>\n",
       "   Dip. Karina Marlen Barrón Perales, Cámara de Diputados , PRI, <span style=\"color: #008080; text-decoration-color: #008080; font-weight: bold\">2</span>/<span style=\"color: #008080; text-decoration-color: #008080; font-weight: bold\">2024</span>\n",
       "</pre>\n"
      ],
      "text/plain": [
       "\u001b[1;36m1\u001b[0m. \u001b[1m[\u001b[0mQue reforma los artículos \u001b[1;36m13\u001b[0m, \u001b[1;36m57\u001b[0m y \u001b[1;36m101\u001b[0m Bis \u001b[1;36m2\u001b[0m de la Ley General de los Derechos de Niñas, Niños y Adolescentes, en materia de salud mental en la aplicación de los avances tecnológicos de la inteligencia artificial.\u001b[1m]\u001b[0m\u001b[1m(\u001b[0m\u001b[4;94mhttp://sil.gobernacion.gob.mx/Librerias/pp_ContenidoAsuntos.php?\u001b[0m\u001b[4;94mSID\u001b[0m\u001b[4;94m=\u001b[0m\u001b[4;94mda50379055d2759108e785b11976eaf9\u001b[0m\u001b[4;94m&\u001b[0m\u001b[4;94mClave\u001b[0m\u001b[4;94m=\u001b[0m\u001b[4;94m4711431\u001b[0m\u001b[4;94m)\u001b[0m\u001b[1m<\u001b[0m\u001b[35m/\u001b[0m\u001b[95mbr\u001b[0m\u001b[1m>\u001b[0m\n",
       "   Dip. Karina Marlen Barrón Perales, Cámara de Diputados , PRI, \u001b[1;36m2\u001b[0m/\u001b[1;36m2024\u001b[0m\n"
      ]
     },
     "metadata": {},
     "output_type": "display_data"
    },
    {
     "data": {
      "text/html": [
       "<pre style=\"white-space:pre;overflow-x:auto;line-height:normal;font-family:Menlo,'DejaVu Sans Mono',consolas,'Courier New',monospace\"><span style=\"color: #008080; text-decoration-color: #008080; font-weight: bold\">1</span>. <span style=\"font-weight: bold\">[</span>Que adiciona una fracción IV Bis al artículo <span style=\"color: #008080; text-decoration-color: #008080; font-weight: bold\">30</span> y adiciona un artículo <span style=\"color: #008080; text-decoration-color: #008080; font-weight: bold\">86</span> de la Ley General de Educación.<span style=\"font-weight: bold\">](</span><span style=\"color: #0000ff; text-decoration-color: #0000ff; text-decoration: underline\">http://sil.gobernacion.gob.mx/Librerias/pp_ContenidoAsuntos.php?SID=da50379055d2759108e785b11976eaf9&amp;Clave=4711247)</span><span style=\"font-weight: bold\">&lt;</span><span style=\"color: #800080; text-decoration-color: #800080\">/</span><span style=\"color: #ff00ff; text-decoration-color: #ff00ff\">br</span><span style=\"font-weight: bold\">&gt;</span>\n",
       "   Sen. Geovanna del Carmen Bañuelos de la Torre, Cámara de Senadores , PT, <span style=\"color: #008080; text-decoration-color: #008080; font-weight: bold\">2</span>/<span style=\"color: #008080; text-decoration-color: #008080; font-weight: bold\">2024</span>\n",
       "</pre>\n"
      ],
      "text/plain": [
       "\u001b[1;36m1\u001b[0m. \u001b[1m[\u001b[0mQue adiciona una fracción IV Bis al artículo \u001b[1;36m30\u001b[0m y adiciona un artículo \u001b[1;36m86\u001b[0m de la Ley General de Educación.\u001b[1m]\u001b[0m\u001b[1m(\u001b[0m\u001b[4;94mhttp://sil.gobernacion.gob.mx/Librerias/pp_ContenidoAsuntos.php?\u001b[0m\u001b[4;94mSID\u001b[0m\u001b[4;94m=\u001b[0m\u001b[4;94mda50379055d2759108e785b11976eaf9\u001b[0m\u001b[4;94m&\u001b[0m\u001b[4;94mClave\u001b[0m\u001b[4;94m=\u001b[0m\u001b[4;94m4711247\u001b[0m\u001b[4;94m)\u001b[0m\u001b[1m<\u001b[0m\u001b[35m/\u001b[0m\u001b[95mbr\u001b[0m\u001b[1m>\u001b[0m\n",
       "   Sen. Geovanna del Carmen Bañuelos de la Torre, Cámara de Senadores , PT, \u001b[1;36m2\u001b[0m/\u001b[1;36m2024\u001b[0m\n"
      ]
     },
     "metadata": {},
     "output_type": "display_data"
    },
    {
     "data": {
      "text/html": [
       "<pre style=\"white-space:pre;overflow-x:auto;line-height:normal;font-family:Menlo,'DejaVu Sans Mono',consolas,'Courier New',monospace\"><span style=\"color: #008080; text-decoration-color: #008080; font-weight: bold\">1</span>. <span style=\"font-weight: bold\">[</span>Que reforma los artículos <span style=\"color: #008080; text-decoration-color: #008080; font-weight: bold\">6</span>° y <span style=\"color: #008080; text-decoration-color: #008080; font-weight: bold\">20</span> Quáter de la Ley General de Acceso de las Mujeres a una Vida Libre de Violencia.<span style=\"font-weight: bold\">](</span><span style=\"color: #0000ff; text-decoration-color: #0000ff; text-decoration: underline\">http://sil.gobernacion.gob.mx/Librerias/pp_ContenidoAsuntos.php?SID=da50379055d2759108e785b11976eaf9&amp;Clave=4713960)</span><span style=\"font-weight: bold\">&lt;</span><span style=\"color: #800080; text-decoration-color: #800080\">/</span><span style=\"color: #ff00ff; text-decoration-color: #ff00ff\">br</span><span style=\"font-weight: bold\">&gt;</span>\n",
       "   Dip. Karla Ayala Villalobos, Cámara de Diputados , PRI, <span style=\"color: #008080; text-decoration-color: #008080; font-weight: bold\">3</span>/<span style=\"color: #008080; text-decoration-color: #008080; font-weight: bold\">2024</span>\n",
       "</pre>\n"
      ],
      "text/plain": [
       "\u001b[1;36m1\u001b[0m. \u001b[1m[\u001b[0mQue reforma los artículos \u001b[1;36m6\u001b[0m° y \u001b[1;36m20\u001b[0m Quáter de la Ley General de Acceso de las Mujeres a una Vida Libre de Violencia.\u001b[1m]\u001b[0m\u001b[1m(\u001b[0m\u001b[4;94mhttp://sil.gobernacion.gob.mx/Librerias/pp_ContenidoAsuntos.php?\u001b[0m\u001b[4;94mSID\u001b[0m\u001b[4;94m=\u001b[0m\u001b[4;94mda50379055d2759108e785b11976eaf9\u001b[0m\u001b[4;94m&\u001b[0m\u001b[4;94mClave\u001b[0m\u001b[4;94m=\u001b[0m\u001b[4;94m4713960\u001b[0m\u001b[4;94m)\u001b[0m\u001b[1m<\u001b[0m\u001b[35m/\u001b[0m\u001b[95mbr\u001b[0m\u001b[1m>\u001b[0m\n",
       "   Dip. Karla Ayala Villalobos, Cámara de Diputados , PRI, \u001b[1;36m3\u001b[0m/\u001b[1;36m2024\u001b[0m\n"
      ]
     },
     "metadata": {},
     "output_type": "display_data"
    },
    {
     "data": {
      "text/html": [
       "<pre style=\"white-space:pre;overflow-x:auto;line-height:normal;font-family:Menlo,'DejaVu Sans Mono',consolas,'Courier New',monospace\"><span style=\"color: #008080; text-decoration-color: #008080; font-weight: bold\">1</span>. <span style=\"font-weight: bold\">[</span>Que reforma y adiciona los artículos <span style=\"color: #008080; text-decoration-color: #008080; font-weight: bold\">211</span> Ter y <span style=\"color: #008080; text-decoration-color: #008080; font-weight: bold\">211</span> Ter <span style=\"color: #008080; text-decoration-color: #008080; font-weight: bold\">1</span> del Código Penal Federal.<span style=\"font-weight: bold\">](</span><span style=\"color: #0000ff; text-decoration-color: #0000ff; text-decoration: underline\">http://sil.gobernacion.gob.mx/Librerias/pp_ContenidoAsuntos.php?SID=da50379055d2759108e785b11976eaf9&amp;Clave=4713927)</span><span style=\"font-weight: bold\">&lt;</span><span style=\"color: #800080; text-decoration-color: #800080\">/</span><span style=\"color: #ff00ff; text-decoration-color: #ff00ff\">br</span><span style=\"font-weight: bold\">&gt;</span>\n",
       "   Dip. Armando Corona Arvizu, Cámara de Diputados , Morena, <span style=\"color: #008080; text-decoration-color: #008080; font-weight: bold\">3</span>/<span style=\"color: #008080; text-decoration-color: #008080; font-weight: bold\">2024</span>\n",
       "</pre>\n"
      ],
      "text/plain": [
       "\u001b[1;36m1\u001b[0m. \u001b[1m[\u001b[0mQue reforma y adiciona los artículos \u001b[1;36m211\u001b[0m Ter y \u001b[1;36m211\u001b[0m Ter \u001b[1;36m1\u001b[0m del Código Penal Federal.\u001b[1m]\u001b[0m\u001b[1m(\u001b[0m\u001b[4;94mhttp://sil.gobernacion.gob.mx/Librerias/pp_ContenidoAsuntos.php?\u001b[0m\u001b[4;94mSID\u001b[0m\u001b[4;94m=\u001b[0m\u001b[4;94mda50379055d2759108e785b11976eaf9\u001b[0m\u001b[4;94m&\u001b[0m\u001b[4;94mClave\u001b[0m\u001b[4;94m=\u001b[0m\u001b[4;94m4713927\u001b[0m\u001b[4;94m)\u001b[0m\u001b[1m<\u001b[0m\u001b[35m/\u001b[0m\u001b[95mbr\u001b[0m\u001b[1m>\u001b[0m\n",
       "   Dip. Armando Corona Arvizu, Cámara de Diputados , Morena, \u001b[1;36m3\u001b[0m/\u001b[1;36m2024\u001b[0m\n"
      ]
     },
     "metadata": {},
     "output_type": "display_data"
    },
    {
     "data": {
      "text/html": [
       "<pre style=\"white-space:pre;overflow-x:auto;line-height:normal;font-family:Menlo,'DejaVu Sans Mono',consolas,'Courier New',monospace\"><span style=\"color: #008080; text-decoration-color: #008080; font-weight: bold\">1</span>. <span style=\"font-weight: bold\">[</span>Que adiciona una nueva fracción VIII Bis al artículo <span style=\"color: #008080; text-decoration-color: #008080; font-weight: bold\">11</span> de la Ley General en Materia de Humanidades, Ciencias, Tecnologías e Innovación.<span style=\"font-weight: bold\">](</span><span style=\"color: #0000ff; text-decoration-color: #0000ff; text-decoration: underline\">http://sil.gobernacion.gob.mx/Librerias/pp_ContenidoAsuntos.php?SID=da50379055d2759108e785b11976eaf9&amp;Clave=4715588)</span><span style=\"font-weight: bold\">&lt;</span><span style=\"color: #800080; text-decoration-color: #800080\">/</span><span style=\"color: #ff00ff; text-decoration-color: #ff00ff\">br</span><span style=\"font-weight: bold\">&gt;</span>\n",
       "   Sen. Geovanna del Carmen Bañuelos de la Torre, Cámara de Senadores , PT, <span style=\"color: #008080; text-decoration-color: #008080; font-weight: bold\">3</span>/<span style=\"color: #008080; text-decoration-color: #008080; font-weight: bold\">2024</span>\n",
       "</pre>\n"
      ],
      "text/plain": [
       "\u001b[1;36m1\u001b[0m. \u001b[1m[\u001b[0mQue adiciona una nueva fracción VIII Bis al artículo \u001b[1;36m11\u001b[0m de la Ley General en Materia de Humanidades, Ciencias, Tecnologías e Innovación.\u001b[1m]\u001b[0m\u001b[1m(\u001b[0m\u001b[4;94mhttp://sil.gobernacion.gob.mx/Librerias/pp_ContenidoAsuntos.php?\u001b[0m\u001b[4;94mSID\u001b[0m\u001b[4;94m=\u001b[0m\u001b[4;94mda50379055d2759108e785b11976eaf9\u001b[0m\u001b[4;94m&\u001b[0m\u001b[4;94mClave\u001b[0m\u001b[4;94m=\u001b[0m\u001b[4;94m4715588\u001b[0m\u001b[4;94m)\u001b[0m\u001b[1m<\u001b[0m\u001b[35m/\u001b[0m\u001b[95mbr\u001b[0m\u001b[1m>\u001b[0m\n",
       "   Sen. Geovanna del Carmen Bañuelos de la Torre, Cámara de Senadores , PT, \u001b[1;36m3\u001b[0m/\u001b[1;36m2024\u001b[0m\n"
      ]
     },
     "metadata": {},
     "output_type": "display_data"
    },
    {
     "data": {
      "text/html": [
       "<pre style=\"white-space:pre;overflow-x:auto;line-height:normal;font-family:Menlo,'DejaVu Sans Mono',consolas,'Courier New',monospace\"><span style=\"color: #008080; text-decoration-color: #008080; font-weight: bold\">1</span>. <span style=\"font-weight: bold\">[</span>Que adiciona diversas disposiciones de la Ley General en materia de Humanidades, Ciencias, Tecnologías e Innovación, en materia de lineamientos de políticas públicas para el fomento y promoción del uso de inteligencia artificial.<span style=\"font-weight: bold\">](</span><span style=\"color: #0000ff; text-decoration-color: #0000ff; text-decoration: underline\">http://sil.gobernacion.gob.mx/Librerias/pp_ContenidoAsuntos.php?SID=da50379055d2759108e785b11976eaf9&amp;Clave=4726765)</span><span style=\"font-weight: bold\">&lt;</span><span style=\"color: #800080; text-decoration-color: #800080\">/</span><span style=\"color: #ff00ff; text-decoration-color: #ff00ff\">br</span><span style=\"font-weight: bold\">&gt;</span>\n",
       "   Dip. Miguel Torruco Garza, Cámara de Diputados , Morena, <span style=\"color: #008080; text-decoration-color: #008080; font-weight: bold\">3</span>/<span style=\"color: #008080; text-decoration-color: #008080; font-weight: bold\">2024</span>\n",
       "</pre>\n"
      ],
      "text/plain": [
       "\u001b[1;36m1\u001b[0m. \u001b[1m[\u001b[0mQue adiciona diversas disposiciones de la Ley General en materia de Humanidades, Ciencias, Tecnologías e Innovación, en materia de lineamientos de políticas públicas para el fomento y promoción del uso de inteligencia artificial.\u001b[1m]\u001b[0m\u001b[1m(\u001b[0m\u001b[4;94mhttp://sil.gobernacion.gob.mx/Librerias/pp_ContenidoAsuntos.php?\u001b[0m\u001b[4;94mSID\u001b[0m\u001b[4;94m=\u001b[0m\u001b[4;94mda50379055d2759108e785b11976eaf9\u001b[0m\u001b[4;94m&\u001b[0m\u001b[4;94mClave\u001b[0m\u001b[4;94m=\u001b[0m\u001b[4;94m4726765\u001b[0m\u001b[4;94m)\u001b[0m\u001b[1m<\u001b[0m\u001b[35m/\u001b[0m\u001b[95mbr\u001b[0m\u001b[1m>\u001b[0m\n",
       "   Dip. Miguel Torruco Garza, Cámara de Diputados , Morena, \u001b[1;36m3\u001b[0m/\u001b[1;36m2024\u001b[0m\n"
      ]
     },
     "metadata": {},
     "output_type": "display_data"
    },
    {
     "data": {
      "text/html": [
       "<pre style=\"white-space:pre;overflow-x:auto;line-height:normal;font-family:Menlo,'DejaVu Sans Mono',consolas,'Courier New',monospace\"><span style=\"color: #008080; text-decoration-color: #008080; font-weight: bold\">1</span>. <span style=\"font-weight: bold\">[</span>Que expide la Ley Federal que regula la Inteligencia Artificial.<span style=\"font-weight: bold\">](</span><span style=\"color: #0000ff; text-decoration-color: #0000ff; text-decoration: underline\">http://sil.gobernacion.gob.mx/Librerias/pp_ContenidoAsuntos.php?SID=da50379055d2759108e785b11976eaf9&amp;Clave=4729480)</span><span style=\"font-weight: bold\">&lt;</span><span style=\"color: #800080; text-decoration-color: #800080\">/</span><span style=\"color: #ff00ff; text-decoration-color: #ff00ff\">br</span><span style=\"font-weight: bold\">&gt;</span>\n",
       "   Sen. Ricardo Monreal Ávila, Cámara de Senadores , Morena, <span style=\"color: #008080; text-decoration-color: #008080; font-weight: bold\">4</span>/<span style=\"color: #008080; text-decoration-color: #008080; font-weight: bold\">2024</span>\n",
       "</pre>\n"
      ],
      "text/plain": [
       "\u001b[1;36m1\u001b[0m. \u001b[1m[\u001b[0mQue expide la Ley Federal que regula la Inteligencia Artificial.\u001b[1m]\u001b[0m\u001b[1m(\u001b[0m\u001b[4;94mhttp://sil.gobernacion.gob.mx/Librerias/pp_ContenidoAsuntos.php?\u001b[0m\u001b[4;94mSID\u001b[0m\u001b[4;94m=\u001b[0m\u001b[4;94mda50379055d2759108e785b11976eaf9\u001b[0m\u001b[4;94m&\u001b[0m\u001b[4;94mClave\u001b[0m\u001b[4;94m=\u001b[0m\u001b[4;94m4729480\u001b[0m\u001b[4;94m)\u001b[0m\u001b[1m<\u001b[0m\u001b[35m/\u001b[0m\u001b[95mbr\u001b[0m\u001b[1m>\u001b[0m\n",
       "   Sen. Ricardo Monreal Ávila, Cámara de Senadores , Morena, \u001b[1;36m4\u001b[0m/\u001b[1;36m2024\u001b[0m\n"
      ]
     },
     "metadata": {},
     "output_type": "display_data"
    },
    {
     "data": {
      "text/html": [
       "<pre style=\"white-space:pre;overflow-x:auto;line-height:normal;font-family:Menlo,'DejaVu Sans Mono',consolas,'Courier New',monospace\"><span style=\"color: #008080; text-decoration-color: #008080; font-weight: bold\">1</span>. <span style=\"font-weight: bold\">[</span>Que adiciona el artículo <span style=\"color: #008080; text-decoration-color: #008080; font-weight: bold\">73</span> de la Constitución Política de los Estados Unidos Mexicanos, en materia de inteligencia artificial.<span style=\"font-weight: bold\">](</span><span style=\"color: #0000ff; text-decoration-color: #0000ff; text-decoration: underline\">http://sil.gobernacion.gob.mx/Librerias/pp_ContenidoAsuntos.php?SID=da50379055d2759108e785b11976eaf9&amp;Clave=4729867)</span><span style=\"font-weight: bold\">&lt;</span><span style=\"color: #800080; text-decoration-color: #800080\">/</span><span style=\"color: #ff00ff; text-decoration-color: #ff00ff\">br</span><span style=\"font-weight: bold\">&gt;</span>\n",
       "   Dip. Jesús Alberto Velázquez Flores, Cámara de Diputados , PRD, <span style=\"color: #008080; text-decoration-color: #008080; font-weight: bold\">4</span>/<span style=\"color: #008080; text-decoration-color: #008080; font-weight: bold\">2024</span>\n",
       "</pre>\n"
      ],
      "text/plain": [
       "\u001b[1;36m1\u001b[0m. \u001b[1m[\u001b[0mQue adiciona el artículo \u001b[1;36m73\u001b[0m de la Constitución Política de los Estados Unidos Mexicanos, en materia de inteligencia artificial.\u001b[1m]\u001b[0m\u001b[1m(\u001b[0m\u001b[4;94mhttp://sil.gobernacion.gob.mx/Librerias/pp_ContenidoAsuntos.php?\u001b[0m\u001b[4;94mSID\u001b[0m\u001b[4;94m=\u001b[0m\u001b[4;94mda50379055d2759108e785b11976eaf9\u001b[0m\u001b[4;94m&\u001b[0m\u001b[4;94mClave\u001b[0m\u001b[4;94m=\u001b[0m\u001b[4;94m4729867\u001b[0m\u001b[4;94m)\u001b[0m\u001b[1m<\u001b[0m\u001b[35m/\u001b[0m\u001b[95mbr\u001b[0m\u001b[1m>\u001b[0m\n",
       "   Dip. Jesús Alberto Velázquez Flores, Cámara de Diputados , PRD, \u001b[1;36m4\u001b[0m/\u001b[1;36m2024\u001b[0m\n"
      ]
     },
     "metadata": {},
     "output_type": "display_data"
    },
    {
     "data": {
      "text/html": [
       "<pre style=\"white-space:pre;overflow-x:auto;line-height:normal;font-family:Menlo,'DejaVu Sans Mono',consolas,'Courier New',monospace\"><span style=\"color: #008080; text-decoration-color: #008080; font-weight: bold\">1</span>. <span style=\"font-weight: bold\">[</span>Que reforma el artículo <span style=\"color: #008080; text-decoration-color: #008080; font-weight: bold\">1916</span> del Código Civil Federal y adiciona un artículo <span style=\"color: #008080; text-decoration-color: #008080; font-weight: bold\">368</span> Sexties al Código Penal Federal.<span style=\"font-weight: bold\">](</span><span style=\"color: #0000ff; text-decoration-color: #0000ff; text-decoration: underline\">http://sil.gobernacion.gob.mx/Librerias/pp_ContenidoAsuntos.php?SID=da50379055d2759108e785b11976eaf9&amp;Clave=4749780)</span><span style=\"font-weight: bold\">&lt;</span><span style=\"color: #800080; text-decoration-color: #800080\">/</span><span style=\"color: #ff00ff; text-decoration-color: #ff00ff\">br</span><span style=\"font-weight: bold\">&gt;</span>\n",
       "   Dip. Margarita García García, Cámara de Diputados , PT, <span style=\"color: #008080; text-decoration-color: #008080; font-weight: bold\">4</span>/<span style=\"color: #008080; text-decoration-color: #008080; font-weight: bold\">2024</span>\n",
       "</pre>\n"
      ],
      "text/plain": [
       "\u001b[1;36m1\u001b[0m. \u001b[1m[\u001b[0mQue reforma el artículo \u001b[1;36m1916\u001b[0m del Código Civil Federal y adiciona un artículo \u001b[1;36m368\u001b[0m Sexties al Código Penal Federal.\u001b[1m]\u001b[0m\u001b[1m(\u001b[0m\u001b[4;94mhttp://sil.gobernacion.gob.mx/Librerias/pp_ContenidoAsuntos.php?\u001b[0m\u001b[4;94mSID\u001b[0m\u001b[4;94m=\u001b[0m\u001b[4;94mda50379055d2759108e785b11976eaf9\u001b[0m\u001b[4;94m&\u001b[0m\u001b[4;94mClave\u001b[0m\u001b[4;94m=\u001b[0m\u001b[4;94m4749780\u001b[0m\u001b[4;94m)\u001b[0m\u001b[1m<\u001b[0m\u001b[35m/\u001b[0m\u001b[95mbr\u001b[0m\u001b[1m>\u001b[0m\n",
       "   Dip. Margarita García García, Cámara de Diputados , PT, \u001b[1;36m4\u001b[0m/\u001b[1;36m2024\u001b[0m\n"
      ]
     },
     "metadata": {},
     "output_type": "display_data"
    },
    {
     "data": {
      "text/html": [
       "<pre style=\"white-space:pre;overflow-x:auto;line-height:normal;font-family:Menlo,'DejaVu Sans Mono',consolas,'Courier New',monospace\"><span style=\"color: #008080; text-decoration-color: #008080; font-weight: bold\">1</span>. <span style=\"font-weight: bold\">[</span>Que reforma y adiciona los artículos <span style=\"color: #008080; text-decoration-color: #008080; font-weight: bold\">153</span> C y <span style=\"color: #008080; text-decoration-color: #008080; font-weight: bold\">153</span> K de la Ley Federal del Trabajo.<span style=\"font-weight: bold\">](</span><span style=\"color: #0000ff; text-decoration-color: #0000ff; text-decoration: underline\">http://sil.gobernacion.gob.mx/Librerias/pp_ContenidoAsuntos.php?SID=da50379055d2759108e785b11976eaf9&amp;Clave=4749685)</span><span style=\"font-weight: bold\">&lt;</span><span style=\"color: #800080; text-decoration-color: #800080\">/</span><span style=\"color: #ff00ff; text-decoration-color: #ff00ff\">br</span><span style=\"font-weight: bold\">&gt;</span>\n",
       "   Dip. Luis Enrique Martínez Ventura, Cámara de Diputados , PT, <span style=\"color: #008080; text-decoration-color: #008080; font-weight: bold\">4</span>/<span style=\"color: #008080; text-decoration-color: #008080; font-weight: bold\">2024</span>\n",
       "</pre>\n"
      ],
      "text/plain": [
       "\u001b[1;36m1\u001b[0m. \u001b[1m[\u001b[0mQue reforma y adiciona los artículos \u001b[1;36m153\u001b[0m C y \u001b[1;36m153\u001b[0m K de la Ley Federal del Trabajo.\u001b[1m]\u001b[0m\u001b[1m(\u001b[0m\u001b[4;94mhttp://sil.gobernacion.gob.mx/Librerias/pp_ContenidoAsuntos.php?\u001b[0m\u001b[4;94mSID\u001b[0m\u001b[4;94m=\u001b[0m\u001b[4;94mda50379055d2759108e785b11976eaf9\u001b[0m\u001b[4;94m&\u001b[0m\u001b[4;94mClave\u001b[0m\u001b[4;94m=\u001b[0m\u001b[4;94m4749685\u001b[0m\u001b[4;94m)\u001b[0m\u001b[1m<\u001b[0m\u001b[35m/\u001b[0m\u001b[95mbr\u001b[0m\u001b[1m>\u001b[0m\n",
       "   Dip. Luis Enrique Martínez Ventura, Cámara de Diputados , PT, \u001b[1;36m4\u001b[0m/\u001b[1;36m2024\u001b[0m\n"
      ]
     },
     "metadata": {},
     "output_type": "display_data"
    },
    {
     "data": {
      "text/html": [
       "<pre style=\"white-space:pre;overflow-x:auto;line-height:normal;font-family:Menlo,'DejaVu Sans Mono',consolas,'Courier New',monospace\"><span style=\"color: #008080; text-decoration-color: #008080; font-weight: bold\">1</span>. <span style=\"font-weight: bold\">[</span>Que reforma y adiciona diversas disposiciones de la Ley Federal del Derecho de Autor.<span style=\"font-weight: bold\">](</span><span style=\"color: #0000ff; text-decoration-color: #0000ff; text-decoration: underline\">http://sil.gobernacion.gob.mx/Librerias/pp_ContenidoAsuntos.php?SID=da50379055d2759108e785b11976eaf9&amp;Clave=4749774)</span><span style=\"font-weight: bold\">&lt;</span><span style=\"color: #800080; text-decoration-color: #800080\">/</span><span style=\"color: #ff00ff; text-decoration-color: #ff00ff\">br</span><span style=\"font-weight: bold\">&gt;</span>\n",
       "   Dip. Margarita García García, Cámara de Diputados , PT, <span style=\"color: #008080; text-decoration-color: #008080; font-weight: bold\">4</span>/<span style=\"color: #008080; text-decoration-color: #008080; font-weight: bold\">2024</span>\n",
       "</pre>\n"
      ],
      "text/plain": [
       "\u001b[1;36m1\u001b[0m. \u001b[1m[\u001b[0mQue reforma y adiciona diversas disposiciones de la Ley Federal del Derecho de Autor.\u001b[1m]\u001b[0m\u001b[1m(\u001b[0m\u001b[4;94mhttp://sil.gobernacion.gob.mx/Librerias/pp_ContenidoAsuntos.php?\u001b[0m\u001b[4;94mSID\u001b[0m\u001b[4;94m=\u001b[0m\u001b[4;94mda50379055d2759108e785b11976eaf9\u001b[0m\u001b[4;94m&\u001b[0m\u001b[4;94mClave\u001b[0m\u001b[4;94m=\u001b[0m\u001b[4;94m4749774\u001b[0m\u001b[4;94m)\u001b[0m\u001b[1m<\u001b[0m\u001b[35m/\u001b[0m\u001b[95mbr\u001b[0m\u001b[1m>\u001b[0m\n",
       "   Dip. Margarita García García, Cámara de Diputados , PT, \u001b[1;36m4\u001b[0m/\u001b[1;36m2024\u001b[0m\n"
      ]
     },
     "metadata": {},
     "output_type": "display_data"
    },
    {
     "data": {
      "text/html": [
       "<pre style=\"white-space:pre;overflow-x:auto;line-height:normal;font-family:Menlo,'DejaVu Sans Mono',consolas,'Courier New',monospace\"><span style=\"color: #008080; text-decoration-color: #008080; font-weight: bold\">1</span>. <span style=\"font-weight: bold\">[</span>Que reforma y adiciona los artículos <span style=\"color: #008080; text-decoration-color: #008080; font-weight: bold\">21</span> y <span style=\"color: #008080; text-decoration-color: #008080; font-weight: bold\">24</span> de la Ley Federal del Derecho de Autor.<span style=\"font-weight: bold\">](</span><span style=\"color: #0000ff; text-decoration-color: #0000ff; text-decoration: underline\">http://sil.gobernacion.gob.mx/Librerias/pp_ContenidoAsuntos.php?SID=da50379055d2759108e785b11976eaf9&amp;Clave=4749691)</span><span style=\"font-weight: bold\">&lt;</span><span style=\"color: #800080; text-decoration-color: #800080\">/</span><span style=\"color: #ff00ff; text-decoration-color: #ff00ff\">br</span><span style=\"font-weight: bold\">&gt;</span>\n",
       "   Dip. Steve Esteban Del Razo Montiel, Cámara de Diputados , Morena, <span style=\"color: #008080; text-decoration-color: #008080; font-weight: bold\">4</span>/<span style=\"color: #008080; text-decoration-color: #008080; font-weight: bold\">2024</span>\n",
       "</pre>\n"
      ],
      "text/plain": [
       "\u001b[1;36m1\u001b[0m. \u001b[1m[\u001b[0mQue reforma y adiciona los artículos \u001b[1;36m21\u001b[0m y \u001b[1;36m24\u001b[0m de la Ley Federal del Derecho de Autor.\u001b[1m]\u001b[0m\u001b[1m(\u001b[0m\u001b[4;94mhttp://sil.gobernacion.gob.mx/Librerias/pp_ContenidoAsuntos.php?\u001b[0m\u001b[4;94mSID\u001b[0m\u001b[4;94m=\u001b[0m\u001b[4;94mda50379055d2759108e785b11976eaf9\u001b[0m\u001b[4;94m&\u001b[0m\u001b[4;94mClave\u001b[0m\u001b[4;94m=\u001b[0m\u001b[4;94m4749691\u001b[0m\u001b[4;94m)\u001b[0m\u001b[1m<\u001b[0m\u001b[35m/\u001b[0m\u001b[95mbr\u001b[0m\u001b[1m>\u001b[0m\n",
       "   Dip. Steve Esteban Del Razo Montiel, Cámara de Diputados , Morena, \u001b[1;36m4\u001b[0m/\u001b[1;36m2024\u001b[0m\n"
      ]
     },
     "metadata": {},
     "output_type": "display_data"
    },
    {
     "data": {
      "text/html": [
       "<pre style=\"white-space:pre;overflow-x:auto;line-height:normal;font-family:Menlo,'DejaVu Sans Mono',consolas,'Courier New',monospace\"><span style=\"color: #008080; text-decoration-color: #008080; font-weight: bold\">1</span>. <span style=\"font-weight: bold\">[</span>Que reforma los artículos <span style=\"color: #008080; text-decoration-color: #008080; font-weight: bold\">5</span>, <span style=\"color: #008080; text-decoration-color: #008080; font-weight: bold\">11</span>, <span style=\"color: #008080; text-decoration-color: #008080; font-weight: bold\">17</span>, <span style=\"color: #008080; text-decoration-color: #008080; font-weight: bold\">24</span>; adiciona un último párrafo al artículo <span style=\"color: #008080; text-decoration-color: #008080; font-weight: bold\">4</span>; adiciona un último párrafo al artículo <span style=\"color: #008080; text-decoration-color: #008080; font-weight: bold\">13</span>; adiciona una fracción XI al artículo <span style=\"color: #008080; text-decoration-color: #008080; font-weight: bold\">14</span>; y adiciona un artículo <span style=\"color: #008080; text-decoration-color: #008080; font-weight: bold\">114</span> Bis de la Ley Federal del Derecho de Autor.<span style=\"font-weight: bold\">](</span><span style=\"color: #0000ff; text-decoration-color: #0000ff; text-decoration: underline\">http://sil.gobernacion.gob.mx/Librerias/pp_ContenidoAsuntos.php?SID=da50379055d2759108e785b11976eaf9&amp;Clave=4750813)</span><span style=\"font-weight: bold\">&lt;</span><span style=\"color: #800080; text-decoration-color: #800080\">/</span><span style=\"color: #ff00ff; text-decoration-color: #ff00ff\">br</span><span style=\"font-weight: bold\">&gt;</span>\n",
       "   Sen. Geovanna del Carmen Bañuelos de la Torre, Cámara de Senadores , PT, <span style=\"color: #008080; text-decoration-color: #008080; font-weight: bold\">4</span>/<span style=\"color: #008080; text-decoration-color: #008080; font-weight: bold\">2024</span>\n",
       "</pre>\n"
      ],
      "text/plain": [
       "\u001b[1;36m1\u001b[0m. \u001b[1m[\u001b[0mQue reforma los artículos \u001b[1;36m5\u001b[0m, \u001b[1;36m11\u001b[0m, \u001b[1;36m17\u001b[0m, \u001b[1;36m24\u001b[0m; adiciona un último párrafo al artículo \u001b[1;36m4\u001b[0m; adiciona un último párrafo al artículo \u001b[1;36m13\u001b[0m; adiciona una fracción XI al artículo \u001b[1;36m14\u001b[0m; y adiciona un artículo \u001b[1;36m114\u001b[0m Bis de la Ley Federal del Derecho de Autor.\u001b[1m]\u001b[0m\u001b[1m(\u001b[0m\u001b[4;94mhttp://sil.gobernacion.gob.mx/Librerias/pp_ContenidoAsuntos.php?\u001b[0m\u001b[4;94mSID\u001b[0m\u001b[4;94m=\u001b[0m\u001b[4;94mda50379055d2759108e785b11976eaf9\u001b[0m\u001b[4;94m&\u001b[0m\u001b[4;94mClave\u001b[0m\u001b[4;94m=\u001b[0m\u001b[4;94m4750813\u001b[0m\u001b[4;94m)\u001b[0m\u001b[1m<\u001b[0m\u001b[35m/\u001b[0m\u001b[95mbr\u001b[0m\u001b[1m>\u001b[0m\n",
       "   Sen. Geovanna del Carmen Bañuelos de la Torre, Cámara de Senadores , PT, \u001b[1;36m4\u001b[0m/\u001b[1;36m2024\u001b[0m\n"
      ]
     },
     "metadata": {},
     "output_type": "display_data"
    },
    {
     "data": {
      "text/html": [
       "<pre style=\"white-space:pre;overflow-x:auto;line-height:normal;font-family:Menlo,'DejaVu Sans Mono',consolas,'Courier New',monospace\"><span style=\"color: #008080; text-decoration-color: #008080; font-weight: bold\">1</span>. <span style=\"font-weight: bold\">[</span>Que reforma y adiciona los artículos <span style=\"color: #008080; text-decoration-color: #008080; font-weight: bold\">20</span> Ter y <span style=\"color: #008080; text-decoration-color: #008080; font-weight: bold\">20</span> Quáter de la Ley General de Acceso de las Mujeres a una Vida Libre de Violencia.<span style=\"font-weight: bold\">](</span><span style=\"color: #0000ff; text-decoration-color: #0000ff; text-decoration: underline\">http://sil.gobernacion.gob.mx/Librerias/pp_ContenidoAsuntos.php?SID=da50379055d2759108e785b11976eaf9&amp;Clave=4754595)</span><span style=\"font-weight: bold\">&lt;</span><span style=\"color: #800080; text-decoration-color: #800080\">/</span><span style=\"color: #ff00ff; text-decoration-color: #ff00ff\">br</span><span style=\"font-weight: bold\">&gt;</span>\n",
       "   Dip. Julieta Kristal Vences Valencia, Cámara de Diputados , Morena, <span style=\"color: #008080; text-decoration-color: #008080; font-weight: bold\">4</span>/<span style=\"color: #008080; text-decoration-color: #008080; font-weight: bold\">2024</span>\n",
       "</pre>\n"
      ],
      "text/plain": [
       "\u001b[1;36m1\u001b[0m. \u001b[1m[\u001b[0mQue reforma y adiciona los artículos \u001b[1;36m20\u001b[0m Ter y \u001b[1;36m20\u001b[0m Quáter de la Ley General de Acceso de las Mujeres a una Vida Libre de Violencia.\u001b[1m]\u001b[0m\u001b[1m(\u001b[0m\u001b[4;94mhttp://sil.gobernacion.gob.mx/Librerias/pp_ContenidoAsuntos.php?\u001b[0m\u001b[4;94mSID\u001b[0m\u001b[4;94m=\u001b[0m\u001b[4;94mda50379055d2759108e785b11976eaf9\u001b[0m\u001b[4;94m&\u001b[0m\u001b[4;94mClave\u001b[0m\u001b[4;94m=\u001b[0m\u001b[4;94m4754595\u001b[0m\u001b[4;94m)\u001b[0m\u001b[1m<\u001b[0m\u001b[35m/\u001b[0m\u001b[95mbr\u001b[0m\u001b[1m>\u001b[0m\n",
       "   Dip. Julieta Kristal Vences Valencia, Cámara de Diputados , Morena, \u001b[1;36m4\u001b[0m/\u001b[1;36m2024\u001b[0m\n"
      ]
     },
     "metadata": {},
     "output_type": "display_data"
    },
    {
     "data": {
      "text/html": [
       "<pre style=\"white-space:pre;overflow-x:auto;line-height:normal;font-family:Menlo,'DejaVu Sans Mono',consolas,'Courier New',monospace\"><span style=\"color: #008080; text-decoration-color: #008080; font-weight: bold\">1</span>. <span style=\"font-weight: bold\">[</span>Que reforma y adiciona diversas disposiciones de la Ley General en materia de Humanidades, Ciencias, Tecnologías e Innovación, relativa a la inteligencia artificial.<span style=\"font-weight: bold\">](</span><span style=\"color: #0000ff; text-decoration-color: #0000ff; text-decoration: underline\">http://sil.gobernacion.gob.mx/Librerias/pp_ContenidoAsuntos.php?SID=da50379055d2759108e785b11976eaf9&amp;Clave=4754685)</span><span style=\"font-weight: bold\">&lt;</span><span style=\"color: #800080; text-decoration-color: #800080\">/</span><span style=\"color: #ff00ff; text-decoration-color: #ff00ff\">br</span><span style=\"font-weight: bold\">&gt;</span>\n",
       "   Dip. María de los Angeles Gutiérrez Valdez, Cámara de Diputados , PAN, <span style=\"color: #008080; text-decoration-color: #008080; font-weight: bold\">4</span>/<span style=\"color: #008080; text-decoration-color: #008080; font-weight: bold\">2024</span>\n",
       "</pre>\n"
      ],
      "text/plain": [
       "\u001b[1;36m1\u001b[0m. \u001b[1m[\u001b[0mQue reforma y adiciona diversas disposiciones de la Ley General en materia de Humanidades, Ciencias, Tecnologías e Innovación, relativa a la inteligencia artificial.\u001b[1m]\u001b[0m\u001b[1m(\u001b[0m\u001b[4;94mhttp://sil.gobernacion.gob.mx/Librerias/pp_ContenidoAsuntos.php?\u001b[0m\u001b[4;94mSID\u001b[0m\u001b[4;94m=\u001b[0m\u001b[4;94mda50379055d2759108e785b11976eaf9\u001b[0m\u001b[4;94m&\u001b[0m\u001b[4;94mClave\u001b[0m\u001b[4;94m=\u001b[0m\u001b[4;94m4754685\u001b[0m\u001b[4;94m)\u001b[0m\u001b[1m<\u001b[0m\u001b[35m/\u001b[0m\u001b[95mbr\u001b[0m\u001b[1m>\u001b[0m\n",
       "   Dip. María de los Angeles Gutiérrez Valdez, Cámara de Diputados , PAN, \u001b[1;36m4\u001b[0m/\u001b[1;36m2024\u001b[0m\n"
      ]
     },
     "metadata": {},
     "output_type": "display_data"
    },
    {
     "data": {
      "text/html": [
       "<pre style=\"white-space:pre;overflow-x:auto;line-height:normal;font-family:Menlo,'DejaVu Sans Mono',consolas,'Courier New',monospace\"><span style=\"color: #008080; text-decoration-color: #008080; font-weight: bold\">1</span>. <span style=\"font-weight: bold\">[</span>Que reforma y adiciona el artículo <span style=\"color: #008080; text-decoration-color: #008080; font-weight: bold\">23</span> de la Ley Federal de Cinematografía.<span style=\"font-weight: bold\">](</span><span style=\"color: #0000ff; text-decoration-color: #0000ff; text-decoration: underline\">http://sil.gobernacion.gob.mx/Librerias/pp_ContenidoAsuntos.php?SID=da50379055d2759108e785b11976eaf9&amp;Clave=4754751)</span><span style=\"font-weight: bold\">&lt;</span><span style=\"color: #800080; text-decoration-color: #800080\">/</span><span style=\"color: #ff00ff; text-decoration-color: #ff00ff\">br</span><span style=\"font-weight: bold\">&gt;</span>\n",
       "   Dip. Claudia Lizeth Palos García, Cámara de Diputados , Morena, <span style=\"color: #008080; text-decoration-color: #008080; font-weight: bold\">4</span>/<span style=\"color: #008080; text-decoration-color: #008080; font-weight: bold\">2024</span>\n",
       "</pre>\n"
      ],
      "text/plain": [
       "\u001b[1;36m1\u001b[0m. \u001b[1m[\u001b[0mQue reforma y adiciona el artículo \u001b[1;36m23\u001b[0m de la Ley Federal de Cinematografía.\u001b[1m]\u001b[0m\u001b[1m(\u001b[0m\u001b[4;94mhttp://sil.gobernacion.gob.mx/Librerias/pp_ContenidoAsuntos.php?\u001b[0m\u001b[4;94mSID\u001b[0m\u001b[4;94m=\u001b[0m\u001b[4;94mda50379055d2759108e785b11976eaf9\u001b[0m\u001b[4;94m&\u001b[0m\u001b[4;94mClave\u001b[0m\u001b[4;94m=\u001b[0m\u001b[4;94m4754751\u001b[0m\u001b[4;94m)\u001b[0m\u001b[1m<\u001b[0m\u001b[35m/\u001b[0m\u001b[95mbr\u001b[0m\u001b[1m>\u001b[0m\n",
       "   Dip. Claudia Lizeth Palos García, Cámara de Diputados , Morena, \u001b[1;36m4\u001b[0m/\u001b[1;36m2024\u001b[0m\n"
      ]
     },
     "metadata": {},
     "output_type": "display_data"
    }
   ],
   "source": [
    "console = Console(width=512)\n",
    "for i,row in df[df.index < \"01/01/2025\"].sort_index(ascending=True).iterrows():\n",
    "    console.print(f\"\"\"\\\n",
    "1. [{row['subject_text']}]({row['subject_url']})</br>\n",
    "   {row['presented_by_text']}, {row['presented_in']} , {row['party']}, {i.month}/{i.year}\"\"\")"
   ]
  },
  {
   "cell_type": "code",
   "execution_count": 119,
   "id": "65a24527-de5d-4614-8c8b-4a874b426312",
   "metadata": {},
   "outputs": [
    {
     "data": {
      "text/html": [
       "<pre style=\"white-space:pre;overflow-x:auto;line-height:normal;font-family:Menlo,'DejaVu Sans Mono',consolas,'Courier New',monospace\"><span style=\"color: #008080; text-decoration-color: #008080; font-weight: bold\">58</span>\n",
       "</pre>\n"
      ],
      "text/plain": [
       "\u001b[1;36m58\u001b[0m\n"
      ]
     },
     "metadata": {},
     "output_type": "display_data"
    }
   ],
   "source": [
    "# Confirmando que todas las iniciativas tienen un status de pendiente\n",
    "\n",
    "c=0\n",
    "for i,row in df[df.index < \"01/01/2025\"].sort_index(ascending=True).iterrows():\n",
    "    if row['status_text'].lower().startswith(\"pendiente\"):\n",
    "        c+=1\n",
    "    else:\n",
    "        print(row['status_text'])\n",
    "print(c)"
   ]
  },
  {
   "cell_type": "code",
   "execution_count": 79,
   "id": "0eaba1fe-66a2-4d1f-89ab-a3836aa3128f",
   "metadata": {},
   "outputs": [
    {
     "data": {
      "text/html": [
       "<!DOCTYPE html>\n",
       "<html>\n",
       "<head>\n",
       "    <meta charset=\"UTF-8\">\n",
       "</head>\n",
       "<body>\n",
       "        <div id=\"1945b6477a06441480ee213a1a41f6f7\" class=\"chart-container\" style=\"width:900px; height:500px; \"></div>\n",
       "    <script>\n",
       "        var chart_1945b6477a06441480ee213a1a41f6f7 = echarts.init(\n",
       "            document.getElementById('1945b6477a06441480ee213a1a41f6f7'), 'westeros', {renderer: 'canvas'});\n",
       "        var option_1945b6477a06441480ee213a1a41f6f7 = {\n",
       "    \"animation\": true,\n",
       "    \"animationThreshold\": 2000,\n",
       "    \"animationDuration\": 1000,\n",
       "    \"animationEasing\": \"cubicOut\",\n",
       "    \"animationDelay\": 0,\n",
       "    \"animationDurationUpdate\": 300,\n",
       "    \"animationEasingUpdate\": \"cubicOut\",\n",
       "    \"animationDelayUpdate\": 0,\n",
       "    \"aria\": {\n",
       "        \"enabled\": false\n",
       "    },\n",
       "    \"series\": [\n",
       "        {\n",
       "            \"type\": \"bar\",\n",
       "            \"name\": \"C\\u00e1mara de Diputados\",\n",
       "            \"legendHoverLink\": true,\n",
       "            \"data\": [\n",
       "                {\n",
       "                    \"name\": \"-\",\n",
       "                    \"value\": 1,\n",
       "                    \"itemStyle\": {\n",
       "                        \"color\": \"#1A1A1A\"\n",
       "                    }\n",
       "                },\n",
       "                {\n",
       "                    \"name\": \"MC\",\n",
       "                    \"value\": 0,\n",
       "                    \"itemStyle\": {\n",
       "                        \"color\": \"#ff7e00\"\n",
       "                    }\n",
       "                },\n",
       "                {\n",
       "                    \"name\": \"Morena\",\n",
       "                    \"value\": 12,\n",
       "                    \"itemStyle\": {\n",
       "                        \"color\": \"#a53421\"\n",
       "                    }\n",
       "                },\n",
       "                {\n",
       "                    \"name\": \"PAN\",\n",
       "                    \"value\": 6,\n",
       "                    \"itemStyle\": {\n",
       "                        \"color\": \"#00579c\"\n",
       "                    }\n",
       "                },\n",
       "                {\n",
       "                    \"name\": \"PRD\",\n",
       "                    \"value\": 2,\n",
       "                    \"itemStyle\": {\n",
       "                        \"color\": \"#ffd204\"\n",
       "                    }\n",
       "                },\n",
       "                {\n",
       "                    \"name\": \"PRI\",\n",
       "                    \"value\": 5,\n",
       "                    \"itemStyle\": {\n",
       "                        \"color\": \"#28b257\"\n",
       "                    }\n",
       "                },\n",
       "                {\n",
       "                    \"name\": \"PT\",\n",
       "                    \"value\": 4,\n",
       "                    \"itemStyle\": {\n",
       "                        \"color\": \"#e8122e\"\n",
       "                    }\n",
       "                },\n",
       "                {\n",
       "                    \"name\": \"PVEM\",\n",
       "                    \"value\": 0,\n",
       "                    \"itemStyle\": {\n",
       "                        \"color\": \"#a0ce67\"\n",
       "                    }\n",
       "                },\n",
       "                {\n",
       "                    \"name\": \"Sin Partido\",\n",
       "                    \"value\": 0,\n",
       "                    \"itemStyle\": {\n",
       "                        \"color\": \"#222222\"\n",
       "                    }\n",
       "                }\n",
       "            ],\n",
       "            \"realtimeSort\": false,\n",
       "            \"showBackground\": false,\n",
       "            \"stackStrategy\": \"samesign\",\n",
       "            \"cursor\": \"pointer\",\n",
       "            \"barMinHeight\": 0,\n",
       "            \"barCategoryGap\": \"20%\",\n",
       "            \"barGap\": \"30%\",\n",
       "            \"large\": false,\n",
       "            \"largeThreshold\": 400,\n",
       "            \"seriesLayoutBy\": \"column\",\n",
       "            \"datasetIndex\": 0,\n",
       "            \"clip\": true,\n",
       "            \"zlevel\": 0,\n",
       "            \"z\": 2,\n",
       "            \"label\": {\n",
       "                \"show\": true,\n",
       "                \"margin\": 8\n",
       "            }\n",
       "        },\n",
       "        {\n",
       "            \"type\": \"bar\",\n",
       "            \"name\": \"Comisi\\u00f3n Permanente\",\n",
       "            \"legendHoverLink\": true,\n",
       "            \"data\": [\n",
       "                {\n",
       "                    \"name\": \"-\",\n",
       "                    \"value\": 0,\n",
       "                    \"itemStyle\": {\n",
       "                        \"color\": \"#1A1A1A\"\n",
       "                    }\n",
       "                },\n",
       "                {\n",
       "                    \"name\": \"MC\",\n",
       "                    \"value\": 2,\n",
       "                    \"itemStyle\": {\n",
       "                        \"color\": \"#ff7e00\"\n",
       "                    }\n",
       "                },\n",
       "                {\n",
       "                    \"name\": \"Morena\",\n",
       "                    \"value\": 2,\n",
       "                    \"itemStyle\": {\n",
       "                        \"color\": \"#a53421\"\n",
       "                    }\n",
       "                },\n",
       "                {\n",
       "                    \"name\": \"PAN\",\n",
       "                    \"value\": 4,\n",
       "                    \"itemStyle\": {\n",
       "                        \"color\": \"#00579c\"\n",
       "                    }\n",
       "                },\n",
       "                {\n",
       "                    \"name\": \"PRD\",\n",
       "                    \"value\": 0,\n",
       "                    \"itemStyle\": {\n",
       "                        \"color\": \"#ffd204\"\n",
       "                    }\n",
       "                },\n",
       "                {\n",
       "                    \"name\": \"PRI\",\n",
       "                    \"value\": 3,\n",
       "                    \"itemStyle\": {\n",
       "                        \"color\": \"#28b257\"\n",
       "                    }\n",
       "                },\n",
       "                {\n",
       "                    \"name\": \"PT\",\n",
       "                    \"value\": 1,\n",
       "                    \"itemStyle\": {\n",
       "                        \"color\": \"#e8122e\"\n",
       "                    }\n",
       "                },\n",
       "                {\n",
       "                    \"name\": \"PVEM\",\n",
       "                    \"value\": 0,\n",
       "                    \"itemStyle\": {\n",
       "                        \"color\": \"#a0ce67\"\n",
       "                    }\n",
       "                },\n",
       "                {\n",
       "                    \"name\": \"Sin Partido\",\n",
       "                    \"value\": 0,\n",
       "                    \"itemStyle\": {\n",
       "                        \"color\": \"#222222\"\n",
       "                    }\n",
       "                }\n",
       "            ],\n",
       "            \"realtimeSort\": false,\n",
       "            \"showBackground\": false,\n",
       "            \"stackStrategy\": \"samesign\",\n",
       "            \"cursor\": \"pointer\",\n",
       "            \"barMinHeight\": 0,\n",
       "            \"barCategoryGap\": \"20%\",\n",
       "            \"barGap\": \"30%\",\n",
       "            \"large\": false,\n",
       "            \"largeThreshold\": 400,\n",
       "            \"seriesLayoutBy\": \"column\",\n",
       "            \"datasetIndex\": 0,\n",
       "            \"clip\": true,\n",
       "            \"zlevel\": 0,\n",
       "            \"z\": 2,\n",
       "            \"label\": {\n",
       "                \"show\": true,\n",
       "                \"margin\": 8\n",
       "            }\n",
       "        },\n",
       "        {\n",
       "            \"type\": \"bar\",\n",
       "            \"name\": \"C\\u00e1mara de Senadores\",\n",
       "            \"legendHoverLink\": true,\n",
       "            \"data\": [\n",
       "                {\n",
       "                    \"name\": \"-\",\n",
       "                    \"value\": 0,\n",
       "                    \"itemStyle\": {\n",
       "                        \"color\": \"#1A1A1A\"\n",
       "                    }\n",
       "                },\n",
       "                {\n",
       "                    \"name\": \"MC\",\n",
       "                    \"value\": 2,\n",
       "                    \"itemStyle\": {\n",
       "                        \"color\": \"#ff7e00\"\n",
       "                    }\n",
       "                },\n",
       "                {\n",
       "                    \"name\": \"Morena\",\n",
       "                    \"value\": 7,\n",
       "                    \"itemStyle\": {\n",
       "                        \"color\": \"#a53421\"\n",
       "                    }\n",
       "                },\n",
       "                {\n",
       "                    \"name\": \"PAN\",\n",
       "                    \"value\": 0,\n",
       "                    \"itemStyle\": {\n",
       "                        \"color\": \"#00579c\"\n",
       "                    }\n",
       "                },\n",
       "                {\n",
       "                    \"name\": \"PRD\",\n",
       "                    \"value\": 0,\n",
       "                    \"itemStyle\": {\n",
       "                        \"color\": \"#ffd204\"\n",
       "                    }\n",
       "                },\n",
       "                {\n",
       "                    \"name\": \"PRI\",\n",
       "                    \"value\": 0,\n",
       "                    \"itemStyle\": {\n",
       "                        \"color\": \"#28b257\"\n",
       "                    }\n",
       "                },\n",
       "                {\n",
       "                    \"name\": \"PT\",\n",
       "                    \"value\": 5,\n",
       "                    \"itemStyle\": {\n",
       "                        \"color\": \"#e8122e\"\n",
       "                    }\n",
       "                },\n",
       "                {\n",
       "                    \"name\": \"PVEM\",\n",
       "                    \"value\": 1,\n",
       "                    \"itemStyle\": {\n",
       "                        \"color\": \"#a0ce67\"\n",
       "                    }\n",
       "                },\n",
       "                {\n",
       "                    \"name\": \"Sin Partido\",\n",
       "                    \"value\": 1,\n",
       "                    \"itemStyle\": {\n",
       "                        \"color\": \"#222222\"\n",
       "                    }\n",
       "                }\n",
       "            ],\n",
       "            \"realtimeSort\": false,\n",
       "            \"showBackground\": false,\n",
       "            \"stackStrategy\": \"samesign\",\n",
       "            \"cursor\": \"pointer\",\n",
       "            \"barMinHeight\": 0,\n",
       "            \"barCategoryGap\": \"20%\",\n",
       "            \"barGap\": \"30%\",\n",
       "            \"large\": false,\n",
       "            \"largeThreshold\": 400,\n",
       "            \"seriesLayoutBy\": \"column\",\n",
       "            \"datasetIndex\": 0,\n",
       "            \"clip\": true,\n",
       "            \"zlevel\": 0,\n",
       "            \"z\": 2,\n",
       "            \"label\": {\n",
       "                \"show\": true,\n",
       "                \"margin\": 8\n",
       "            }\n",
       "        }\n",
       "    ],\n",
       "    \"legend\": [\n",
       "        {\n",
       "            \"data\": [\n",
       "                \"C\\u00e1mara de Diputados\",\n",
       "                \"Comisi\\u00f3n Permanente\",\n",
       "                \"C\\u00e1mara de Senadores\"\n",
       "            ],\n",
       "            \"selected\": {},\n",
       "            \"show\": false,\n",
       "            \"padding\": 5,\n",
       "            \"itemGap\": 10,\n",
       "            \"itemWidth\": 25,\n",
       "            \"itemHeight\": 14,\n",
       "            \"backgroundColor\": \"transparent\",\n",
       "            \"borderColor\": \"#ccc\",\n",
       "            \"borderRadius\": 0,\n",
       "            \"pageButtonItemGap\": 5,\n",
       "            \"pageButtonPosition\": \"end\",\n",
       "            \"pageFormatter\": \"{current}/{total}\",\n",
       "            \"pageIconColor\": \"#2f4554\",\n",
       "            \"pageIconInactiveColor\": \"#aaa\",\n",
       "            \"pageIconSize\": 15,\n",
       "            \"animationDurationUpdate\": 800,\n",
       "            \"selector\": false,\n",
       "            \"selectorPosition\": \"auto\",\n",
       "            \"selectorItemGap\": 7,\n",
       "            \"selectorButtonGap\": 10\n",
       "        }\n",
       "    ],\n",
       "    \"tooltip\": {\n",
       "        \"show\": true,\n",
       "        \"trigger\": \"item\",\n",
       "        \"triggerOn\": \"mousemove|click\",\n",
       "        \"axisPointer\": {\n",
       "            \"type\": \"line\"\n",
       "        },\n",
       "        \"showContent\": true,\n",
       "        \"alwaysShowContent\": false,\n",
       "        \"showDelay\": 0,\n",
       "        \"hideDelay\": 100,\n",
       "        \"enterable\": false,\n",
       "        \"confine\": false,\n",
       "        \"appendToBody\": false,\n",
       "        \"transitionDuration\": 0.4,\n",
       "        \"textStyle\": {\n",
       "            \"fontSize\": 14\n",
       "        },\n",
       "        \"borderWidth\": 0,\n",
       "        \"padding\": 5,\n",
       "        \"order\": \"seriesAsc\"\n",
       "    },\n",
       "    \"xAxis\": [\n",
       "        {\n",
       "            \"show\": true,\n",
       "            \"scale\": false,\n",
       "            \"nameLocation\": \"end\",\n",
       "            \"nameGap\": 15,\n",
       "            \"gridIndex\": 0,\n",
       "            \"axisLabel\": {\n",
       "                \"show\": true,\n",
       "                \"margin\": 8,\n",
       "                \"interval\": 0\n",
       "            },\n",
       "            \"inverse\": false,\n",
       "            \"offset\": 0,\n",
       "            \"splitNumber\": 5,\n",
       "            \"minInterval\": 0,\n",
       "            \"splitLine\": {\n",
       "                \"show\": true,\n",
       "                \"lineStyle\": {\n",
       "                    \"show\": true,\n",
       "                    \"width\": 1,\n",
       "                    \"opacity\": 1,\n",
       "                    \"curveness\": 0,\n",
       "                    \"type\": \"solid\"\n",
       "                }\n",
       "            },\n",
       "            \"data\": [\n",
       "                \"-\",\n",
       "                \"MC\",\n",
       "                \"Morena\",\n",
       "                \"PAN\",\n",
       "                \"PRD\",\n",
       "                \"PRI\",\n",
       "                \"PT\",\n",
       "                \"PVEM\",\n",
       "                \"Sin Partido\"\n",
       "            ]\n",
       "        }\n",
       "    ],\n",
       "    \"yAxis\": [\n",
       "        {\n",
       "            \"show\": true,\n",
       "            \"scale\": false,\n",
       "            \"nameLocation\": \"end\",\n",
       "            \"nameGap\": 15,\n",
       "            \"gridIndex\": 0,\n",
       "            \"inverse\": false,\n",
       "            \"offset\": 0,\n",
       "            \"splitNumber\": 5,\n",
       "            \"minInterval\": 0,\n",
       "            \"splitLine\": {\n",
       "                \"show\": true,\n",
       "                \"lineStyle\": {\n",
       "                    \"show\": true,\n",
       "                    \"width\": 1,\n",
       "                    \"opacity\": 1,\n",
       "                    \"curveness\": 0,\n",
       "                    \"type\": \"solid\"\n",
       "                }\n",
       "            }\n",
       "        }\n",
       "    ],\n",
       "    \"title\": [\n",
       "        {\n",
       "            \"show\": true,\n",
       "            \"text\": \"Iniciativas que mencionan Inteligencia Artificial\",\n",
       "            \"target\": \"blank\",\n",
       "            \"subtext\": \"Por partido y presentado a\",\n",
       "            \"subtarget\": \"blank\",\n",
       "            \"padding\": 5,\n",
       "            \"itemGap\": 10,\n",
       "            \"textAlign\": \"auto\",\n",
       "            \"textVerticalAlign\": \"auto\",\n",
       "            \"triggerEvent\": false\n",
       "        }\n",
       "    ],\n",
       "    \"toolbox\": {\n",
       "        \"show\": true,\n",
       "        \"orient\": \"horizontal\",\n",
       "        \"itemSize\": 15,\n",
       "        \"itemGap\": 10,\n",
       "        \"left\": \"80%\",\n",
       "        \"feature\": {\n",
       "            \"saveAsImage\": {\n",
       "                \"type\": \"png\",\n",
       "                \"backgroundColor\": \"auto\",\n",
       "                \"connectedBackgroundColor\": \"#fff\",\n",
       "                \"show\": true,\n",
       "                \"title\": \"Bajar imagen\",\n",
       "                \"pixelRatio\": 1\n",
       "            },\n",
       "            \"restore\": {\n",
       "                \"show\": true,\n",
       "                \"title\": \"Restaurar\"\n",
       "            },\n",
       "            \"dataView\": {\n",
       "                \"show\": true,\n",
       "                \"title\": \"Ver datos\",\n",
       "                \"readOnly\": false,\n",
       "                \"lang\": [\n",
       "                    \"Ver datos\",\n",
       "                    \"Cerrar\",\n",
       "                    \"Actualizar\"\n",
       "                ],\n",
       "                \"backgroundColor\": \"#fff\",\n",
       "                \"textareaColor\": \"#fff\",\n",
       "                \"textareaBorderColor\": \"#333\",\n",
       "                \"textColor\": \"#000\",\n",
       "                \"buttonColor\": \"#c23531\",\n",
       "                \"buttonTextColor\": \"#fff\"\n",
       "            },\n",
       "            \"dataZoom\": {\n",
       "                \"show\": true,\n",
       "                \"title\": {\n",
       "                    \"zoom\": \"Acercarse\",\n",
       "                    \"back\": \"Alejarse\"\n",
       "                },\n",
       "                \"icon\": {},\n",
       "                \"filterMode\": \"filter\"\n",
       "            },\n",
       "            \"magicType\": {\n",
       "                \"show\": true,\n",
       "                \"type\": [\n",
       "                    \"bar\",\n",
       "                    \"line\",\n",
       "                    \"stack\"\n",
       "                ],\n",
       "                \"title\": {\n",
       "                    \"line\": \"Linea\",\n",
       "                    \"bar\": \"barra\",\n",
       "                    \"stack\": \"\\u5207\\u6362\\u4e3a\\u5806\\u53e0\",\n",
       "                    \"tiled\": \"\\u5207\\u6362\\u4e3a\\u5e73\\u94fa\"\n",
       "                },\n",
       "                \"icon\": {}\n",
       "            }\n",
       "        }\n",
       "    }\n",
       "};\n",
       "        chart_1945b6477a06441480ee213a1a41f6f7.setOption(option_1945b6477a06441480ee213a1a41f6f7);\n",
       "    </script>\n",
       "</body>\n",
       "</html>\n"
      ],
      "text/plain": [
       "<pyecharts.render.display.HTML at 0x7fd14b7253d0>"
      ]
     },
     "execution_count": 79,
     "metadata": {},
     "output_type": "execute_result"
    }
   ],
   "source": [
    "df_party=df.groupby('party').agg('count')\n",
    "df_party.sort_index()\n",
    "\n",
    "party_colors={\n",
    "    '-':\"#1A1A1A\",\n",
    "    'MC':\"#ff7e00\",\n",
    "    'Morena':\"#a53421\",\n",
    "    'PAN':\"#00579c\",\n",
    "    'PRD':\"#ffd204\",\n",
    "    'PRI':\"#28b257\",\n",
    "    \"PT\":\"#e8122e\",\n",
    "    \"PVEM\":\"#a0ce67\",\n",
    "    \"Sin Partido\":\"#222222\"\n",
    "}\n",
    "\n",
    "ys_keys=list(df['presented_in'].unique())\n",
    "ys={}\n",
    "parties=list(df['party'].unique())\n",
    "parties.sort()\n",
    "\n",
    "for y_key in ys_keys:\n",
    "    ys[y_key]=(y_key,[])\n",
    "    for party in parties:\n",
    "        ys[y_key][1].append(\n",
    "            opts.BarItem(\n",
    "                name=party,\n",
    "                value=len(df[(df['presented_in']==y_key) & (df['party']==party)]),\n",
    "                itemstyle_opts=opts.ItemStyleOpts(color=party_colors[party],\n",
    "            )\n",
    "        ))\n",
    "\n",
    "bar = (\n",
    "    Bar(init_opts=opts.InitOpts(theme=ThemeType.WESTEROS))\n",
    "    .add_xaxis(df_party.index.to_list())\n",
    "    .set_global_opts(title_opts=opts.TitleOpts(title=\"Iniciativas que mencionan Inteligencia Artificial\", subtitle=\"Por partido y presentado a\"),\n",
    "                     toolbox_opts=toolbox_fun([\"bar\",\"line\",\"stack\"]),\n",
    "                     xaxis_opts=opts.AxisOpts(axislabel_opts=opts.LabelOpts(interval=0)),\n",
    "                     legend_opts=opts.LegendOpts(is_show=False))\n",
    ")\n",
    "for name,y in ys.values():\n",
    "    bar.add_yaxis(name,y)\n",
    "\n",
    "bar.load_javascript()\n",
    "bar.render_notebook()"
   ]
  },
  {
   "cell_type": "code",
   "execution_count": 80,
   "id": "ef03be8a-dbff-4ec7-8808-3237c449d1d9",
   "metadata": {},
   "outputs": [
    {
     "data": {
      "text/plain": [
       "'/home/ivanvladimir/projects/legislation_mx/party.html'"
      ]
     },
     "execution_count": 80,
     "metadata": {},
     "output_type": "execute_result"
    }
   ],
   "source": [
    "bar.render(\"party.html\")"
   ]
  },
  {
   "cell_type": "markdown",
   "id": "98e9e010-cea8-45bc-9bf7-83e488e0eb9e",
   "metadata": {},
   "source": [
    "## Extrayendo leyes de títulos de iniciativas"
   ]
  },
  {
   "cell_type": "code",
   "execution_count": 90,
   "id": "c654c082-7a23-4510-b580-330fef380dd7",
   "metadata": {},
   "outputs": [
    {
     "name": "stdin",
     "output_type": "stream",
     "text": [
      "OpenAI token: ········\n"
     ]
    }
   ],
   "source": [
    "token=getpass.getpass(\"OpenAI token:\")"
   ]
  },
  {
   "cell_type": "code",
   "execution_count": 92,
   "id": "87e637c2-754c-4360-9353-1c136cdf3282",
   "metadata": {},
   "outputs": [],
   "source": [
    "from openai import OpenAI\n",
    "\n",
    "client = OpenAI(\n",
    "   api_key=token,\n",
    ")"
   ]
  },
  {
   "cell_type": "code",
   "execution_count": 108,
   "id": "a03e8ace-8237-4bdc-925f-111895d535f4",
   "metadata": {},
   "outputs": [
    {
     "data": {
      "application/vnd.jupyter.widget-view+json": {
       "model_id": "4bbb604dff5b443f8ab04926e6bb5a0c",
       "version_major": 2,
       "version_minor": 0
      },
      "text/plain": [
       "Output()"
      ]
     },
     "metadata": {},
     "output_type": "display_data"
    },
    {
     "data": {
      "text/html": [
       "<pre style=\"white-space:pre;overflow-x:auto;line-height:normal;font-family:Menlo,'DejaVu Sans Mono',consolas,'Courier New',monospace\"></pre>\n"
      ],
      "text/plain": []
     },
     "metadata": {},
     "output_type": "display_data"
    },
    {
     "data": {
      "text/html": [
       "<pre style=\"white-space:pre;overflow-x:auto;line-height:normal;font-family:Menlo,'DejaVu Sans Mono',consolas,'Courier New',monospace\">\n",
       "</pre>\n"
      ],
      "text/plain": [
       "\n"
      ]
     },
     "metadata": {},
     "output_type": "display_data"
    }
   ],
   "source": [
    "responses=[]\n",
    "for i,row in track(df[df.index < \"01/01/2025\"].sort_index(ascending=True).iterrows()):\n",
    "    completion = client.chat.completions.create(\n",
    "    model=\"gpt-3.5-turbo\",\n",
    "    messages=[\n",
    "        {\"role\": \"system\", \"content\": \"\"\"Eres un agente experto en leyes, respondes de forma consisa, breve  yen forma de lista de python. Ejemplo: ¿Qué ley se menciona en esta iniciativa \"Que reforma los artículos 20 Quáter párrafo primero, 20 Quáter párrafo tercero, 20 Sexies párrafo primero y 20 Sexies párrafo cuarto de la Ley General de Acceso de las Mujeres a una Vida Libre de Violencia y el artículo 199 Nonies del Código Penal Federal.\"? la respuesta debe ser: [\" Ley General de Acceso de las Mujeres a una Vida Libre de Violencia\",\"Código Penal Federal\"]\"\"\"},\n",
    "        {\"role\": \"user\", \"content\": f'¿Qué ley se menciona en esta iniciativa \"{row[\"subject_text\"]}\"'}\n",
    "    ])\n",
    "    time.sleep(0.5)\n",
    "    responses.append(completion.choices[0].message.content)"
   ]
  },
  {
   "cell_type": "code",
   "execution_count": 145,
   "id": "42771587-152c-4f8e-a78d-94071a4e4291",
   "metadata": {},
   "outputs": [],
   "source": [
    "laws=Counter([r.replace('en materia','en Materia') for r in list(itertools.chain.from_iterable([eval(r) for r in responses]))])"
   ]
  },
  {
   "cell_type": "code",
   "execution_count": 149,
   "id": "3662c57f-4335-4fbc-8b81-1d1acfd52e62",
   "metadata": {},
   "outputs": [
    {
     "data": {
      "text/html": [
       "<!DOCTYPE html>\n",
       "<html>\n",
       "<head>\n",
       "    <meta charset=\"UTF-8\">\n",
       "</head>\n",
       "<body>\n",
       "        <div id=\"a146744b6cc247b988bb56edfb41b94f\" class=\"chart-container\" style=\"width:900px; height:500px; \"></div>\n",
       "    <script>\n",
       "        var chart_a146744b6cc247b988bb56edfb41b94f = echarts.init(\n",
       "            document.getElementById('a146744b6cc247b988bb56edfb41b94f'), 'white', {renderer: 'canvas'});\n",
       "        var option_a146744b6cc247b988bb56edfb41b94f = {\n",
       "    \"animation\": true,\n",
       "    \"animationThreshold\": 2000,\n",
       "    \"animationDuration\": 1000,\n",
       "    \"animationEasing\": \"cubicOut\",\n",
       "    \"animationDelay\": 0,\n",
       "    \"animationDurationUpdate\": 300,\n",
       "    \"animationEasingUpdate\": \"cubicOut\",\n",
       "    \"animationDelayUpdate\": 0,\n",
       "    \"aria\": {\n",
       "        \"enabled\": false\n",
       "    },\n",
       "    \"series\": [\n",
       "        {\n",
       "            \"type\": \"bar\",\n",
       "            \"name\": \"Legislaci\\u00f3n\",\n",
       "            \"legendHoverLink\": true,\n",
       "            \"data\": [\n",
       "                1,\n",
       "                3,\n",
       "                1,\n",
       "                18,\n",
       "                1,\n",
       "                1,\n",
       "                4,\n",
       "                2,\n",
       "                1,\n",
       "                8,\n",
       "                5,\n",
       "                1,\n",
       "                1,\n",
       "                4,\n",
       "                1,\n",
       "                5,\n",
       "                1,\n",
       "                1,\n",
       "                2,\n",
       "                1,\n",
       "                1,\n",
       "                1,\n",
       "                1,\n",
       "                1,\n",
       "                1\n",
       "            ],\n",
       "            \"realtimeSort\": false,\n",
       "            \"showBackground\": false,\n",
       "            \"stackStrategy\": \"samesign\",\n",
       "            \"cursor\": \"pointer\",\n",
       "            \"barMinHeight\": 0,\n",
       "            \"barCategoryGap\": \"20%\",\n",
       "            \"barGap\": \"30%\",\n",
       "            \"large\": false,\n",
       "            \"largeThreshold\": 400,\n",
       "            \"seriesLayoutBy\": \"column\",\n",
       "            \"datasetIndex\": 0,\n",
       "            \"clip\": true,\n",
       "            \"zlevel\": 0,\n",
       "            \"z\": 2,\n",
       "            \"label\": {\n",
       "                \"show\": true,\n",
       "                \"margin\": 8\n",
       "            }\n",
       "        }\n",
       "    ],\n",
       "    \"legend\": [\n",
       "        {\n",
       "            \"data\": [\n",
       "                \"Legislaci\\u00f3n\"\n",
       "            ],\n",
       "            \"selected\": {},\n",
       "            \"show\": false,\n",
       "            \"padding\": 5,\n",
       "            \"itemGap\": 10,\n",
       "            \"itemWidth\": 25,\n",
       "            \"itemHeight\": 14,\n",
       "            \"backgroundColor\": \"transparent\",\n",
       "            \"borderColor\": \"#ccc\",\n",
       "            \"borderRadius\": 0,\n",
       "            \"pageButtonItemGap\": 5,\n",
       "            \"pageButtonPosition\": \"end\",\n",
       "            \"pageFormatter\": \"{current}/{total}\",\n",
       "            \"pageIconColor\": \"#2f4554\",\n",
       "            \"pageIconInactiveColor\": \"#aaa\",\n",
       "            \"pageIconSize\": 15,\n",
       "            \"animationDurationUpdate\": 800,\n",
       "            \"selector\": false,\n",
       "            \"selectorPosition\": \"auto\",\n",
       "            \"selectorItemGap\": 7,\n",
       "            \"selectorButtonGap\": 10\n",
       "        }\n",
       "    ],\n",
       "    \"tooltip\": {\n",
       "        \"show\": true,\n",
       "        \"trigger\": \"item\",\n",
       "        \"triggerOn\": \"mousemove|click\",\n",
       "        \"axisPointer\": {\n",
       "            \"type\": \"line\"\n",
       "        },\n",
       "        \"showContent\": true,\n",
       "        \"alwaysShowContent\": false,\n",
       "        \"showDelay\": 0,\n",
       "        \"hideDelay\": 100,\n",
       "        \"enterable\": false,\n",
       "        \"confine\": false,\n",
       "        \"appendToBody\": false,\n",
       "        \"transitionDuration\": 0.4,\n",
       "        \"textStyle\": {\n",
       "            \"fontSize\": 14\n",
       "        },\n",
       "        \"borderWidth\": 0,\n",
       "        \"padding\": 5,\n",
       "        \"order\": \"seriesAsc\"\n",
       "    },\n",
       "    \"xAxis\": [\n",
       "        {\n",
       "            \"show\": true,\n",
       "            \"scale\": false,\n",
       "            \"nameLocation\": \"end\",\n",
       "            \"nameGap\": 15,\n",
       "            \"gridIndex\": 0,\n",
       "            \"inverse\": false,\n",
       "            \"offset\": 0,\n",
       "            \"splitNumber\": 5,\n",
       "            \"minInterval\": 0,\n",
       "            \"splitLine\": {\n",
       "                \"show\": true,\n",
       "                \"lineStyle\": {\n",
       "                    \"show\": true,\n",
       "                    \"width\": 1,\n",
       "                    \"opacity\": 1,\n",
       "                    \"curveness\": 0,\n",
       "                    \"type\": \"solid\"\n",
       "                }\n",
       "            }\n",
       "        }\n",
       "    ],\n",
       "    \"yAxis\": [\n",
       "        {\n",
       "            \"show\": true,\n",
       "            \"scale\": false,\n",
       "            \"nameLocation\": \"end\",\n",
       "            \"nameGap\": 200,\n",
       "            \"gridIndex\": 0,\n",
       "            \"axisLabel\": {\n",
       "                \"show\": true,\n",
       "                \"margin\": 8,\n",
       "                \"interval\": 0\n",
       "            },\n",
       "            \"inverse\": false,\n",
       "            \"offset\": 0,\n",
       "            \"splitNumber\": 5,\n",
       "            \"minInterval\": 0,\n",
       "            \"splitLine\": {\n",
       "                \"show\": true,\n",
       "                \"lineStyle\": {\n",
       "                    \"show\": true,\n",
       "                    \"width\": 1,\n",
       "                    \"opacity\": 1,\n",
       "                    \"curveness\": 0,\n",
       "                    \"type\": \"solid\"\n",
       "                }\n",
       "            },\n",
       "            \"data\": [\n",
       "                \" Ley General de Educaci\\u00f3n Superior\",\n",
       "                \"Constituci\\u00f3n Pol\\u00edtica de los Estados Unidos Mexicanos\",\n",
       "                \"C\\u00f3digo Civil Federal\",\n",
       "                \"C\\u00f3digo Penal Federal\",\n",
       "                \"Ley Federal de Cinematograf\\u00eda\",\n",
       "                \"Ley Federal de Telecomunicaciones y Radiodifusi\\u00f3n\",\n",
       "                \"Ley Federal del Derecho de Autor\",\n",
       "                \"Ley Federal del Trabajo\",\n",
       "                \"Ley Federal que regula la Inteligencia Artificial\",\n",
       "                \"Ley General de Acceso de las Mujeres a una Vida Libre de Violencia\",\n",
       "                \"Ley General de Educaci\\u00f3n\",\n",
       "                \"Ley General de Educaci\\u00f3n Superior\",\n",
       "                \"Ley General de Instituciones y Procedimientos Electorales\",\n",
       "                \"Ley General de Salud\",\n",
       "                \"Ley General de los Derechos de Ni\\u00f1as, Ni\\u00f1os y Adolescentes\",\n",
       "                \"Ley General en Materia de Humanidades, Ciencias, Tecnolog\\u00edas e Innovaci\\u00f3n\",\n",
       "                \"Ley General para la Atenci\\u00f3n y Protecci\\u00f3n a Personas con la Condici\\u00f3n del Espectro Autista\",\n",
       "                \"Ley Org\\u00e1nica del Congreso General de los Estados Unidos Mexicanos\",\n",
       "                \"Ley de Ciencia y Tecnolog\\u00eda\",\n",
       "                \"Ley de la Fiscal\\u00eda General de la Rep\\u00fablica\",\n",
       "                \"Ley para la Regulaci\\u00f3n \\u00c9tica de la Inteligencia Artificial y la Rob\\u00f3tica\",\n",
       "                \"Ley que Crea la Agencia de Noticias del Estado Mexicano\",\n",
       "                \"Ley que Regula el Uso de la Inteligencia Artificial\",\n",
       "                \"Ley que crea la Agencia Mexicana para el Desarrollo de la Inteligencia Artificial\",\n",
       "                \"Ley que crea la Universidad de Tecnolog\\u00edas de la Informaci\\u00f3n, Comunicaciones e Innovaci\\u00f3n\"\n",
       "            ]\n",
       "        }\n",
       "    ],\n",
       "    \"title\": [\n",
       "        {\n",
       "            \"show\": true,\n",
       "            \"text\": \"Legislaci\\u00f3n a las que se refieren las iniciativas\",\n",
       "            \"target\": \"blank\",\n",
       "            \"subtext\": \"Total de legislaciones mencionada 67\",\n",
       "            \"subtarget\": \"blank\",\n",
       "            \"padding\": 5,\n",
       "            \"itemGap\": 10,\n",
       "            \"textAlign\": \"auto\",\n",
       "            \"textVerticalAlign\": \"auto\",\n",
       "            \"triggerEvent\": false\n",
       "        }\n",
       "    ],\n",
       "    \"toolbox\": {\n",
       "        \"show\": true,\n",
       "        \"orient\": \"horizontal\",\n",
       "        \"itemSize\": 15,\n",
       "        \"itemGap\": 10,\n",
       "        \"left\": \"80%\",\n",
       "        \"feature\": {\n",
       "            \"saveAsImage\": {\n",
       "                \"type\": \"png\",\n",
       "                \"backgroundColor\": \"auto\",\n",
       "                \"connectedBackgroundColor\": \"#fff\",\n",
       "                \"show\": true,\n",
       "                \"title\": \"Bajar imagen\",\n",
       "                \"pixelRatio\": 1\n",
       "            },\n",
       "            \"restore\": {\n",
       "                \"show\": true,\n",
       "                \"title\": \"Restaurar\"\n",
       "            },\n",
       "            \"dataView\": {\n",
       "                \"show\": true,\n",
       "                \"title\": \"Ver datos\",\n",
       "                \"readOnly\": false,\n",
       "                \"lang\": [\n",
       "                    \"Ver datos\",\n",
       "                    \"Cerrar\",\n",
       "                    \"Actualizar\"\n",
       "                ],\n",
       "                \"backgroundColor\": \"#fff\",\n",
       "                \"textareaColor\": \"#fff\",\n",
       "                \"textareaBorderColor\": \"#333\",\n",
       "                \"textColor\": \"#000\",\n",
       "                \"buttonColor\": \"#c23531\",\n",
       "                \"buttonTextColor\": \"#fff\"\n",
       "            },\n",
       "            \"dataZoom\": {\n",
       "                \"show\": true,\n",
       "                \"title\": {\n",
       "                    \"zoom\": \"Acercarse\",\n",
       "                    \"back\": \"Alejarse\"\n",
       "                },\n",
       "                \"icon\": {},\n",
       "                \"filterMode\": \"filter\"\n",
       "            },\n",
       "            \"magicType\": {\n",
       "                \"show\": true,\n",
       "                \"type\": [\n",
       "                    \"bar\",\n",
       "                    \"line\"\n",
       "                ],\n",
       "                \"title\": {\n",
       "                    \"line\": \"Linea\",\n",
       "                    \"bar\": \"barra\",\n",
       "                    \"stack\": \"\\u5207\\u6362\\u4e3a\\u5806\\u53e0\",\n",
       "                    \"tiled\": \"\\u5207\\u6362\\u4e3a\\u5e73\\u94fa\"\n",
       "                },\n",
       "                \"icon\": {}\n",
       "            }\n",
       "        }\n",
       "    },\n",
       "    \"grid\": [\n",
       "        {\n",
       "            \"show\": false,\n",
       "            \"zlevel\": 0,\n",
       "            \"z\": 2,\n",
       "            \"left\": \"65%\",\n",
       "            \"right\": \"2%\",\n",
       "            \"containLabel\": false,\n",
       "            \"backgroundColor\": \"transparent\",\n",
       "            \"borderColor\": \"#ccc\",\n",
       "            \"borderWidth\": 1,\n",
       "            \"shadowOffsetX\": 0,\n",
       "            \"shadowOffsetY\": 0\n",
       "        }\n",
       "    ]\n",
       "};\n",
       "        chart_a146744b6cc247b988bb56edfb41b94f.setOption(option_a146744b6cc247b988bb56edfb41b94f);\n",
       "    </script>\n",
       "</body>\n",
       "</html>\n"
      ],
      "text/plain": [
       "<pyecharts.render.display.HTML at 0x7fd142e6c310>"
      ]
     },
     "execution_count": 149,
     "metadata": {},
     "output_type": "execute_result"
    }
   ],
   "source": [
    "keys=list(laws.keys())\n",
    "keys.sort()\n",
    "\n",
    "bar = (\n",
    "    Bar(init_opts=opts.InitOpts(theme=ThemeType.WESTEROS))\n",
    "    .add_xaxis(keys)\n",
    "    .add_yaxis(\"Legislación\",[laws[k] for k in keys])\n",
    "    .reversal_axis()\n",
    "    .set_global_opts(title_opts=opts.TitleOpts(title=\"Legislación a las que se refieren las iniciativas\",subtitle=f\"Total de legislaciones mencionada {sum(laws.values())}\"),\n",
    "                     toolbox_opts=toolbox_fun([\"bar\",\"line\"]),\n",
    "                     yaxis_opts=opts.AxisOpts(axislabel_opts=opts.LabelOpts(interval=0), name_gap=200),\n",
    "                     legend_opts=opts.LegendOpts(is_show=False))\n",
    ")\n",
    "\n",
    "grid = Grid()\n",
    "grid.add(bar, opts.GridOpts(pos_left=\"65%\",pos_right=\"2%\"), is_control_axis_index=True)\n",
    "\n",
    "grid.load_javascript()\n",
    "grid.render_notebook()"
   ]
  },
  {
   "cell_type": "code",
   "execution_count": 150,
   "id": "0fb76633-04ad-4c20-aeaf-c51e709b4cdc",
   "metadata": {},
   "outputs": [
    {
     "data": {
      "text/plain": [
       "'/home/ivanvladimir/projects/legislation_mx/legislation.html'"
      ]
     },
     "execution_count": 150,
     "metadata": {},
     "output_type": "execute_result"
    }
   ],
   "source": [
    "grid.render(\"legislation.html\")"
   ]
  },
  {
   "cell_type": "code",
   "execution_count": 12,
   "id": "4f05ca39-5348-4ec0-b87d-25ea339b9db7",
   "metadata": {},
   "outputs": [
    {
     "data": {
      "text/html": [
       "<pre style=\"white-space:pre;overflow-x:auto;line-height:normal;font-family:Menlo,'DejaVu Sans Mono',consolas,'Courier New',monospace\"><span style=\"color: #008080; text-decoration-color: #008080; font-weight: bold\">1</span>. <span style=\"font-weight: bold\">[</span>Que reforma la fracción XVII al artículo <span style=\"color: #008080; text-decoration-color: #008080; font-weight: bold\">73</span> de la Constitución Política de los Estados Unidos Mexicanos.<span style=\"font-weight: bold\">](</span><span style=\"color: #0000ff; text-decoration-color: #0000ff; text-decoration: underline\">http://sil.gobernacion.gob.mx/Librerias/pp_ContenidoAsuntos.php?SID=da50379055d2759108e785b11976eaf9&amp;Clave=4595174)</span><span style=\"font-weight: bold\">&lt;</span><span style=\"color: #800080; text-decoration-color: #800080\">/</span><span style=\"color: #ff00ff; text-decoration-color: #ff00ff\">br</span><span style=\"font-weight: bold\">&gt;</span>\n",
       "   Sen. Martha Cecilia Márquez Alvarado, Cámara de Senadores , PT, <span style=\"color: #008080; text-decoration-color: #008080; font-weight: bold\">9</span>/<span style=\"color: #008080; text-decoration-color: #008080; font-weight: bold\">2023</span>\n",
       "</pre>\n"
      ],
      "text/plain": [
       "\u001b[1;36m1\u001b[0m. \u001b[1m[\u001b[0mQue reforma la fracción XVII al artículo \u001b[1;36m73\u001b[0m de la Constitución Política de los Estados Unidos Mexicanos.\u001b[1m]\u001b[0m\u001b[1m(\u001b[0m\u001b[4;94mhttp://sil.gobernacion.gob.mx/Librerias/pp_ContenidoAsuntos.php?\u001b[0m\u001b[4;94mSID\u001b[0m\u001b[4;94m=\u001b[0m\u001b[4;94mda50379055d2759108e785b11976eaf9\u001b[0m\u001b[4;94m&\u001b[0m\u001b[4;94mClave\u001b[0m\u001b[4;94m=\u001b[0m\u001b[4;94m4595174\u001b[0m\u001b[4;94m)\u001b[0m\u001b[1m<\u001b[0m\u001b[35m/\u001b[0m\u001b[95mbr\u001b[0m\u001b[1m>\u001b[0m\n",
       "   Sen. Martha Cecilia Márquez Alvarado, Cámara de Senadores , PT, \u001b[1;36m9\u001b[0m/\u001b[1;36m2023\u001b[0m\n"
      ]
     },
     "metadata": {},
     "output_type": "display_data"
    },
    {
     "data": {
      "text/html": [
       "<pre style=\"white-space:pre;overflow-x:auto;line-height:normal;font-family:Menlo,'DejaVu Sans Mono',consolas,'Courier New',monospace\"><span style=\"color: #008080; text-decoration-color: #008080; font-weight: bold\">1</span>. <span style=\"font-weight: bold\">[</span>Que reforma la fracción XVII al artículo <span style=\"color: #008080; text-decoration-color: #008080; font-weight: bold\">73</span> de la Constitución Política de los Estados Unidos Mexicanos.<span style=\"font-weight: bold\">](</span><span style=\"color: #0000ff; text-decoration-color: #0000ff; text-decoration: underline\">http://sil.gobernacion.gob.mx/Librerias/pp_ContenidoAsuntos.php?SID=da50379055d2759108e785b11976eaf9&amp;Clave=4608293)</span><span style=\"font-weight: bold\">&lt;</span><span style=\"color: #800080; text-decoration-color: #800080\">/</span><span style=\"color: #ff00ff; text-decoration-color: #ff00ff\">br</span><span style=\"font-weight: bold\">&gt;</span>\n",
       "   PRD PRI PAN Sen. Alejandra Lagunes Soto Ruíz, Cámara de Senadores , PVEM, <span style=\"color: #008080; text-decoration-color: #008080; font-weight: bold\">9</span>/<span style=\"color: #008080; text-decoration-color: #008080; font-weight: bold\">2023</span>\n",
       "</pre>\n"
      ],
      "text/plain": [
       "\u001b[1;36m1\u001b[0m. \u001b[1m[\u001b[0mQue reforma la fracción XVII al artículo \u001b[1;36m73\u001b[0m de la Constitución Política de los Estados Unidos Mexicanos.\u001b[1m]\u001b[0m\u001b[1m(\u001b[0m\u001b[4;94mhttp://sil.gobernacion.gob.mx/Librerias/pp_ContenidoAsuntos.php?\u001b[0m\u001b[4;94mSID\u001b[0m\u001b[4;94m=\u001b[0m\u001b[4;94mda50379055d2759108e785b11976eaf9\u001b[0m\u001b[4;94m&\u001b[0m\u001b[4;94mClave\u001b[0m\u001b[4;94m=\u001b[0m\u001b[4;94m4608293\u001b[0m\u001b[4;94m)\u001b[0m\u001b[1m<\u001b[0m\u001b[35m/\u001b[0m\u001b[95mbr\u001b[0m\u001b[1m>\u001b[0m\n",
       "   PRD PRI PAN Sen. Alejandra Lagunes Soto Ruíz, Cámara de Senadores , PVEM, \u001b[1;36m9\u001b[0m/\u001b[1;36m2023\u001b[0m\n"
      ]
     },
     "metadata": {},
     "output_type": "display_data"
    },
    {
     "data": {
      "text/html": [
       "<pre style=\"white-space:pre;overflow-x:auto;line-height:normal;font-family:Menlo,'DejaVu Sans Mono',consolas,'Courier New',monospace\"><span style=\"color: #008080; text-decoration-color: #008080; font-weight: bold\">1</span>. <span style=\"font-weight: bold\">[</span>Que adiciona el artículo <span style=\"color: #008080; text-decoration-color: #008080; font-weight: bold\">73</span> de la Constitución Política de los Estados Unidos Mexicanos, en materia de inteligencia artificial.<span style=\"font-weight: bold\">](</span><span style=\"color: #0000ff; text-decoration-color: #0000ff; text-decoration: underline\">http://sil.gobernacion.gob.mx/Librerias/pp_ContenidoAsuntos.php?SID=da50379055d2759108e785b11976eaf9&amp;Clave=4729867)</span><span style=\"font-weight: bold\">&lt;</span><span style=\"color: #800080; text-decoration-color: #800080\">/</span><span style=\"color: #ff00ff; text-decoration-color: #ff00ff\">br</span><span style=\"font-weight: bold\">&gt;</span>\n",
       "   Dip. Jesús Alberto Velázquez Flores, Cámara de Diputados , PRD, <span style=\"color: #008080; text-decoration-color: #008080; font-weight: bold\">4</span>/<span style=\"color: #008080; text-decoration-color: #008080; font-weight: bold\">2024</span>\n",
       "</pre>\n"
      ],
      "text/plain": [
       "\u001b[1;36m1\u001b[0m. \u001b[1m[\u001b[0mQue adiciona el artículo \u001b[1;36m73\u001b[0m de la Constitución Política de los Estados Unidos Mexicanos, en materia de inteligencia artificial.\u001b[1m]\u001b[0m\u001b[1m(\u001b[0m\u001b[4;94mhttp://sil.gobernacion.gob.mx/Librerias/pp_ContenidoAsuntos.php?\u001b[0m\u001b[4;94mSID\u001b[0m\u001b[4;94m=\u001b[0m\u001b[4;94mda50379055d2759108e785b11976eaf9\u001b[0m\u001b[4;94m&\u001b[0m\u001b[4;94mClave\u001b[0m\u001b[4;94m=\u001b[0m\u001b[4;94m4729867\u001b[0m\u001b[4;94m)\u001b[0m\u001b[1m<\u001b[0m\u001b[35m/\u001b[0m\u001b[95mbr\u001b[0m\u001b[1m>\u001b[0m\n",
       "   Dip. Jesús Alberto Velázquez Flores, Cámara de Diputados , PRD, \u001b[1;36m4\u001b[0m/\u001b[1;36m2024\u001b[0m\n"
      ]
     },
     "metadata": {},
     "output_type": "display_data"
    }
   ],
   "source": [
    "console = Console(width=512)\n",
    "for i,row in df[df.index < \"01/01/2025\"].sort_index(ascending=True).iterrows():\n",
    "    if 'Constitución' in row['subject_text']:\n",
    "        console.print(f\"\"\"\\\n",
    "1. [{row['subject_text']}]({row['subject_url']})</br>\n",
    "   {row['presented_by_text']}, {row['presented_in']} , {row['party']}, {i.month}/{i.year}\"\"\")"
   ]
  },
  {
   "cell_type": "code",
   "execution_count": 13,
   "id": "7dab32ff-52ce-4395-8c06-fcdc5b4fffe4",
   "metadata": {},
   "outputs": [
    {
     "data": {
      "text/html": [
       "<pre style=\"white-space:pre;overflow-x:auto;line-height:normal;font-family:Menlo,'DejaVu Sans Mono',consolas,'Courier New',monospace\"><span style=\"color: #008080; text-decoration-color: #008080; font-weight: bold\">1</span>. <span style=\"font-weight: bold\">[</span>Que expide la Ley que crea la Universidad de Tecnologías de la Información, Comunicaciones e Innovación.<span style=\"font-weight: bold\">](</span><span style=\"color: #0000ff; text-decoration-color: #0000ff; text-decoration: underline\">http://sil.gobernacion.gob.mx/Librerias/pp_ContenidoAsuntos.php?SID=9e87752c7b3a9c94018e2abdc92e7c5b&amp;Clave=4059591)</span><span style=\"font-weight: bold\">&lt;</span><span style=\"color: #800080; text-decoration-color: #800080\">/</span><span style=\"color: #ff00ff; text-decoration-color: #ff00ff\">br</span><span style=\"font-weight: bold\">&gt;</span>\n",
       "   Dip. Carlos Iván Ayala Bobadilla, Comisión Permanente , Morena, <span style=\"color: #008080; text-decoration-color: #008080; font-weight: bold\">8</span>/<span style=\"color: #008080; text-decoration-color: #008080; font-weight: bold\">2020</span>\n",
       "</pre>\n"
      ],
      "text/plain": [
       "\u001b[1;36m1\u001b[0m. \u001b[1m[\u001b[0mQue expide la Ley que crea la Universidad de Tecnologías de la Información, Comunicaciones e Innovación.\u001b[1m]\u001b[0m\u001b[1m(\u001b[0m\u001b[4;94mhttp://sil.gobernacion.gob.mx/Librerias/pp_ContenidoAsuntos.php?\u001b[0m\u001b[4;94mSID\u001b[0m\u001b[4;94m=\u001b[0m\u001b[4;94m9e87752c7b3a9c94018e2abdc92e7c5b\u001b[0m\u001b[4;94m&\u001b[0m\u001b[4;94mClave\u001b[0m\u001b[4;94m=\u001b[0m\u001b[4;94m4059591\u001b[0m\u001b[4;94m)\u001b[0m\u001b[1m<\u001b[0m\u001b[35m/\u001b[0m\u001b[95mbr\u001b[0m\u001b[1m>\u001b[0m\n",
       "   Dip. Carlos Iván Ayala Bobadilla, Comisión Permanente , Morena, \u001b[1;36m8\u001b[0m/\u001b[1;36m2020\u001b[0m\n"
      ]
     },
     "metadata": {},
     "output_type": "display_data"
    },
    {
     "data": {
      "text/html": [
       "<pre style=\"white-space:pre;overflow-x:auto;line-height:normal;font-family:Menlo,'DejaVu Sans Mono',consolas,'Courier New',monospace\"><span style=\"color: #008080; text-decoration-color: #008080; font-weight: bold\">1</span>. <span style=\"font-weight: bold\">[</span>Que expide la Ley para la Regulación Ética de la Inteligencia Artificial y la Robótica.<span style=\"font-weight: bold\">](</span><span style=\"color: #0000ff; text-decoration-color: #0000ff; text-decoration: underline\">http://sil.gobernacion.gob.mx/Librerias/pp_ContenidoAsuntos.php?SID=da50379055d2759108e785b11976eaf9&amp;Clave=4572130)</span><span style=\"font-weight: bold\">&lt;</span><span style=\"color: #800080; text-decoration-color: #800080\">/</span><span style=\"color: #ff00ff; text-decoration-color: #ff00ff\">br</span><span style=\"font-weight: bold\">&gt;</span>\n",
       "   Dip. Ignacio Loyola Vera, Comisión Permanente , PAN, <span style=\"color: #008080; text-decoration-color: #008080; font-weight: bold\">5</span>/<span style=\"color: #008080; text-decoration-color: #008080; font-weight: bold\">2023</span>\n",
       "</pre>\n"
      ],
      "text/plain": [
       "\u001b[1;36m1\u001b[0m. \u001b[1m[\u001b[0mQue expide la Ley para la Regulación Ética de la Inteligencia Artificial y la Robótica.\u001b[1m]\u001b[0m\u001b[1m(\u001b[0m\u001b[4;94mhttp://sil.gobernacion.gob.mx/Librerias/pp_ContenidoAsuntos.php?\u001b[0m\u001b[4;94mSID\u001b[0m\u001b[4;94m=\u001b[0m\u001b[4;94mda50379055d2759108e785b11976eaf9\u001b[0m\u001b[4;94m&\u001b[0m\u001b[4;94mClave\u001b[0m\u001b[4;94m=\u001b[0m\u001b[4;94m4572130\u001b[0m\u001b[4;94m)\u001b[0m\u001b[1m<\u001b[0m\u001b[35m/\u001b[0m\u001b[95mbr\u001b[0m\u001b[1m>\u001b[0m\n",
       "   Dip. Ignacio Loyola Vera, Comisión Permanente , PAN, \u001b[1;36m5\u001b[0m/\u001b[1;36m2023\u001b[0m\n"
      ]
     },
     "metadata": {},
     "output_type": "display_data"
    },
    {
     "data": {
      "text/html": [
       "<pre style=\"white-space:pre;overflow-x:auto;line-height:normal;font-family:Menlo,'DejaVu Sans Mono',consolas,'Courier New',monospace\"><span style=\"color: #008080; text-decoration-color: #008080; font-weight: bold\">1</span>. <span style=\"font-weight: bold\">[</span>Que expide la Ley que Regula el Uso de la Inteligencia Artificial.<span style=\"font-weight: bold\">](</span><span style=\"color: #0000ff; text-decoration-color: #0000ff; text-decoration: underline\">http://sil.gobernacion.gob.mx/Librerias/pp_ContenidoAsuntos.php?SID=da50379055d2759108e785b11976eaf9&amp;Clave=4665732)</span><span style=\"font-weight: bold\">&lt;</span><span style=\"color: #800080; text-decoration-color: #800080\">/</span><span style=\"color: #ff00ff; text-decoration-color: #ff00ff\">br</span><span style=\"font-weight: bold\">&gt;</span>\n",
       "   Sen. Gustavo Enrique Madero Muñoz, Cámara de Senadores , Sin Partido, <span style=\"color: #008080; text-decoration-color: #008080; font-weight: bold\">11</span>/<span style=\"color: #008080; text-decoration-color: #008080; font-weight: bold\">2023</span>\n",
       "</pre>\n"
      ],
      "text/plain": [
       "\u001b[1;36m1\u001b[0m. \u001b[1m[\u001b[0mQue expide la Ley que Regula el Uso de la Inteligencia Artificial.\u001b[1m]\u001b[0m\u001b[1m(\u001b[0m\u001b[4;94mhttp://sil.gobernacion.gob.mx/Librerias/pp_ContenidoAsuntos.php?\u001b[0m\u001b[4;94mSID\u001b[0m\u001b[4;94m=\u001b[0m\u001b[4;94mda50379055d2759108e785b11976eaf9\u001b[0m\u001b[4;94m&\u001b[0m\u001b[4;94mClave\u001b[0m\u001b[4;94m=\u001b[0m\u001b[4;94m4665732\u001b[0m\u001b[4;94m)\u001b[0m\u001b[1m<\u001b[0m\u001b[35m/\u001b[0m\u001b[95mbr\u001b[0m\u001b[1m>\u001b[0m\n",
       "   Sen. Gustavo Enrique Madero Muñoz, Cámara de Senadores , Sin Partido, \u001b[1;36m11\u001b[0m/\u001b[1;36m2023\u001b[0m\n"
      ]
     },
     "metadata": {},
     "output_type": "display_data"
    },
    {
     "data": {
      "text/html": [
       "<pre style=\"white-space:pre;overflow-x:auto;line-height:normal;font-family:Menlo,'DejaVu Sans Mono',consolas,'Courier New',monospace\"><span style=\"color: #008080; text-decoration-color: #008080; font-weight: bold\">1</span>. <span style=\"font-weight: bold\">[</span>Que expide la Ley que crea la Agencia Mexicana para el Desarrollo de la Inteligencia Artificial.<span style=\"font-weight: bold\">](</span><span style=\"color: #0000ff; text-decoration-color: #0000ff; text-decoration: underline\">http://sil.gobernacion.gob.mx/Librerias/pp_ContenidoAsuntos.php?SID=da50379055d2759108e785b11976eaf9&amp;Clave=4673074)</span><span style=\"font-weight: bold\">&lt;</span><span style=\"color: #800080; text-decoration-color: #800080\">/</span><span style=\"color: #ff00ff; text-decoration-color: #ff00ff\">br</span><span style=\"font-weight: bold\">&gt;</span>\n",
       "   Dip. Jaime Bueno Zertuche, Cámara de Diputados , PRI, <span style=\"color: #008080; text-decoration-color: #008080; font-weight: bold\">12</span>/<span style=\"color: #008080; text-decoration-color: #008080; font-weight: bold\">2023</span>\n",
       "</pre>\n"
      ],
      "text/plain": [
       "\u001b[1;36m1\u001b[0m. \u001b[1m[\u001b[0mQue expide la Ley que crea la Agencia Mexicana para el Desarrollo de la Inteligencia Artificial.\u001b[1m]\u001b[0m\u001b[1m(\u001b[0m\u001b[4;94mhttp://sil.gobernacion.gob.mx/Librerias/pp_ContenidoAsuntos.php?\u001b[0m\u001b[4;94mSID\u001b[0m\u001b[4;94m=\u001b[0m\u001b[4;94mda50379055d2759108e785b11976eaf9\u001b[0m\u001b[4;94m&\u001b[0m\u001b[4;94mClave\u001b[0m\u001b[4;94m=\u001b[0m\u001b[4;94m4673074\u001b[0m\u001b[4;94m)\u001b[0m\u001b[1m<\u001b[0m\u001b[35m/\u001b[0m\u001b[95mbr\u001b[0m\u001b[1m>\u001b[0m\n",
       "   Dip. Jaime Bueno Zertuche, Cámara de Diputados , PRI, \u001b[1;36m12\u001b[0m/\u001b[1;36m2023\u001b[0m\n"
      ]
     },
     "metadata": {},
     "output_type": "display_data"
    },
    {
     "data": {
      "text/html": [
       "<pre style=\"white-space:pre;overflow-x:auto;line-height:normal;font-family:Menlo,'DejaVu Sans Mono',consolas,'Courier New',monospace\"><span style=\"color: #008080; text-decoration-color: #008080; font-weight: bold\">1</span>. <span style=\"font-weight: bold\">[</span>Que expide la Ley Federal que regula la Inteligencia Artificial.<span style=\"font-weight: bold\">](</span><span style=\"color: #0000ff; text-decoration-color: #0000ff; text-decoration: underline\">http://sil.gobernacion.gob.mx/Librerias/pp_ContenidoAsuntos.php?SID=da50379055d2759108e785b11976eaf9&amp;Clave=4729480)</span><span style=\"font-weight: bold\">&lt;</span><span style=\"color: #800080; text-decoration-color: #800080\">/</span><span style=\"color: #ff00ff; text-decoration-color: #ff00ff\">br</span><span style=\"font-weight: bold\">&gt;</span>\n",
       "   Sen. Ricardo Monreal Ávila, Cámara de Senadores , Morena, <span style=\"color: #008080; text-decoration-color: #008080; font-weight: bold\">4</span>/<span style=\"color: #008080; text-decoration-color: #008080; font-weight: bold\">2024</span>\n",
       "</pre>\n"
      ],
      "text/plain": [
       "\u001b[1;36m1\u001b[0m. \u001b[1m[\u001b[0mQue expide la Ley Federal que regula la Inteligencia Artificial.\u001b[1m]\u001b[0m\u001b[1m(\u001b[0m\u001b[4;94mhttp://sil.gobernacion.gob.mx/Librerias/pp_ContenidoAsuntos.php?\u001b[0m\u001b[4;94mSID\u001b[0m\u001b[4;94m=\u001b[0m\u001b[4;94mda50379055d2759108e785b11976eaf9\u001b[0m\u001b[4;94m&\u001b[0m\u001b[4;94mClave\u001b[0m\u001b[4;94m=\u001b[0m\u001b[4;94m4729480\u001b[0m\u001b[4;94m)\u001b[0m\u001b[1m<\u001b[0m\u001b[35m/\u001b[0m\u001b[95mbr\u001b[0m\u001b[1m>\u001b[0m\n",
       "   Sen. Ricardo Monreal Ávila, Cámara de Senadores , Morena, \u001b[1;36m4\u001b[0m/\u001b[1;36m2024\u001b[0m\n"
      ]
     },
     "metadata": {},
     "output_type": "display_data"
    }
   ],
   "source": [
    "console = Console(width=512)\n",
    "for i,row in df[df.index < \"01/01/2025\"].sort_index(ascending=True).iterrows():\n",
    "    if 'expide la Ley' in row['subject_text']:\n",
    "        console.print(f\"\"\"\\\n",
    "1. [{row['subject_text']}]({row['subject_url']})</br>\n",
    "   {row['presented_by_text']}, {row['presented_in']} , {row['party']}, {i.month}/{i.year}\"\"\")"
   ]
  },
  {
   "cell_type": "code",
   "execution_count": null,
   "id": "37a62d8d-3492-424a-884b-e0cb29a6cbd8",
   "metadata": {},
   "outputs": [],
   "source": []
  }
 ],
 "metadata": {
  "kernelspec": {
   "display_name": "Python 3 (ipykernel)",
   "language": "python",
   "name": "python3"
  },
  "language_info": {
   "codemirror_mode": {
    "name": "ipython",
    "version": 3
   },
   "file_extension": ".py",
   "mimetype": "text/x-python",
   "name": "python",
   "nbconvert_exporter": "python",
   "pygments_lexer": "ipython3",
   "version": "3.11.4"
  }
 },
 "nbformat": 4,
 "nbformat_minor": 5
}
